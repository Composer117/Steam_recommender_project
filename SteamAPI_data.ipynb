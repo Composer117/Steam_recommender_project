{
 "cells": [
  {
   "cell_type": "code",
   "execution_count": 1,
   "metadata": {
    "collapsed": true,
    "pycharm": {
     "name": "#%%\n"
    }
   },
   "outputs": [],
   "source": [
    "import numpy as np\n",
    "import pandas as pd"
   ]
  },
  {
   "cell_type": "code",
   "execution_count": 2,
   "outputs": [
    {
     "name": "stderr",
     "output_type": "stream",
     "text": [
      "/var/folders/lv/s58_p0_d1b753htjy4stfl2r0000gn/T/ipykernel_20899/3659526043.py:1: DtypeWarning: Columns (19) have mixed types. Specify dtype option on import or set low_memory=False.\n",
      "  steam_data = pd.read_csv(r\"data/steam_games.csv\", sep=\";\")\n"
     ]
    },
    {
     "data": {
      "text/plain": "    App ID                         Name  \\\n0       10               Counter-Strike   \n1  1000000                    ASCENXION   \n2  1000010                  Crown Trick   \n3  1000030  Cook, Serve, Delicious! 3?!   \n4  1000040                         细胞战争   \n\n                                   Short Description               Developer  \\\n0  Play the world's number 1 online action game. ...                   Valve   \n1  ASCENXION is a 2D shoot 'em up game where you ...  IndigoBlue Game Studio   \n2  Enter a labyrinth that moves as you move, wher...            NEXT Studios   \n3  Cook, serve and manage your food truck as you ...     Vertigo Gaming Inc.   \n4  这是一款打击感十足的细胞主题游戏！操作简单但活下去却不简单，“你”作为侵入人体的细菌病毒，通...           DoubleC Games   \n\n                  Publisher                                Genre  \\\n0                     Valve                               Action   \n1  PsychoFlux Entertainment             Action, Adventure, Indie   \n2      Team17, NEXT Studios      Adventure, Indie, RPG, Strategy   \n3       Vertigo Gaming Inc.  Action, Indie, Simulation, Strategy   \n4             DoubleC Games    Action, Casual, Indie, Simulation   \n\n                                                Tags  Type  \\\n0  Action: 5426, FPS: 4831, Multiplayer: 3392, Sh...  game   \n1  \"Shoot Em Up\": 186, Metroidvania: 181, Bullet ...  game   \n2  Rogue-like: 268, Turn-Based Combat: 254, RPG: ...  game   \n3  Typing: 221, Management: 213, Casual: 209, Dif...  game   \n4  Action: 22, Casual: 22, Indie: 21, Simulation: 20  game   \n\n                                          Categories  \\\n0  Multi-player, Valve Anti-Cheat enabled, Online...   \n1  Single-player, Partial Controller Support, Ste...   \n2  Single-player, Partial Controller Support, Ste...   \n3  Multi-player, Single-player, Co-op, Steam Achi...   \n4                                      Single-player   \n\n                     Owners  ...  Price  Initial Price  Discount    CCU  \\\n0  10,000,000 .. 20,000,000  ...    999            999         0  13990   \n1               0 .. 20,000  ...    999            999         0      0   \n2        200,000 .. 500,000  ...    599           1999        70     99   \n3        100,000 .. 200,000  ...   1999           1999         0     76   \n4               0 .. 20,000  ...    199            199         0      0   \n\n                                           Languages            Platforms  \\\n0  English, French, German, Italian, Spanish - Sp...  windows, mac, linux   \n1                English, Korean, Simplified Chinese              windows   \n2  Simplified Chinese, English, Japanese, Traditi...              windows   \n3                                            English         windows, mac   \n4                                 Simplified Chinese              windows   \n\n  Release Date Required Age                            Website  \\\n0    2000/11/1            0                                NaN   \n1   2021/05/14            0                                NaN   \n2   2020/10/16            0                                NaN   \n3   2020/10/14            0  http://www.cookservedelicious.com   \n4   2019/03/30            0                                NaN   \n\n                                        Header Image  \n0  https://cdn.akamai.steamstatic.com/steam/apps/...  \n1  https://cdn.akamai.steamstatic.com/steam/apps/...  \n2  https://cdn.akamai.steamstatic.com/steam/apps/...  \n3  https://cdn.akamai.steamstatic.com/steam/apps/...  \n4  https://cdn.akamai.steamstatic.com/steam/apps/...  \n\n[5 rows x 22 columns]",
      "text/html": "<div>\n<style scoped>\n    .dataframe tbody tr th:only-of-type {\n        vertical-align: middle;\n    }\n\n    .dataframe tbody tr th {\n        vertical-align: top;\n    }\n\n    .dataframe thead th {\n        text-align: right;\n    }\n</style>\n<table border=\"1\" class=\"dataframe\">\n  <thead>\n    <tr style=\"text-align: right;\">\n      <th></th>\n      <th>App ID</th>\n      <th>Name</th>\n      <th>Short Description</th>\n      <th>Developer</th>\n      <th>Publisher</th>\n      <th>Genre</th>\n      <th>Tags</th>\n      <th>Type</th>\n      <th>Categories</th>\n      <th>Owners</th>\n      <th>...</th>\n      <th>Price</th>\n      <th>Initial Price</th>\n      <th>Discount</th>\n      <th>CCU</th>\n      <th>Languages</th>\n      <th>Platforms</th>\n      <th>Release Date</th>\n      <th>Required Age</th>\n      <th>Website</th>\n      <th>Header Image</th>\n    </tr>\n  </thead>\n  <tbody>\n    <tr>\n      <th>0</th>\n      <td>10</td>\n      <td>Counter-Strike</td>\n      <td>Play the world's number 1 online action game. ...</td>\n      <td>Valve</td>\n      <td>Valve</td>\n      <td>Action</td>\n      <td>Action: 5426, FPS: 4831, Multiplayer: 3392, Sh...</td>\n      <td>game</td>\n      <td>Multi-player, Valve Anti-Cheat enabled, Online...</td>\n      <td>10,000,000 .. 20,000,000</td>\n      <td>...</td>\n      <td>999</td>\n      <td>999</td>\n      <td>0</td>\n      <td>13990</td>\n      <td>English, French, German, Italian, Spanish - Sp...</td>\n      <td>windows, mac, linux</td>\n      <td>2000/11/1</td>\n      <td>0</td>\n      <td>NaN</td>\n      <td>https://cdn.akamai.steamstatic.com/steam/apps/...</td>\n    </tr>\n    <tr>\n      <th>1</th>\n      <td>1000000</td>\n      <td>ASCENXION</td>\n      <td>ASCENXION is a 2D shoot 'em up game where you ...</td>\n      <td>IndigoBlue Game Studio</td>\n      <td>PsychoFlux Entertainment</td>\n      <td>Action, Adventure, Indie</td>\n      <td>\"Shoot Em Up\": 186, Metroidvania: 181, Bullet ...</td>\n      <td>game</td>\n      <td>Single-player, Partial Controller Support, Ste...</td>\n      <td>0 .. 20,000</td>\n      <td>...</td>\n      <td>999</td>\n      <td>999</td>\n      <td>0</td>\n      <td>0</td>\n      <td>English, Korean, Simplified Chinese</td>\n      <td>windows</td>\n      <td>2021/05/14</td>\n      <td>0</td>\n      <td>NaN</td>\n      <td>https://cdn.akamai.steamstatic.com/steam/apps/...</td>\n    </tr>\n    <tr>\n      <th>2</th>\n      <td>1000010</td>\n      <td>Crown Trick</td>\n      <td>Enter a labyrinth that moves as you move, wher...</td>\n      <td>NEXT Studios</td>\n      <td>Team17, NEXT Studios</td>\n      <td>Adventure, Indie, RPG, Strategy</td>\n      <td>Rogue-like: 268, Turn-Based Combat: 254, RPG: ...</td>\n      <td>game</td>\n      <td>Single-player, Partial Controller Support, Ste...</td>\n      <td>200,000 .. 500,000</td>\n      <td>...</td>\n      <td>599</td>\n      <td>1999</td>\n      <td>70</td>\n      <td>99</td>\n      <td>Simplified Chinese, English, Japanese, Traditi...</td>\n      <td>windows</td>\n      <td>2020/10/16</td>\n      <td>0</td>\n      <td>NaN</td>\n      <td>https://cdn.akamai.steamstatic.com/steam/apps/...</td>\n    </tr>\n    <tr>\n      <th>3</th>\n      <td>1000030</td>\n      <td>Cook, Serve, Delicious! 3?!</td>\n      <td>Cook, serve and manage your food truck as you ...</td>\n      <td>Vertigo Gaming Inc.</td>\n      <td>Vertigo Gaming Inc.</td>\n      <td>Action, Indie, Simulation, Strategy</td>\n      <td>Typing: 221, Management: 213, Casual: 209, Dif...</td>\n      <td>game</td>\n      <td>Multi-player, Single-player, Co-op, Steam Achi...</td>\n      <td>100,000 .. 200,000</td>\n      <td>...</td>\n      <td>1999</td>\n      <td>1999</td>\n      <td>0</td>\n      <td>76</td>\n      <td>English</td>\n      <td>windows, mac</td>\n      <td>2020/10/14</td>\n      <td>0</td>\n      <td>http://www.cookservedelicious.com</td>\n      <td>https://cdn.akamai.steamstatic.com/steam/apps/...</td>\n    </tr>\n    <tr>\n      <th>4</th>\n      <td>1000040</td>\n      <td>细胞战争</td>\n      <td>这是一款打击感十足的细胞主题游戏！操作简单但活下去却不简单，“你”作为侵入人体的细菌病毒，通...</td>\n      <td>DoubleC Games</td>\n      <td>DoubleC Games</td>\n      <td>Action, Casual, Indie, Simulation</td>\n      <td>Action: 22, Casual: 22, Indie: 21, Simulation: 20</td>\n      <td>game</td>\n      <td>Single-player</td>\n      <td>0 .. 20,000</td>\n      <td>...</td>\n      <td>199</td>\n      <td>199</td>\n      <td>0</td>\n      <td>0</td>\n      <td>Simplified Chinese</td>\n      <td>windows</td>\n      <td>2019/03/30</td>\n      <td>0</td>\n      <td>NaN</td>\n      <td>https://cdn.akamai.steamstatic.com/steam/apps/...</td>\n    </tr>\n  </tbody>\n</table>\n<p>5 rows × 22 columns</p>\n</div>"
     },
     "execution_count": 2,
     "metadata": {},
     "output_type": "execute_result"
    }
   ],
   "source": [
    "steam_data = pd.read_csv(r\"data/steam_games.csv\", sep=\";\")\n",
    "steam_data.head()"
   ],
   "metadata": {
    "collapsed": false,
    "pycharm": {
     "name": "#%%\n"
    }
   }
  },
  {
   "cell_type": "code",
   "execution_count": 3,
   "outputs": [
    {
     "data": {
      "text/plain": "App ID               55691\nName                 55691\nShort Description    55654\nDeveloper            55562\nPublisher            55540\nGenre                55530\nTags                 55556\nType                 55691\nCategories           54721\nOwners               55691\nPositive Reviews     55691\nNegative Reviews     55691\nPrice                55691\nInitial Price        55691\nDiscount             55691\nCCU                  55691\nLanguages            55680\nPlatforms            55691\nRelease Date         55592\nRequired Age         55691\nWebsite              30474\nHeader Image         55691\ndtype: int64"
     },
     "execution_count": 3,
     "metadata": {},
     "output_type": "execute_result"
    }
   ],
   "source": [
    "steam_data.count()"
   ],
   "metadata": {
    "collapsed": false,
    "pycharm": {
     "name": "#%%\n"
    }
   }
  },
  {
   "cell_type": "code",
   "execution_count": 4,
   "outputs": [
    {
     "data": {
      "text/plain": "        App ID                            Name  \\\n0           10                  Counter-Strike   \n1      1000000                       ASCENXION   \n2      1000010                     Crown Trick   \n3      1000030     Cook, Serve, Delicious! 3?!   \n4      1000040                            细胞战争   \n...        ...                             ...   \n55686   999880     NASA's Exoplanet Excursions   \n55687   999890                          Bruken   \n55688   999900               Studio by RADiCAL   \n55689   999930  Fantasy Sino-Japanese War 幻想甲午   \n55690   999990                   Bouncing Hero   \n\n                                       Short Description  \\\n0      Play the world's number 1 online action game. ...   \n1      ASCENXION is a 2D shoot 'em up game where you ...   \n2      Enter a labyrinth that moves as you move, wher...   \n3      Cook, serve and manage your food truck as you ...   \n4      这是一款打击感十足的细胞主题游戏！操作简单但活下去却不简单，“你”作为侵入人体的细菌病毒，通...   \n...                                                  ...   \n55686  Take VR journeys through the amazing TRAPPIST-...   \n55687  Explore a large spherical world, enjoying all ...   \n55688  RADiCAL Studio is a real-time, unlimited motio...   \n55689  You unfortunately passed through the Sino-Japa...   \n55690  Bouncing Hero is an extreme auto-jump platform...   \n\n                                     Genre  \\\n0                                   Action   \n1                 Action, Adventure, Indie   \n2          Adventure, Indie, RPG, Strategy   \n3      Action, Indie, Simulation, Strategy   \n4        Action, Casual, Indie, Simulation   \n...                                    ...   \n55686                            Education   \n55687             Adventure, Casual, Indie   \n55688                 Animation & Modeling   \n55689   Indie, RPG, Strategy, Early Access   \n55690                Action, Casual, Indie   \n\n                                                    Tags  Type  \\\n0      Action: 5426, FPS: 4831, Multiplayer: 3392, Sh...  game   \n1      \"Shoot Em Up\": 186, Metroidvania: 181, Bullet ...  game   \n2      Rogue-like: 268, Turn-Based Combat: 254, RPG: ...  game   \n3      Typing: 221, Management: 213, Casual: 209, Dif...  game   \n4      Action: 22, Casual: 22, Indie: 21, Simulation: 20  game   \n...                                                  ...   ...   \n55686                     Education: 22, VR: 6, Space: 5  game   \n55687               Casual: 21, Indie: 21, Adventure: 20  game   \n55688                   Animation & Modeling: 25, 3D: 13  game   \n55689  Early Access: 21, Indie: 20, RPG: 20, Strategy...  game   \n55690  Action: 42, Casual: 41, Indie: 41, Platformer:...  game   \n\n                                              Categories  \\\n0      Multi-player, Valve Anti-Cheat enabled, Online...   \n1      Single-player, Partial Controller Support, Ste...   \n2      Single-player, Partial Controller Support, Ste...   \n3      Multi-player, Single-player, Co-op, Steam Achi...   \n4                                          Single-player   \n...                                                  ...   \n55686                                                NaN   \n55687                                      Single-player   \n55688                                                NaN   \n55689  Single-player, Partial Controller Support, Ste...   \n55690     Single-player, Steam Achievements, Steam Cloud   \n\n                         Owners  Positive Reviews  Negative Reviews  Price  \\\n0      10,000,000 .. 20,000,000            201215              5199    999   \n1                   0 .. 20,000                27                 5    999   \n2            200,000 .. 500,000              4032               646    599   \n3            100,000 .. 200,000              1575               115   1999   \n4                   0 .. 20,000                 0                 1    199   \n...                         ...               ...               ...    ...   \n55686               0 .. 20,000                12                 3      0   \n55687               0 .. 20,000                 2                 0    299   \n55688          20,000 .. 50,000                12                19      0   \n55689               0 .. 20,000                 2                 2    499   \n55690               0 .. 20,000                10                 0    499   \n\n       Initial Price  Discount    CCU            Platforms  \n0                999         0  13990  windows, mac, linux  \n1                999         0      0              windows  \n2               1999        70     99              windows  \n3               1999         0     76         windows, mac  \n4                199         0      0              windows  \n...              ...       ...    ...                  ...  \n55686              0         0      0              windows  \n55687            299         0      0              windows  \n55688              0         0      0              windows  \n55689            499         0      0              windows  \n55690            499         0      0              windows  \n\n[55691 rows x 15 columns]",
      "text/html": "<div>\n<style scoped>\n    .dataframe tbody tr th:only-of-type {\n        vertical-align: middle;\n    }\n\n    .dataframe tbody tr th {\n        vertical-align: top;\n    }\n\n    .dataframe thead th {\n        text-align: right;\n    }\n</style>\n<table border=\"1\" class=\"dataframe\">\n  <thead>\n    <tr style=\"text-align: right;\">\n      <th></th>\n      <th>App ID</th>\n      <th>Name</th>\n      <th>Short Description</th>\n      <th>Genre</th>\n      <th>Tags</th>\n      <th>Type</th>\n      <th>Categories</th>\n      <th>Owners</th>\n      <th>Positive Reviews</th>\n      <th>Negative Reviews</th>\n      <th>Price</th>\n      <th>Initial Price</th>\n      <th>Discount</th>\n      <th>CCU</th>\n      <th>Platforms</th>\n    </tr>\n  </thead>\n  <tbody>\n    <tr>\n      <th>0</th>\n      <td>10</td>\n      <td>Counter-Strike</td>\n      <td>Play the world's number 1 online action game. ...</td>\n      <td>Action</td>\n      <td>Action: 5426, FPS: 4831, Multiplayer: 3392, Sh...</td>\n      <td>game</td>\n      <td>Multi-player, Valve Anti-Cheat enabled, Online...</td>\n      <td>10,000,000 .. 20,000,000</td>\n      <td>201215</td>\n      <td>5199</td>\n      <td>999</td>\n      <td>999</td>\n      <td>0</td>\n      <td>13990</td>\n      <td>windows, mac, linux</td>\n    </tr>\n    <tr>\n      <th>1</th>\n      <td>1000000</td>\n      <td>ASCENXION</td>\n      <td>ASCENXION is a 2D shoot 'em up game where you ...</td>\n      <td>Action, Adventure, Indie</td>\n      <td>\"Shoot Em Up\": 186, Metroidvania: 181, Bullet ...</td>\n      <td>game</td>\n      <td>Single-player, Partial Controller Support, Ste...</td>\n      <td>0 .. 20,000</td>\n      <td>27</td>\n      <td>5</td>\n      <td>999</td>\n      <td>999</td>\n      <td>0</td>\n      <td>0</td>\n      <td>windows</td>\n    </tr>\n    <tr>\n      <th>2</th>\n      <td>1000010</td>\n      <td>Crown Trick</td>\n      <td>Enter a labyrinth that moves as you move, wher...</td>\n      <td>Adventure, Indie, RPG, Strategy</td>\n      <td>Rogue-like: 268, Turn-Based Combat: 254, RPG: ...</td>\n      <td>game</td>\n      <td>Single-player, Partial Controller Support, Ste...</td>\n      <td>200,000 .. 500,000</td>\n      <td>4032</td>\n      <td>646</td>\n      <td>599</td>\n      <td>1999</td>\n      <td>70</td>\n      <td>99</td>\n      <td>windows</td>\n    </tr>\n    <tr>\n      <th>3</th>\n      <td>1000030</td>\n      <td>Cook, Serve, Delicious! 3?!</td>\n      <td>Cook, serve and manage your food truck as you ...</td>\n      <td>Action, Indie, Simulation, Strategy</td>\n      <td>Typing: 221, Management: 213, Casual: 209, Dif...</td>\n      <td>game</td>\n      <td>Multi-player, Single-player, Co-op, Steam Achi...</td>\n      <td>100,000 .. 200,000</td>\n      <td>1575</td>\n      <td>115</td>\n      <td>1999</td>\n      <td>1999</td>\n      <td>0</td>\n      <td>76</td>\n      <td>windows, mac</td>\n    </tr>\n    <tr>\n      <th>4</th>\n      <td>1000040</td>\n      <td>细胞战争</td>\n      <td>这是一款打击感十足的细胞主题游戏！操作简单但活下去却不简单，“你”作为侵入人体的细菌病毒，通...</td>\n      <td>Action, Casual, Indie, Simulation</td>\n      <td>Action: 22, Casual: 22, Indie: 21, Simulation: 20</td>\n      <td>game</td>\n      <td>Single-player</td>\n      <td>0 .. 20,000</td>\n      <td>0</td>\n      <td>1</td>\n      <td>199</td>\n      <td>199</td>\n      <td>0</td>\n      <td>0</td>\n      <td>windows</td>\n    </tr>\n    <tr>\n      <th>...</th>\n      <td>...</td>\n      <td>...</td>\n      <td>...</td>\n      <td>...</td>\n      <td>...</td>\n      <td>...</td>\n      <td>...</td>\n      <td>...</td>\n      <td>...</td>\n      <td>...</td>\n      <td>...</td>\n      <td>...</td>\n      <td>...</td>\n      <td>...</td>\n      <td>...</td>\n    </tr>\n    <tr>\n      <th>55686</th>\n      <td>999880</td>\n      <td>NASA's Exoplanet Excursions</td>\n      <td>Take VR journeys through the amazing TRAPPIST-...</td>\n      <td>Education</td>\n      <td>Education: 22, VR: 6, Space: 5</td>\n      <td>game</td>\n      <td>NaN</td>\n      <td>0 .. 20,000</td>\n      <td>12</td>\n      <td>3</td>\n      <td>0</td>\n      <td>0</td>\n      <td>0</td>\n      <td>0</td>\n      <td>windows</td>\n    </tr>\n    <tr>\n      <th>55687</th>\n      <td>999890</td>\n      <td>Bruken</td>\n      <td>Explore a large spherical world, enjoying all ...</td>\n      <td>Adventure, Casual, Indie</td>\n      <td>Casual: 21, Indie: 21, Adventure: 20</td>\n      <td>game</td>\n      <td>Single-player</td>\n      <td>0 .. 20,000</td>\n      <td>2</td>\n      <td>0</td>\n      <td>299</td>\n      <td>299</td>\n      <td>0</td>\n      <td>0</td>\n      <td>windows</td>\n    </tr>\n    <tr>\n      <th>55688</th>\n      <td>999900</td>\n      <td>Studio by RADiCAL</td>\n      <td>RADiCAL Studio is a real-time, unlimited motio...</td>\n      <td>Animation &amp; Modeling</td>\n      <td>Animation &amp; Modeling: 25, 3D: 13</td>\n      <td>game</td>\n      <td>NaN</td>\n      <td>20,000 .. 50,000</td>\n      <td>12</td>\n      <td>19</td>\n      <td>0</td>\n      <td>0</td>\n      <td>0</td>\n      <td>0</td>\n      <td>windows</td>\n    </tr>\n    <tr>\n      <th>55689</th>\n      <td>999930</td>\n      <td>Fantasy Sino-Japanese War 幻想甲午</td>\n      <td>You unfortunately passed through the Sino-Japa...</td>\n      <td>Indie, RPG, Strategy, Early Access</td>\n      <td>Early Access: 21, Indie: 20, RPG: 20, Strategy...</td>\n      <td>game</td>\n      <td>Single-player, Partial Controller Support, Ste...</td>\n      <td>0 .. 20,000</td>\n      <td>2</td>\n      <td>2</td>\n      <td>499</td>\n      <td>499</td>\n      <td>0</td>\n      <td>0</td>\n      <td>windows</td>\n    </tr>\n    <tr>\n      <th>55690</th>\n      <td>999990</td>\n      <td>Bouncing Hero</td>\n      <td>Bouncing Hero is an extreme auto-jump platform...</td>\n      <td>Action, Casual, Indie</td>\n      <td>Action: 42, Casual: 41, Indie: 41, Platformer:...</td>\n      <td>game</td>\n      <td>Single-player, Steam Achievements, Steam Cloud</td>\n      <td>0 .. 20,000</td>\n      <td>10</td>\n      <td>0</td>\n      <td>499</td>\n      <td>499</td>\n      <td>0</td>\n      <td>0</td>\n      <td>windows</td>\n    </tr>\n  </tbody>\n</table>\n<p>55691 rows × 15 columns</p>\n</div>"
     },
     "execution_count": 4,
     "metadata": {},
     "output_type": "execute_result"
    }
   ],
   "source": [
    "steam_data = steam_data.drop([\"Developer\", \"Publisher\", \"Required Age\", \"Website\", \"Header Image\", \"Languages\", \"Release Date\"], axis=1, errors=\"ignore\")\n",
    "steam_data"
   ],
   "metadata": {
    "collapsed": false,
    "pycharm": {
     "name": "#%%\n"
    }
   }
  },
  {
   "cell_type": "code",
   "execution_count": 5,
   "outputs": [
    {
     "data": {
      "text/plain": "array(['game', 'hardware'], dtype=object)"
     },
     "execution_count": 5,
     "metadata": {},
     "output_type": "execute_result"
    }
   ],
   "source": [
    "steam_data[\"Type\"].unique()"
   ],
   "metadata": {
    "collapsed": false,
    "pycharm": {
     "name": "#%%\n"
    }
   }
  },
  {
   "cell_type": "code",
   "execution_count": 6,
   "outputs": [
    {
     "data": {
      "text/plain": "        App ID                            Name  \\\n0           10                  Counter-Strike   \n1      1000000                       ASCENXION   \n2      1000010                     Crown Trick   \n3      1000030     Cook, Serve, Delicious! 3?!   \n4      1000040                            细胞战争   \n...        ...                             ...   \n55686   999880     NASA's Exoplanet Excursions   \n55687   999890                          Bruken   \n55688   999900               Studio by RADiCAL   \n55689   999930  Fantasy Sino-Japanese War 幻想甲午   \n55690   999990                   Bouncing Hero   \n\n                                       Short Description  \\\n0      Play the world's number 1 online action game. ...   \n1      ASCENXION is a 2D shoot 'em up game where you ...   \n2      Enter a labyrinth that moves as you move, wher...   \n3      Cook, serve and manage your food truck as you ...   \n4      这是一款打击感十足的细胞主题游戏！操作简单但活下去却不简单，“你”作为侵入人体的细菌病毒，通...   \n...                                                  ...   \n55686  Take VR journeys through the amazing TRAPPIST-...   \n55687  Explore a large spherical world, enjoying all ...   \n55688  RADiCAL Studio is a real-time, unlimited motio...   \n55689  You unfortunately passed through the Sino-Japa...   \n55690  Bouncing Hero is an extreme auto-jump platform...   \n\n                                     Genre  \\\n0                                   Action   \n1                 Action, Adventure, Indie   \n2          Adventure, Indie, RPG, Strategy   \n3      Action, Indie, Simulation, Strategy   \n4        Action, Casual, Indie, Simulation   \n...                                    ...   \n55686                            Education   \n55687             Adventure, Casual, Indie   \n55688                 Animation & Modeling   \n55689   Indie, RPG, Strategy, Early Access   \n55690                Action, Casual, Indie   \n\n                                                    Tags  Type  \\\n0      Action: 5426, FPS: 4831, Multiplayer: 3392, Sh...  game   \n1      \"Shoot Em Up\": 186, Metroidvania: 181, Bullet ...  game   \n2      Rogue-like: 268, Turn-Based Combat: 254, RPG: ...  game   \n3      Typing: 221, Management: 213, Casual: 209, Dif...  game   \n4      Action: 22, Casual: 22, Indie: 21, Simulation: 20  game   \n...                                                  ...   ...   \n55686                     Education: 22, VR: 6, Space: 5  game   \n55687               Casual: 21, Indie: 21, Adventure: 20  game   \n55688                   Animation & Modeling: 25, 3D: 13  game   \n55689  Early Access: 21, Indie: 20, RPG: 20, Strategy...  game   \n55690  Action: 42, Casual: 41, Indie: 41, Platformer:...  game   \n\n                                              Categories  \\\n0      Multi-player, Valve Anti-Cheat enabled, Online...   \n1      Single-player, Partial Controller Support, Ste...   \n2      Single-player, Partial Controller Support, Ste...   \n3      Multi-player, Single-player, Co-op, Steam Achi...   \n4                                          Single-player   \n...                                                  ...   \n55686                                                NaN   \n55687                                      Single-player   \n55688                                                NaN   \n55689  Single-player, Partial Controller Support, Ste...   \n55690     Single-player, Steam Achievements, Steam Cloud   \n\n                         Owners  Positive Reviews  Negative Reviews  Price  \\\n0      10,000,000 .. 20,000,000            201215              5199    999   \n1                   0 .. 20,000                27                 5    999   \n2            200,000 .. 500,000              4032               646    599   \n3            100,000 .. 200,000              1575               115   1999   \n4                   0 .. 20,000                 0                 1    199   \n...                         ...               ...               ...    ...   \n55686               0 .. 20,000                12                 3      0   \n55687               0 .. 20,000                 2                 0    299   \n55688          20,000 .. 50,000                12                19      0   \n55689               0 .. 20,000                 2                 2    499   \n55690               0 .. 20,000                10                 0    499   \n\n       Initial Price  Discount    CCU            Platforms  \n0                999         0  13990  windows, mac, linux  \n1                999         0      0              windows  \n2               1999        70     99              windows  \n3               1999         0     76         windows, mac  \n4                199         0      0              windows  \n...              ...       ...    ...                  ...  \n55686              0         0      0              windows  \n55687            299         0      0              windows  \n55688              0         0      0              windows  \n55689            499         0      0              windows  \n55690            499         0      0              windows  \n\n[55690 rows x 15 columns]",
      "text/html": "<div>\n<style scoped>\n    .dataframe tbody tr th:only-of-type {\n        vertical-align: middle;\n    }\n\n    .dataframe tbody tr th {\n        vertical-align: top;\n    }\n\n    .dataframe thead th {\n        text-align: right;\n    }\n</style>\n<table border=\"1\" class=\"dataframe\">\n  <thead>\n    <tr style=\"text-align: right;\">\n      <th></th>\n      <th>App ID</th>\n      <th>Name</th>\n      <th>Short Description</th>\n      <th>Genre</th>\n      <th>Tags</th>\n      <th>Type</th>\n      <th>Categories</th>\n      <th>Owners</th>\n      <th>Positive Reviews</th>\n      <th>Negative Reviews</th>\n      <th>Price</th>\n      <th>Initial Price</th>\n      <th>Discount</th>\n      <th>CCU</th>\n      <th>Platforms</th>\n    </tr>\n  </thead>\n  <tbody>\n    <tr>\n      <th>0</th>\n      <td>10</td>\n      <td>Counter-Strike</td>\n      <td>Play the world's number 1 online action game. ...</td>\n      <td>Action</td>\n      <td>Action: 5426, FPS: 4831, Multiplayer: 3392, Sh...</td>\n      <td>game</td>\n      <td>Multi-player, Valve Anti-Cheat enabled, Online...</td>\n      <td>10,000,000 .. 20,000,000</td>\n      <td>201215</td>\n      <td>5199</td>\n      <td>999</td>\n      <td>999</td>\n      <td>0</td>\n      <td>13990</td>\n      <td>windows, mac, linux</td>\n    </tr>\n    <tr>\n      <th>1</th>\n      <td>1000000</td>\n      <td>ASCENXION</td>\n      <td>ASCENXION is a 2D shoot 'em up game where you ...</td>\n      <td>Action, Adventure, Indie</td>\n      <td>\"Shoot Em Up\": 186, Metroidvania: 181, Bullet ...</td>\n      <td>game</td>\n      <td>Single-player, Partial Controller Support, Ste...</td>\n      <td>0 .. 20,000</td>\n      <td>27</td>\n      <td>5</td>\n      <td>999</td>\n      <td>999</td>\n      <td>0</td>\n      <td>0</td>\n      <td>windows</td>\n    </tr>\n    <tr>\n      <th>2</th>\n      <td>1000010</td>\n      <td>Crown Trick</td>\n      <td>Enter a labyrinth that moves as you move, wher...</td>\n      <td>Adventure, Indie, RPG, Strategy</td>\n      <td>Rogue-like: 268, Turn-Based Combat: 254, RPG: ...</td>\n      <td>game</td>\n      <td>Single-player, Partial Controller Support, Ste...</td>\n      <td>200,000 .. 500,000</td>\n      <td>4032</td>\n      <td>646</td>\n      <td>599</td>\n      <td>1999</td>\n      <td>70</td>\n      <td>99</td>\n      <td>windows</td>\n    </tr>\n    <tr>\n      <th>3</th>\n      <td>1000030</td>\n      <td>Cook, Serve, Delicious! 3?!</td>\n      <td>Cook, serve and manage your food truck as you ...</td>\n      <td>Action, Indie, Simulation, Strategy</td>\n      <td>Typing: 221, Management: 213, Casual: 209, Dif...</td>\n      <td>game</td>\n      <td>Multi-player, Single-player, Co-op, Steam Achi...</td>\n      <td>100,000 .. 200,000</td>\n      <td>1575</td>\n      <td>115</td>\n      <td>1999</td>\n      <td>1999</td>\n      <td>0</td>\n      <td>76</td>\n      <td>windows, mac</td>\n    </tr>\n    <tr>\n      <th>4</th>\n      <td>1000040</td>\n      <td>细胞战争</td>\n      <td>这是一款打击感十足的细胞主题游戏！操作简单但活下去却不简单，“你”作为侵入人体的细菌病毒，通...</td>\n      <td>Action, Casual, Indie, Simulation</td>\n      <td>Action: 22, Casual: 22, Indie: 21, Simulation: 20</td>\n      <td>game</td>\n      <td>Single-player</td>\n      <td>0 .. 20,000</td>\n      <td>0</td>\n      <td>1</td>\n      <td>199</td>\n      <td>199</td>\n      <td>0</td>\n      <td>0</td>\n      <td>windows</td>\n    </tr>\n    <tr>\n      <th>...</th>\n      <td>...</td>\n      <td>...</td>\n      <td>...</td>\n      <td>...</td>\n      <td>...</td>\n      <td>...</td>\n      <td>...</td>\n      <td>...</td>\n      <td>...</td>\n      <td>...</td>\n      <td>...</td>\n      <td>...</td>\n      <td>...</td>\n      <td>...</td>\n      <td>...</td>\n    </tr>\n    <tr>\n      <th>55686</th>\n      <td>999880</td>\n      <td>NASA's Exoplanet Excursions</td>\n      <td>Take VR journeys through the amazing TRAPPIST-...</td>\n      <td>Education</td>\n      <td>Education: 22, VR: 6, Space: 5</td>\n      <td>game</td>\n      <td>NaN</td>\n      <td>0 .. 20,000</td>\n      <td>12</td>\n      <td>3</td>\n      <td>0</td>\n      <td>0</td>\n      <td>0</td>\n      <td>0</td>\n      <td>windows</td>\n    </tr>\n    <tr>\n      <th>55687</th>\n      <td>999890</td>\n      <td>Bruken</td>\n      <td>Explore a large spherical world, enjoying all ...</td>\n      <td>Adventure, Casual, Indie</td>\n      <td>Casual: 21, Indie: 21, Adventure: 20</td>\n      <td>game</td>\n      <td>Single-player</td>\n      <td>0 .. 20,000</td>\n      <td>2</td>\n      <td>0</td>\n      <td>299</td>\n      <td>299</td>\n      <td>0</td>\n      <td>0</td>\n      <td>windows</td>\n    </tr>\n    <tr>\n      <th>55688</th>\n      <td>999900</td>\n      <td>Studio by RADiCAL</td>\n      <td>RADiCAL Studio is a real-time, unlimited motio...</td>\n      <td>Animation &amp; Modeling</td>\n      <td>Animation &amp; Modeling: 25, 3D: 13</td>\n      <td>game</td>\n      <td>NaN</td>\n      <td>20,000 .. 50,000</td>\n      <td>12</td>\n      <td>19</td>\n      <td>0</td>\n      <td>0</td>\n      <td>0</td>\n      <td>0</td>\n      <td>windows</td>\n    </tr>\n    <tr>\n      <th>55689</th>\n      <td>999930</td>\n      <td>Fantasy Sino-Japanese War 幻想甲午</td>\n      <td>You unfortunately passed through the Sino-Japa...</td>\n      <td>Indie, RPG, Strategy, Early Access</td>\n      <td>Early Access: 21, Indie: 20, RPG: 20, Strategy...</td>\n      <td>game</td>\n      <td>Single-player, Partial Controller Support, Ste...</td>\n      <td>0 .. 20,000</td>\n      <td>2</td>\n      <td>2</td>\n      <td>499</td>\n      <td>499</td>\n      <td>0</td>\n      <td>0</td>\n      <td>windows</td>\n    </tr>\n    <tr>\n      <th>55690</th>\n      <td>999990</td>\n      <td>Bouncing Hero</td>\n      <td>Bouncing Hero is an extreme auto-jump platform...</td>\n      <td>Action, Casual, Indie</td>\n      <td>Action: 42, Casual: 41, Indie: 41, Platformer:...</td>\n      <td>game</td>\n      <td>Single-player, Steam Achievements, Steam Cloud</td>\n      <td>0 .. 20,000</td>\n      <td>10</td>\n      <td>0</td>\n      <td>499</td>\n      <td>499</td>\n      <td>0</td>\n      <td>0</td>\n      <td>windows</td>\n    </tr>\n  </tbody>\n</table>\n<p>55690 rows × 15 columns</p>\n</div>"
     },
     "execution_count": 6,
     "metadata": {},
     "output_type": "execute_result"
    }
   ],
   "source": [
    "steam_data = steam_data[steam_data[\"Type\"] == \"game\"]\n",
    "steam_data"
   ],
   "metadata": {
    "collapsed": false,
    "pycharm": {
     "name": "#%%\n"
    }
   }
  },
  {
   "cell_type": "code",
   "execution_count": 7,
   "outputs": [
    {
     "name": "stderr",
     "output_type": "stream",
     "text": [
      "/var/folders/lv/s58_p0_d1b753htjy4stfl2r0000gn/T/ipykernel_20899/2794876527.py:1: SettingWithCopyWarning: \n",
      "A value is trying to be set on a copy of a slice from a DataFrame\n",
      "\n",
      "See the caveats in the documentation: https://pandas.pydata.org/pandas-docs/stable/user_guide/indexing.html#returning-a-view-versus-a-copy\n",
      "  steam_data.drop([\"Type\"], axis=1, errors=\"ignore\", inplace=True)\n"
     ]
    }
   ],
   "source": [
    "steam_data.drop([\"Type\"], axis=1, errors=\"ignore\", inplace=True)"
   ],
   "metadata": {
    "collapsed": false,
    "pycharm": {
     "name": "#%%\n"
    }
   }
  },
  {
   "cell_type": "code",
   "execution_count": 8,
   "outputs": [
    {
     "data": {
      "text/plain": "        App ID                            Name  \\\n0           10                  Counter-Strike   \n1      1000000                       ASCENXION   \n2      1000010                     Crown Trick   \n3      1000030     Cook, Serve, Delicious! 3?!   \n4      1000040                            细胞战争   \n...        ...                             ...   \n55686   999880     NASA's Exoplanet Excursions   \n55687   999890                          Bruken   \n55688   999900               Studio by RADiCAL   \n55689   999930  Fantasy Sino-Japanese War 幻想甲午   \n55690   999990                   Bouncing Hero   \n\n                                       Short Description  \\\n0      Play the world's number 1 online action game. ...   \n1      ASCENXION is a 2D shoot 'em up game where you ...   \n2      Enter a labyrinth that moves as you move, wher...   \n3      Cook, serve and manage your food truck as you ...   \n4      这是一款打击感十足的细胞主题游戏！操作简单但活下去却不简单，“你”作为侵入人体的细菌病毒，通...   \n...                                                  ...   \n55686  Take VR journeys through the amazing TRAPPIST-...   \n55687  Explore a large spherical world, enjoying all ...   \n55688  RADiCAL Studio is a real-time, unlimited motio...   \n55689  You unfortunately passed through the Sino-Japa...   \n55690  Bouncing Hero is an extreme auto-jump platform...   \n\n                                     Genre  \\\n0                                   Action   \n1                 Action, Adventure, Indie   \n2          Adventure, Indie, RPG, Strategy   \n3      Action, Indie, Simulation, Strategy   \n4        Action, Casual, Indie, Simulation   \n...                                    ...   \n55686                            Education   \n55687             Adventure, Casual, Indie   \n55688                 Animation & Modeling   \n55689   Indie, RPG, Strategy, Early Access   \n55690                Action, Casual, Indie   \n\n                                                    Tags  \\\n0      Action: 5426, FPS: 4831, Multiplayer: 3392, Sh...   \n1      \"Shoot Em Up\": 186, Metroidvania: 181, Bullet ...   \n2      Rogue-like: 268, Turn-Based Combat: 254, RPG: ...   \n3      Typing: 221, Management: 213, Casual: 209, Dif...   \n4      Action: 22, Casual: 22, Indie: 21, Simulation: 20   \n...                                                  ...   \n55686                     Education: 22, VR: 6, Space: 5   \n55687               Casual: 21, Indie: 21, Adventure: 20   \n55688                   Animation & Modeling: 25, 3D: 13   \n55689  Early Access: 21, Indie: 20, RPG: 20, Strategy...   \n55690  Action: 42, Casual: 41, Indie: 41, Platformer:...   \n\n                                              Categories  \\\n0      Multi-player, Valve Anti-Cheat enabled, Online...   \n1      Single-player, Partial Controller Support, Ste...   \n2      Single-player, Partial Controller Support, Ste...   \n3      Multi-player, Single-player, Co-op, Steam Achi...   \n4                                          Single-player   \n...                                                  ...   \n55686                                                NaN   \n55687                                      Single-player   \n55688                                                NaN   \n55689  Single-player, Partial Controller Support, Ste...   \n55690     Single-player, Steam Achievements, Steam Cloud   \n\n                         Owners  Positive Reviews  Negative Reviews  Price  \\\n0      10,000,000 .. 20,000,000            201215              5199    999   \n1                   0 .. 20,000                27                 5    999   \n2            200,000 .. 500,000              4032               646    599   \n3            100,000 .. 200,000              1575               115   1999   \n4                   0 .. 20,000                 0                 1    199   \n...                         ...               ...               ...    ...   \n55686               0 .. 20,000                12                 3      0   \n55687               0 .. 20,000                 2                 0    299   \n55688          20,000 .. 50,000                12                19      0   \n55689               0 .. 20,000                 2                 2    499   \n55690               0 .. 20,000                10                 0    499   \n\n       Initial Price  Discount    CCU            Platforms  \n0                999         0  13990  windows, mac, linux  \n1                999         0      0              windows  \n2               1999        70     99              windows  \n3               1999         0     76         windows, mac  \n4                199         0      0              windows  \n...              ...       ...    ...                  ...  \n55686              0         0      0              windows  \n55687            299         0      0              windows  \n55688              0         0      0              windows  \n55689            499         0      0              windows  \n55690            499         0      0              windows  \n\n[55690 rows x 14 columns]",
      "text/html": "<div>\n<style scoped>\n    .dataframe tbody tr th:only-of-type {\n        vertical-align: middle;\n    }\n\n    .dataframe tbody tr th {\n        vertical-align: top;\n    }\n\n    .dataframe thead th {\n        text-align: right;\n    }\n</style>\n<table border=\"1\" class=\"dataframe\">\n  <thead>\n    <tr style=\"text-align: right;\">\n      <th></th>\n      <th>App ID</th>\n      <th>Name</th>\n      <th>Short Description</th>\n      <th>Genre</th>\n      <th>Tags</th>\n      <th>Categories</th>\n      <th>Owners</th>\n      <th>Positive Reviews</th>\n      <th>Negative Reviews</th>\n      <th>Price</th>\n      <th>Initial Price</th>\n      <th>Discount</th>\n      <th>CCU</th>\n      <th>Platforms</th>\n    </tr>\n  </thead>\n  <tbody>\n    <tr>\n      <th>0</th>\n      <td>10</td>\n      <td>Counter-Strike</td>\n      <td>Play the world's number 1 online action game. ...</td>\n      <td>Action</td>\n      <td>Action: 5426, FPS: 4831, Multiplayer: 3392, Sh...</td>\n      <td>Multi-player, Valve Anti-Cheat enabled, Online...</td>\n      <td>10,000,000 .. 20,000,000</td>\n      <td>201215</td>\n      <td>5199</td>\n      <td>999</td>\n      <td>999</td>\n      <td>0</td>\n      <td>13990</td>\n      <td>windows, mac, linux</td>\n    </tr>\n    <tr>\n      <th>1</th>\n      <td>1000000</td>\n      <td>ASCENXION</td>\n      <td>ASCENXION is a 2D shoot 'em up game where you ...</td>\n      <td>Action, Adventure, Indie</td>\n      <td>\"Shoot Em Up\": 186, Metroidvania: 181, Bullet ...</td>\n      <td>Single-player, Partial Controller Support, Ste...</td>\n      <td>0 .. 20,000</td>\n      <td>27</td>\n      <td>5</td>\n      <td>999</td>\n      <td>999</td>\n      <td>0</td>\n      <td>0</td>\n      <td>windows</td>\n    </tr>\n    <tr>\n      <th>2</th>\n      <td>1000010</td>\n      <td>Crown Trick</td>\n      <td>Enter a labyrinth that moves as you move, wher...</td>\n      <td>Adventure, Indie, RPG, Strategy</td>\n      <td>Rogue-like: 268, Turn-Based Combat: 254, RPG: ...</td>\n      <td>Single-player, Partial Controller Support, Ste...</td>\n      <td>200,000 .. 500,000</td>\n      <td>4032</td>\n      <td>646</td>\n      <td>599</td>\n      <td>1999</td>\n      <td>70</td>\n      <td>99</td>\n      <td>windows</td>\n    </tr>\n    <tr>\n      <th>3</th>\n      <td>1000030</td>\n      <td>Cook, Serve, Delicious! 3?!</td>\n      <td>Cook, serve and manage your food truck as you ...</td>\n      <td>Action, Indie, Simulation, Strategy</td>\n      <td>Typing: 221, Management: 213, Casual: 209, Dif...</td>\n      <td>Multi-player, Single-player, Co-op, Steam Achi...</td>\n      <td>100,000 .. 200,000</td>\n      <td>1575</td>\n      <td>115</td>\n      <td>1999</td>\n      <td>1999</td>\n      <td>0</td>\n      <td>76</td>\n      <td>windows, mac</td>\n    </tr>\n    <tr>\n      <th>4</th>\n      <td>1000040</td>\n      <td>细胞战争</td>\n      <td>这是一款打击感十足的细胞主题游戏！操作简单但活下去却不简单，“你”作为侵入人体的细菌病毒，通...</td>\n      <td>Action, Casual, Indie, Simulation</td>\n      <td>Action: 22, Casual: 22, Indie: 21, Simulation: 20</td>\n      <td>Single-player</td>\n      <td>0 .. 20,000</td>\n      <td>0</td>\n      <td>1</td>\n      <td>199</td>\n      <td>199</td>\n      <td>0</td>\n      <td>0</td>\n      <td>windows</td>\n    </tr>\n    <tr>\n      <th>...</th>\n      <td>...</td>\n      <td>...</td>\n      <td>...</td>\n      <td>...</td>\n      <td>...</td>\n      <td>...</td>\n      <td>...</td>\n      <td>...</td>\n      <td>...</td>\n      <td>...</td>\n      <td>...</td>\n      <td>...</td>\n      <td>...</td>\n      <td>...</td>\n    </tr>\n    <tr>\n      <th>55686</th>\n      <td>999880</td>\n      <td>NASA's Exoplanet Excursions</td>\n      <td>Take VR journeys through the amazing TRAPPIST-...</td>\n      <td>Education</td>\n      <td>Education: 22, VR: 6, Space: 5</td>\n      <td>NaN</td>\n      <td>0 .. 20,000</td>\n      <td>12</td>\n      <td>3</td>\n      <td>0</td>\n      <td>0</td>\n      <td>0</td>\n      <td>0</td>\n      <td>windows</td>\n    </tr>\n    <tr>\n      <th>55687</th>\n      <td>999890</td>\n      <td>Bruken</td>\n      <td>Explore a large spherical world, enjoying all ...</td>\n      <td>Adventure, Casual, Indie</td>\n      <td>Casual: 21, Indie: 21, Adventure: 20</td>\n      <td>Single-player</td>\n      <td>0 .. 20,000</td>\n      <td>2</td>\n      <td>0</td>\n      <td>299</td>\n      <td>299</td>\n      <td>0</td>\n      <td>0</td>\n      <td>windows</td>\n    </tr>\n    <tr>\n      <th>55688</th>\n      <td>999900</td>\n      <td>Studio by RADiCAL</td>\n      <td>RADiCAL Studio is a real-time, unlimited motio...</td>\n      <td>Animation &amp; Modeling</td>\n      <td>Animation &amp; Modeling: 25, 3D: 13</td>\n      <td>NaN</td>\n      <td>20,000 .. 50,000</td>\n      <td>12</td>\n      <td>19</td>\n      <td>0</td>\n      <td>0</td>\n      <td>0</td>\n      <td>0</td>\n      <td>windows</td>\n    </tr>\n    <tr>\n      <th>55689</th>\n      <td>999930</td>\n      <td>Fantasy Sino-Japanese War 幻想甲午</td>\n      <td>You unfortunately passed through the Sino-Japa...</td>\n      <td>Indie, RPG, Strategy, Early Access</td>\n      <td>Early Access: 21, Indie: 20, RPG: 20, Strategy...</td>\n      <td>Single-player, Partial Controller Support, Ste...</td>\n      <td>0 .. 20,000</td>\n      <td>2</td>\n      <td>2</td>\n      <td>499</td>\n      <td>499</td>\n      <td>0</td>\n      <td>0</td>\n      <td>windows</td>\n    </tr>\n    <tr>\n      <th>55690</th>\n      <td>999990</td>\n      <td>Bouncing Hero</td>\n      <td>Bouncing Hero is an extreme auto-jump platform...</td>\n      <td>Action, Casual, Indie</td>\n      <td>Action: 42, Casual: 41, Indie: 41, Platformer:...</td>\n      <td>Single-player, Steam Achievements, Steam Cloud</td>\n      <td>0 .. 20,000</td>\n      <td>10</td>\n      <td>0</td>\n      <td>499</td>\n      <td>499</td>\n      <td>0</td>\n      <td>0</td>\n      <td>windows</td>\n    </tr>\n  </tbody>\n</table>\n<p>55690 rows × 14 columns</p>\n</div>"
     },
     "execution_count": 8,
     "metadata": {},
     "output_type": "execute_result"
    }
   ],
   "source": [
    "steam_data"
   ],
   "metadata": {
    "collapsed": false,
    "pycharm": {
     "name": "#%%\n"
    }
   }
  },
  {
   "cell_type": "code",
   "execution_count": 9,
   "outputs": [
    {
     "name": "stderr",
     "output_type": "stream",
     "text": [
      "/var/folders/lv/s58_p0_d1b753htjy4stfl2r0000gn/T/ipykernel_20899/1141045079.py:1: SettingWithCopyWarning: \n",
      "A value is trying to be set on a copy of a slice from a DataFrame.\n",
      "Try using .loc[row_indexer,col_indexer] = value instead\n",
      "\n",
      "See the caveats in the documentation: https://pandas.pydata.org/pandas-docs/stable/user_guide/indexing.html#returning-a-view-versus-a-copy\n",
      "  steam_data[\"Tags\"] = steam_data[\"Tags\"].str.replace(\": [0-9]*\", \"\", regex=True)\n"
     ]
    }
   ],
   "source": [
    "steam_data[\"Tags\"] = steam_data[\"Tags\"].str.replace(\": [0-9]*\", \"\", regex=True)"
   ],
   "metadata": {
    "collapsed": false,
    "pycharm": {
     "name": "#%%\n"
    }
   }
  },
  {
   "cell_type": "code",
   "execution_count": 10,
   "outputs": [
    {
     "data": {
      "text/plain": "        App ID                            Name  \\\n0           10                  Counter-Strike   \n1      1000000                       ASCENXION   \n2      1000010                     Crown Trick   \n3      1000030     Cook, Serve, Delicious! 3?!   \n4      1000040                            细胞战争   \n...        ...                             ...   \n55686   999880     NASA's Exoplanet Excursions   \n55687   999890                          Bruken   \n55688   999900               Studio by RADiCAL   \n55689   999930  Fantasy Sino-Japanese War 幻想甲午   \n55690   999990                   Bouncing Hero   \n\n                                       Short Description  \\\n0      Play the world's number 1 online action game. ...   \n1      ASCENXION is a 2D shoot 'em up game where you ...   \n2      Enter a labyrinth that moves as you move, wher...   \n3      Cook, serve and manage your food truck as you ...   \n4      这是一款打击感十足的细胞主题游戏！操作简单但活下去却不简单，“你”作为侵入人体的细菌病毒，通...   \n...                                                  ...   \n55686  Take VR journeys through the amazing TRAPPIST-...   \n55687  Explore a large spherical world, enjoying all ...   \n55688  RADiCAL Studio is a real-time, unlimited motio...   \n55689  You unfortunately passed through the Sino-Japa...   \n55690  Bouncing Hero is an extreme auto-jump platform...   \n\n                                     Genre  \\\n0                                   Action   \n1                 Action, Adventure, Indie   \n2          Adventure, Indie, RPG, Strategy   \n3      Action, Indie, Simulation, Strategy   \n4        Action, Casual, Indie, Simulation   \n...                                    ...   \n55686                            Education   \n55687             Adventure, Casual, Indie   \n55688                 Animation & Modeling   \n55689   Indie, RPG, Strategy, Early Access   \n55690                Action, Casual, Indie   \n\n                                                    Tags  \\\n0      Action, FPS, Multiplayer, Shooter, Classic, Te...   \n1      \"Shoot Em Up\", Metroidvania, Bullet Hell, Side...   \n2      Rogue-like, Turn-Based Combat, RPG, Perma Deat...   \n3      Typing, Management, Casual, Difficult, Arcade,...   \n4                      Action, Casual, Indie, Simulation   \n...                                                  ...   \n55686                               Education, VR, Space   \n55687                           Casual, Indie, Adventure   \n55688                           Animation & Modeling, 3D   \n55689                 Early Access, Indie, RPG, Strategy   \n55690  Action, Casual, Indie, Platformer, Precision P...   \n\n                                              Categories  \\\n0      Multi-player, Valve Anti-Cheat enabled, Online...   \n1      Single-player, Partial Controller Support, Ste...   \n2      Single-player, Partial Controller Support, Ste...   \n3      Multi-player, Single-player, Co-op, Steam Achi...   \n4                                          Single-player   \n...                                                  ...   \n55686                                                NaN   \n55687                                      Single-player   \n55688                                                NaN   \n55689  Single-player, Partial Controller Support, Ste...   \n55690     Single-player, Steam Achievements, Steam Cloud   \n\n                         Owners  Positive Reviews  Negative Reviews  Price  \\\n0      10,000,000 .. 20,000,000            201215              5199    999   \n1                   0 .. 20,000                27                 5    999   \n2            200,000 .. 500,000              4032               646    599   \n3            100,000 .. 200,000              1575               115   1999   \n4                   0 .. 20,000                 0                 1    199   \n...                         ...               ...               ...    ...   \n55686               0 .. 20,000                12                 3      0   \n55687               0 .. 20,000                 2                 0    299   \n55688          20,000 .. 50,000                12                19      0   \n55689               0 .. 20,000                 2                 2    499   \n55690               0 .. 20,000                10                 0    499   \n\n       Initial Price  Discount    CCU            Platforms  \n0                999         0  13990  windows, mac, linux  \n1                999         0      0              windows  \n2               1999        70     99              windows  \n3               1999         0     76         windows, mac  \n4                199         0      0              windows  \n...              ...       ...    ...                  ...  \n55686              0         0      0              windows  \n55687            299         0      0              windows  \n55688              0         0      0              windows  \n55689            499         0      0              windows  \n55690            499         0      0              windows  \n\n[55690 rows x 14 columns]",
      "text/html": "<div>\n<style scoped>\n    .dataframe tbody tr th:only-of-type {\n        vertical-align: middle;\n    }\n\n    .dataframe tbody tr th {\n        vertical-align: top;\n    }\n\n    .dataframe thead th {\n        text-align: right;\n    }\n</style>\n<table border=\"1\" class=\"dataframe\">\n  <thead>\n    <tr style=\"text-align: right;\">\n      <th></th>\n      <th>App ID</th>\n      <th>Name</th>\n      <th>Short Description</th>\n      <th>Genre</th>\n      <th>Tags</th>\n      <th>Categories</th>\n      <th>Owners</th>\n      <th>Positive Reviews</th>\n      <th>Negative Reviews</th>\n      <th>Price</th>\n      <th>Initial Price</th>\n      <th>Discount</th>\n      <th>CCU</th>\n      <th>Platforms</th>\n    </tr>\n  </thead>\n  <tbody>\n    <tr>\n      <th>0</th>\n      <td>10</td>\n      <td>Counter-Strike</td>\n      <td>Play the world's number 1 online action game. ...</td>\n      <td>Action</td>\n      <td>Action, FPS, Multiplayer, Shooter, Classic, Te...</td>\n      <td>Multi-player, Valve Anti-Cheat enabled, Online...</td>\n      <td>10,000,000 .. 20,000,000</td>\n      <td>201215</td>\n      <td>5199</td>\n      <td>999</td>\n      <td>999</td>\n      <td>0</td>\n      <td>13990</td>\n      <td>windows, mac, linux</td>\n    </tr>\n    <tr>\n      <th>1</th>\n      <td>1000000</td>\n      <td>ASCENXION</td>\n      <td>ASCENXION is a 2D shoot 'em up game where you ...</td>\n      <td>Action, Adventure, Indie</td>\n      <td>\"Shoot Em Up\", Metroidvania, Bullet Hell, Side...</td>\n      <td>Single-player, Partial Controller Support, Ste...</td>\n      <td>0 .. 20,000</td>\n      <td>27</td>\n      <td>5</td>\n      <td>999</td>\n      <td>999</td>\n      <td>0</td>\n      <td>0</td>\n      <td>windows</td>\n    </tr>\n    <tr>\n      <th>2</th>\n      <td>1000010</td>\n      <td>Crown Trick</td>\n      <td>Enter a labyrinth that moves as you move, wher...</td>\n      <td>Adventure, Indie, RPG, Strategy</td>\n      <td>Rogue-like, Turn-Based Combat, RPG, Perma Deat...</td>\n      <td>Single-player, Partial Controller Support, Ste...</td>\n      <td>200,000 .. 500,000</td>\n      <td>4032</td>\n      <td>646</td>\n      <td>599</td>\n      <td>1999</td>\n      <td>70</td>\n      <td>99</td>\n      <td>windows</td>\n    </tr>\n    <tr>\n      <th>3</th>\n      <td>1000030</td>\n      <td>Cook, Serve, Delicious! 3?!</td>\n      <td>Cook, serve and manage your food truck as you ...</td>\n      <td>Action, Indie, Simulation, Strategy</td>\n      <td>Typing, Management, Casual, Difficult, Arcade,...</td>\n      <td>Multi-player, Single-player, Co-op, Steam Achi...</td>\n      <td>100,000 .. 200,000</td>\n      <td>1575</td>\n      <td>115</td>\n      <td>1999</td>\n      <td>1999</td>\n      <td>0</td>\n      <td>76</td>\n      <td>windows, mac</td>\n    </tr>\n    <tr>\n      <th>4</th>\n      <td>1000040</td>\n      <td>细胞战争</td>\n      <td>这是一款打击感十足的细胞主题游戏！操作简单但活下去却不简单，“你”作为侵入人体的细菌病毒，通...</td>\n      <td>Action, Casual, Indie, Simulation</td>\n      <td>Action, Casual, Indie, Simulation</td>\n      <td>Single-player</td>\n      <td>0 .. 20,000</td>\n      <td>0</td>\n      <td>1</td>\n      <td>199</td>\n      <td>199</td>\n      <td>0</td>\n      <td>0</td>\n      <td>windows</td>\n    </tr>\n    <tr>\n      <th>...</th>\n      <td>...</td>\n      <td>...</td>\n      <td>...</td>\n      <td>...</td>\n      <td>...</td>\n      <td>...</td>\n      <td>...</td>\n      <td>...</td>\n      <td>...</td>\n      <td>...</td>\n      <td>...</td>\n      <td>...</td>\n      <td>...</td>\n      <td>...</td>\n    </tr>\n    <tr>\n      <th>55686</th>\n      <td>999880</td>\n      <td>NASA's Exoplanet Excursions</td>\n      <td>Take VR journeys through the amazing TRAPPIST-...</td>\n      <td>Education</td>\n      <td>Education, VR, Space</td>\n      <td>NaN</td>\n      <td>0 .. 20,000</td>\n      <td>12</td>\n      <td>3</td>\n      <td>0</td>\n      <td>0</td>\n      <td>0</td>\n      <td>0</td>\n      <td>windows</td>\n    </tr>\n    <tr>\n      <th>55687</th>\n      <td>999890</td>\n      <td>Bruken</td>\n      <td>Explore a large spherical world, enjoying all ...</td>\n      <td>Adventure, Casual, Indie</td>\n      <td>Casual, Indie, Adventure</td>\n      <td>Single-player</td>\n      <td>0 .. 20,000</td>\n      <td>2</td>\n      <td>0</td>\n      <td>299</td>\n      <td>299</td>\n      <td>0</td>\n      <td>0</td>\n      <td>windows</td>\n    </tr>\n    <tr>\n      <th>55688</th>\n      <td>999900</td>\n      <td>Studio by RADiCAL</td>\n      <td>RADiCAL Studio is a real-time, unlimited motio...</td>\n      <td>Animation &amp; Modeling</td>\n      <td>Animation &amp; Modeling, 3D</td>\n      <td>NaN</td>\n      <td>20,000 .. 50,000</td>\n      <td>12</td>\n      <td>19</td>\n      <td>0</td>\n      <td>0</td>\n      <td>0</td>\n      <td>0</td>\n      <td>windows</td>\n    </tr>\n    <tr>\n      <th>55689</th>\n      <td>999930</td>\n      <td>Fantasy Sino-Japanese War 幻想甲午</td>\n      <td>You unfortunately passed through the Sino-Japa...</td>\n      <td>Indie, RPG, Strategy, Early Access</td>\n      <td>Early Access, Indie, RPG, Strategy</td>\n      <td>Single-player, Partial Controller Support, Ste...</td>\n      <td>0 .. 20,000</td>\n      <td>2</td>\n      <td>2</td>\n      <td>499</td>\n      <td>499</td>\n      <td>0</td>\n      <td>0</td>\n      <td>windows</td>\n    </tr>\n    <tr>\n      <th>55690</th>\n      <td>999990</td>\n      <td>Bouncing Hero</td>\n      <td>Bouncing Hero is an extreme auto-jump platform...</td>\n      <td>Action, Casual, Indie</td>\n      <td>Action, Casual, Indie, Platformer, Precision P...</td>\n      <td>Single-player, Steam Achievements, Steam Cloud</td>\n      <td>0 .. 20,000</td>\n      <td>10</td>\n      <td>0</td>\n      <td>499</td>\n      <td>499</td>\n      <td>0</td>\n      <td>0</td>\n      <td>windows</td>\n    </tr>\n  </tbody>\n</table>\n<p>55690 rows × 14 columns</p>\n</div>"
     },
     "execution_count": 10,
     "metadata": {},
     "output_type": "execute_result"
    }
   ],
   "source": [
    "steam_data"
   ],
   "metadata": {
    "collapsed": false,
    "pycharm": {
     "name": "#%%\n"
    }
   }
  },
  {
   "cell_type": "code",
   "execution_count": 11,
   "outputs": [
    {
     "name": "stderr",
     "output_type": "stream",
     "text": [
      "/var/folders/lv/s58_p0_d1b753htjy4stfl2r0000gn/T/ipykernel_20899/1617534828.py:1: SettingWithCopyWarning: \n",
      "A value is trying to be set on a copy of a slice from a DataFrame.\n",
      "Try using .loc[row_indexer,col_indexer] = value instead\n",
      "\n",
      "See the caveats in the documentation: https://pandas.pydata.org/pandas-docs/stable/user_guide/indexing.html#returning-a-view-versus-a-copy\n",
      "  steam_data[\"Owners\"] = (steam_data[\"Owners\"].str.replace(\",\", \"\").str.split(\" .. \").str[0].astype(\"int\") + steam_data[\"Owners\"].str.replace(\",\", \"\").str.split(\" .. \").str[1].astype(\"int\"))/2\n"
     ]
    }
   ],
   "source": [
    "steam_data[\"Owners\"] = (steam_data[\"Owners\"].str.replace(\",\", \"\").str.split(\" .. \").str[0].astype(\"int\") + steam_data[\"Owners\"].str.replace(\",\", \"\").str.split(\" .. \").str[1].astype(\"int\"))/2"
   ],
   "metadata": {
    "collapsed": false,
    "pycharm": {
     "name": "#%%\n"
    }
   }
  },
  {
   "cell_type": "code",
   "execution_count": 12,
   "outputs": [
    {
     "data": {
      "text/plain": "        App ID                            Name  \\\n0           10                  Counter-Strike   \n1      1000000                       ASCENXION   \n2      1000010                     Crown Trick   \n3      1000030     Cook, Serve, Delicious! 3?!   \n4      1000040                            细胞战争   \n...        ...                             ...   \n55686   999880     NASA's Exoplanet Excursions   \n55687   999890                          Bruken   \n55688   999900               Studio by RADiCAL   \n55689   999930  Fantasy Sino-Japanese War 幻想甲午   \n55690   999990                   Bouncing Hero   \n\n                                       Short Description  \\\n0      Play the world's number 1 online action game. ...   \n1      ASCENXION is a 2D shoot 'em up game where you ...   \n2      Enter a labyrinth that moves as you move, wher...   \n3      Cook, serve and manage your food truck as you ...   \n4      这是一款打击感十足的细胞主题游戏！操作简单但活下去却不简单，“你”作为侵入人体的细菌病毒，通...   \n...                                                  ...   \n55686  Take VR journeys through the amazing TRAPPIST-...   \n55687  Explore a large spherical world, enjoying all ...   \n55688  RADiCAL Studio is a real-time, unlimited motio...   \n55689  You unfortunately passed through the Sino-Japa...   \n55690  Bouncing Hero is an extreme auto-jump platform...   \n\n                                     Genre  \\\n0                                   Action   \n1                 Action, Adventure, Indie   \n2          Adventure, Indie, RPG, Strategy   \n3      Action, Indie, Simulation, Strategy   \n4        Action, Casual, Indie, Simulation   \n...                                    ...   \n55686                            Education   \n55687             Adventure, Casual, Indie   \n55688                 Animation & Modeling   \n55689   Indie, RPG, Strategy, Early Access   \n55690                Action, Casual, Indie   \n\n                                                    Tags  \\\n0      Action, FPS, Multiplayer, Shooter, Classic, Te...   \n1      \"Shoot Em Up\", Metroidvania, Bullet Hell, Side...   \n2      Rogue-like, Turn-Based Combat, RPG, Perma Deat...   \n3      Typing, Management, Casual, Difficult, Arcade,...   \n4                      Action, Casual, Indie, Simulation   \n...                                                  ...   \n55686                               Education, VR, Space   \n55687                           Casual, Indie, Adventure   \n55688                           Animation & Modeling, 3D   \n55689                 Early Access, Indie, RPG, Strategy   \n55690  Action, Casual, Indie, Platformer, Precision P...   \n\n                                              Categories      Owners  \\\n0      Multi-player, Valve Anti-Cheat enabled, Online...  15000000.0   \n1      Single-player, Partial Controller Support, Ste...     10000.0   \n2      Single-player, Partial Controller Support, Ste...    350000.0   \n3      Multi-player, Single-player, Co-op, Steam Achi...    150000.0   \n4                                          Single-player     10000.0   \n...                                                  ...         ...   \n55686                                                NaN     10000.0   \n55687                                      Single-player     10000.0   \n55688                                                NaN     35000.0   \n55689  Single-player, Partial Controller Support, Ste...     10000.0   \n55690     Single-player, Steam Achievements, Steam Cloud     10000.0   \n\n       Positive Reviews  Negative Reviews  Price  Initial Price  Discount  \\\n0                201215              5199    999            999         0   \n1                    27                 5    999            999         0   \n2                  4032               646    599           1999        70   \n3                  1575               115   1999           1999         0   \n4                     0                 1    199            199         0   \n...                 ...               ...    ...            ...       ...   \n55686                12                 3      0              0         0   \n55687                 2                 0    299            299         0   \n55688                12                19      0              0         0   \n55689                 2                 2    499            499         0   \n55690                10                 0    499            499         0   \n\n         CCU            Platforms  \n0      13990  windows, mac, linux  \n1          0              windows  \n2         99              windows  \n3         76         windows, mac  \n4          0              windows  \n...      ...                  ...  \n55686      0              windows  \n55687      0              windows  \n55688      0              windows  \n55689      0              windows  \n55690      0              windows  \n\n[55690 rows x 14 columns]",
      "text/html": "<div>\n<style scoped>\n    .dataframe tbody tr th:only-of-type {\n        vertical-align: middle;\n    }\n\n    .dataframe tbody tr th {\n        vertical-align: top;\n    }\n\n    .dataframe thead th {\n        text-align: right;\n    }\n</style>\n<table border=\"1\" class=\"dataframe\">\n  <thead>\n    <tr style=\"text-align: right;\">\n      <th></th>\n      <th>App ID</th>\n      <th>Name</th>\n      <th>Short Description</th>\n      <th>Genre</th>\n      <th>Tags</th>\n      <th>Categories</th>\n      <th>Owners</th>\n      <th>Positive Reviews</th>\n      <th>Negative Reviews</th>\n      <th>Price</th>\n      <th>Initial Price</th>\n      <th>Discount</th>\n      <th>CCU</th>\n      <th>Platforms</th>\n    </tr>\n  </thead>\n  <tbody>\n    <tr>\n      <th>0</th>\n      <td>10</td>\n      <td>Counter-Strike</td>\n      <td>Play the world's number 1 online action game. ...</td>\n      <td>Action</td>\n      <td>Action, FPS, Multiplayer, Shooter, Classic, Te...</td>\n      <td>Multi-player, Valve Anti-Cheat enabled, Online...</td>\n      <td>15000000.0</td>\n      <td>201215</td>\n      <td>5199</td>\n      <td>999</td>\n      <td>999</td>\n      <td>0</td>\n      <td>13990</td>\n      <td>windows, mac, linux</td>\n    </tr>\n    <tr>\n      <th>1</th>\n      <td>1000000</td>\n      <td>ASCENXION</td>\n      <td>ASCENXION is a 2D shoot 'em up game where you ...</td>\n      <td>Action, Adventure, Indie</td>\n      <td>\"Shoot Em Up\", Metroidvania, Bullet Hell, Side...</td>\n      <td>Single-player, Partial Controller Support, Ste...</td>\n      <td>10000.0</td>\n      <td>27</td>\n      <td>5</td>\n      <td>999</td>\n      <td>999</td>\n      <td>0</td>\n      <td>0</td>\n      <td>windows</td>\n    </tr>\n    <tr>\n      <th>2</th>\n      <td>1000010</td>\n      <td>Crown Trick</td>\n      <td>Enter a labyrinth that moves as you move, wher...</td>\n      <td>Adventure, Indie, RPG, Strategy</td>\n      <td>Rogue-like, Turn-Based Combat, RPG, Perma Deat...</td>\n      <td>Single-player, Partial Controller Support, Ste...</td>\n      <td>350000.0</td>\n      <td>4032</td>\n      <td>646</td>\n      <td>599</td>\n      <td>1999</td>\n      <td>70</td>\n      <td>99</td>\n      <td>windows</td>\n    </tr>\n    <tr>\n      <th>3</th>\n      <td>1000030</td>\n      <td>Cook, Serve, Delicious! 3?!</td>\n      <td>Cook, serve and manage your food truck as you ...</td>\n      <td>Action, Indie, Simulation, Strategy</td>\n      <td>Typing, Management, Casual, Difficult, Arcade,...</td>\n      <td>Multi-player, Single-player, Co-op, Steam Achi...</td>\n      <td>150000.0</td>\n      <td>1575</td>\n      <td>115</td>\n      <td>1999</td>\n      <td>1999</td>\n      <td>0</td>\n      <td>76</td>\n      <td>windows, mac</td>\n    </tr>\n    <tr>\n      <th>4</th>\n      <td>1000040</td>\n      <td>细胞战争</td>\n      <td>这是一款打击感十足的细胞主题游戏！操作简单但活下去却不简单，“你”作为侵入人体的细菌病毒，通...</td>\n      <td>Action, Casual, Indie, Simulation</td>\n      <td>Action, Casual, Indie, Simulation</td>\n      <td>Single-player</td>\n      <td>10000.0</td>\n      <td>0</td>\n      <td>1</td>\n      <td>199</td>\n      <td>199</td>\n      <td>0</td>\n      <td>0</td>\n      <td>windows</td>\n    </tr>\n    <tr>\n      <th>...</th>\n      <td>...</td>\n      <td>...</td>\n      <td>...</td>\n      <td>...</td>\n      <td>...</td>\n      <td>...</td>\n      <td>...</td>\n      <td>...</td>\n      <td>...</td>\n      <td>...</td>\n      <td>...</td>\n      <td>...</td>\n      <td>...</td>\n      <td>...</td>\n    </tr>\n    <tr>\n      <th>55686</th>\n      <td>999880</td>\n      <td>NASA's Exoplanet Excursions</td>\n      <td>Take VR journeys through the amazing TRAPPIST-...</td>\n      <td>Education</td>\n      <td>Education, VR, Space</td>\n      <td>NaN</td>\n      <td>10000.0</td>\n      <td>12</td>\n      <td>3</td>\n      <td>0</td>\n      <td>0</td>\n      <td>0</td>\n      <td>0</td>\n      <td>windows</td>\n    </tr>\n    <tr>\n      <th>55687</th>\n      <td>999890</td>\n      <td>Bruken</td>\n      <td>Explore a large spherical world, enjoying all ...</td>\n      <td>Adventure, Casual, Indie</td>\n      <td>Casual, Indie, Adventure</td>\n      <td>Single-player</td>\n      <td>10000.0</td>\n      <td>2</td>\n      <td>0</td>\n      <td>299</td>\n      <td>299</td>\n      <td>0</td>\n      <td>0</td>\n      <td>windows</td>\n    </tr>\n    <tr>\n      <th>55688</th>\n      <td>999900</td>\n      <td>Studio by RADiCAL</td>\n      <td>RADiCAL Studio is a real-time, unlimited motio...</td>\n      <td>Animation &amp; Modeling</td>\n      <td>Animation &amp; Modeling, 3D</td>\n      <td>NaN</td>\n      <td>35000.0</td>\n      <td>12</td>\n      <td>19</td>\n      <td>0</td>\n      <td>0</td>\n      <td>0</td>\n      <td>0</td>\n      <td>windows</td>\n    </tr>\n    <tr>\n      <th>55689</th>\n      <td>999930</td>\n      <td>Fantasy Sino-Japanese War 幻想甲午</td>\n      <td>You unfortunately passed through the Sino-Japa...</td>\n      <td>Indie, RPG, Strategy, Early Access</td>\n      <td>Early Access, Indie, RPG, Strategy</td>\n      <td>Single-player, Partial Controller Support, Ste...</td>\n      <td>10000.0</td>\n      <td>2</td>\n      <td>2</td>\n      <td>499</td>\n      <td>499</td>\n      <td>0</td>\n      <td>0</td>\n      <td>windows</td>\n    </tr>\n    <tr>\n      <th>55690</th>\n      <td>999990</td>\n      <td>Bouncing Hero</td>\n      <td>Bouncing Hero is an extreme auto-jump platform...</td>\n      <td>Action, Casual, Indie</td>\n      <td>Action, Casual, Indie, Platformer, Precision P...</td>\n      <td>Single-player, Steam Achievements, Steam Cloud</td>\n      <td>10000.0</td>\n      <td>10</td>\n      <td>0</td>\n      <td>499</td>\n      <td>499</td>\n      <td>0</td>\n      <td>0</td>\n      <td>windows</td>\n    </tr>\n  </tbody>\n</table>\n<p>55690 rows × 14 columns</p>\n</div>"
     },
     "execution_count": 12,
     "metadata": {},
     "output_type": "execute_result"
    }
   ],
   "source": [
    "steam_data"
   ],
   "metadata": {
    "collapsed": false,
    "pycharm": {
     "name": "#%%\n"
    }
   }
  },
  {
   "cell_type": "code",
   "execution_count": 13,
   "outputs": [
    {
     "data": {
      "text/plain": "App ID               55690\nName                 55690\nShort Description    55653\nGenre                55530\nTags                 55555\nCategories           54720\nOwners               55690\nPositive Reviews     55690\nNegative Reviews     55690\nPrice                55690\nInitial Price        55690\nDiscount             55690\nCCU                  55690\nPlatforms            55690\ndtype: int64"
     },
     "execution_count": 13,
     "metadata": {},
     "output_type": "execute_result"
    }
   ],
   "source": [
    "steam_data.count()"
   ],
   "metadata": {
    "collapsed": false,
    "pycharm": {
     "name": "#%%\n"
    }
   }
  },
  {
   "cell_type": "code",
   "execution_count": 14,
   "outputs": [
    {
     "data": {
      "text/plain": "App ID               54720\nName                 54720\nShort Description    54700\nGenre                54584\nTags                 54588\nCategories           54720\nOwners               54720\nPositive Reviews     54720\nNegative Reviews     54720\nPrice                54720\nInitial Price        54720\nDiscount             54720\nCCU                  54720\nPlatforms            54720\ndtype: int64"
     },
     "execution_count": 14,
     "metadata": {},
     "output_type": "execute_result"
    }
   ],
   "source": [
    "steam_data = steam_data[steam_data[\"Categories\"].isna() == False]\n",
    "steam_data.count()"
   ],
   "metadata": {
    "collapsed": false,
    "pycharm": {
     "name": "#%%\n"
    }
   }
  },
  {
   "cell_type": "code",
   "execution_count": 15,
   "outputs": [
    {
     "name": "stderr",
     "output_type": "stream",
     "text": [
      "/var/folders/lv/s58_p0_d1b753htjy4stfl2r0000gn/T/ipykernel_20899/3026595737.py:2: SettingWithCopyWarning: \n",
      "A value is trying to be set on a copy of a slice from a DataFrame\n",
      "\n",
      "See the caveats in the documentation: https://pandas.pydata.org/pandas-docs/stable/user_guide/indexing.html#returning-a-view-versus-a-copy\n",
      "  steam_data.drop([\"Tags\", \"Platforms\"], axis=1, errors=\"ignore\", inplace=True)\n"
     ]
    }
   ],
   "source": [
    "# steam_data[\"Genre\"].str.split(\",\", expand=True)\n",
    "steam_data.drop([\"Tags\", \"Platforms\"], axis=1, errors=\"ignore\", inplace=True)"
   ],
   "metadata": {
    "collapsed": false,
    "pycharm": {
     "name": "#%%\n"
    }
   }
  },
  {
   "cell_type": "code",
   "execution_count": 16,
   "outputs": [
    {
     "data": {
      "text/plain": "        App ID                            Name  \\\n0           10                  Counter-Strike   \n1      1000000                       ASCENXION   \n2      1000010                     Crown Trick   \n3      1000030     Cook, Serve, Delicious! 3?!   \n4      1000040                            细胞战争   \n...        ...                             ...   \n55683   999830                          Becalm   \n55685   999860                  Enemy On Board   \n55687   999890                          Bruken   \n55689   999930  Fantasy Sino-Japanese War 幻想甲午   \n55690   999990                   Bouncing Hero   \n\n                                       Short Description  \\\n0      Play the world's number 1 online action game. ...   \n1      ASCENXION is a 2D shoot 'em up game where you ...   \n2      Enter a labyrinth that moves as you move, wher...   \n3      Cook, serve and manage your food truck as you ...   \n4      这是一款打击感十足的细胞主题游戏！操作简单但活下去却不简单，“你”作为侵入人体的细菌病毒，通...   \n...                                                  ...   \n55683  Fancy a relaxing drift through magical waters?...   \n55685  Online (6v2) social deduction game that will r...   \n55687  Explore a large spherical world, enjoying all ...   \n55689  You unfortunately passed through the Sino-Japa...   \n55690  Bouncing Hero is an extreme auto-jump platform...   \n\n                                                   Genre  \\\n0                                                 Action   \n1                               Action, Adventure, Indie   \n2                        Adventure, Indie, RPG, Strategy   \n3                    Action, Indie, Simulation, Strategy   \n4                      Action, Casual, Indie, Simulation   \n...                                                  ...   \n55683                        Casual, Free to Play, Indie   \n55685  Action, Casual, Free to Play, Indie, Early Access   \n55687                           Adventure, Casual, Indie   \n55689                 Indie, RPG, Strategy, Early Access   \n55690                              Action, Casual, Indie   \n\n                                              Categories      Owners  \\\n0      Multi-player, Valve Anti-Cheat enabled, Online...  15000000.0   \n1      Single-player, Partial Controller Support, Ste...     10000.0   \n2      Single-player, Partial Controller Support, Ste...    350000.0   \n3      Multi-player, Single-player, Co-op, Steam Achi...    150000.0   \n4                                          Single-player     10000.0   \n...                                                  ...         ...   \n55683             Single-player, Full controller support     75000.0   \n55685  Multi-player, Co-op, Online PvP, Online Co-op,...    150000.0   \n55687                                      Single-player     10000.0   \n55689  Single-player, Partial Controller Support, Ste...     10000.0   \n55690     Single-player, Steam Achievements, Steam Cloud     10000.0   \n\n       Positive Reviews  Negative Reviews  Price  Initial Price  Discount  \\\n0                201215              5199    999            999         0   \n1                    27                 5    999            999         0   \n2                  4032               646    599           1999        70   \n3                  1575               115   1999           1999         0   \n4                     0                 1    199            199         0   \n...                 ...               ...    ...            ...       ...   \n55683               284                51      0              0         0   \n55685              1146               423      0              0         0   \n55687                 2                 0    299            299         0   \n55689                 2                 2    499            499         0   \n55690                10                 0    499            499         0   \n\n         CCU  \n0      13990  \n1          0  \n2         99  \n3         76  \n4          0  \n...      ...  \n55683      0  \n55685      0  \n55687      0  \n55689      0  \n55690      0  \n\n[54720 rows x 12 columns]",
      "text/html": "<div>\n<style scoped>\n    .dataframe tbody tr th:only-of-type {\n        vertical-align: middle;\n    }\n\n    .dataframe tbody tr th {\n        vertical-align: top;\n    }\n\n    .dataframe thead th {\n        text-align: right;\n    }\n</style>\n<table border=\"1\" class=\"dataframe\">\n  <thead>\n    <tr style=\"text-align: right;\">\n      <th></th>\n      <th>App ID</th>\n      <th>Name</th>\n      <th>Short Description</th>\n      <th>Genre</th>\n      <th>Categories</th>\n      <th>Owners</th>\n      <th>Positive Reviews</th>\n      <th>Negative Reviews</th>\n      <th>Price</th>\n      <th>Initial Price</th>\n      <th>Discount</th>\n      <th>CCU</th>\n    </tr>\n  </thead>\n  <tbody>\n    <tr>\n      <th>0</th>\n      <td>10</td>\n      <td>Counter-Strike</td>\n      <td>Play the world's number 1 online action game. ...</td>\n      <td>Action</td>\n      <td>Multi-player, Valve Anti-Cheat enabled, Online...</td>\n      <td>15000000.0</td>\n      <td>201215</td>\n      <td>5199</td>\n      <td>999</td>\n      <td>999</td>\n      <td>0</td>\n      <td>13990</td>\n    </tr>\n    <tr>\n      <th>1</th>\n      <td>1000000</td>\n      <td>ASCENXION</td>\n      <td>ASCENXION is a 2D shoot 'em up game where you ...</td>\n      <td>Action, Adventure, Indie</td>\n      <td>Single-player, Partial Controller Support, Ste...</td>\n      <td>10000.0</td>\n      <td>27</td>\n      <td>5</td>\n      <td>999</td>\n      <td>999</td>\n      <td>0</td>\n      <td>0</td>\n    </tr>\n    <tr>\n      <th>2</th>\n      <td>1000010</td>\n      <td>Crown Trick</td>\n      <td>Enter a labyrinth that moves as you move, wher...</td>\n      <td>Adventure, Indie, RPG, Strategy</td>\n      <td>Single-player, Partial Controller Support, Ste...</td>\n      <td>350000.0</td>\n      <td>4032</td>\n      <td>646</td>\n      <td>599</td>\n      <td>1999</td>\n      <td>70</td>\n      <td>99</td>\n    </tr>\n    <tr>\n      <th>3</th>\n      <td>1000030</td>\n      <td>Cook, Serve, Delicious! 3?!</td>\n      <td>Cook, serve and manage your food truck as you ...</td>\n      <td>Action, Indie, Simulation, Strategy</td>\n      <td>Multi-player, Single-player, Co-op, Steam Achi...</td>\n      <td>150000.0</td>\n      <td>1575</td>\n      <td>115</td>\n      <td>1999</td>\n      <td>1999</td>\n      <td>0</td>\n      <td>76</td>\n    </tr>\n    <tr>\n      <th>4</th>\n      <td>1000040</td>\n      <td>细胞战争</td>\n      <td>这是一款打击感十足的细胞主题游戏！操作简单但活下去却不简单，“你”作为侵入人体的细菌病毒，通...</td>\n      <td>Action, Casual, Indie, Simulation</td>\n      <td>Single-player</td>\n      <td>10000.0</td>\n      <td>0</td>\n      <td>1</td>\n      <td>199</td>\n      <td>199</td>\n      <td>0</td>\n      <td>0</td>\n    </tr>\n    <tr>\n      <th>...</th>\n      <td>...</td>\n      <td>...</td>\n      <td>...</td>\n      <td>...</td>\n      <td>...</td>\n      <td>...</td>\n      <td>...</td>\n      <td>...</td>\n      <td>...</td>\n      <td>...</td>\n      <td>...</td>\n      <td>...</td>\n    </tr>\n    <tr>\n      <th>55683</th>\n      <td>999830</td>\n      <td>Becalm</td>\n      <td>Fancy a relaxing drift through magical waters?...</td>\n      <td>Casual, Free to Play, Indie</td>\n      <td>Single-player, Full controller support</td>\n      <td>75000.0</td>\n      <td>284</td>\n      <td>51</td>\n      <td>0</td>\n      <td>0</td>\n      <td>0</td>\n      <td>0</td>\n    </tr>\n    <tr>\n      <th>55685</th>\n      <td>999860</td>\n      <td>Enemy On Board</td>\n      <td>Online (6v2) social deduction game that will r...</td>\n      <td>Action, Casual, Free to Play, Indie, Early Access</td>\n      <td>Multi-player, Co-op, Online PvP, Online Co-op,...</td>\n      <td>150000.0</td>\n      <td>1146</td>\n      <td>423</td>\n      <td>0</td>\n      <td>0</td>\n      <td>0</td>\n      <td>0</td>\n    </tr>\n    <tr>\n      <th>55687</th>\n      <td>999890</td>\n      <td>Bruken</td>\n      <td>Explore a large spherical world, enjoying all ...</td>\n      <td>Adventure, Casual, Indie</td>\n      <td>Single-player</td>\n      <td>10000.0</td>\n      <td>2</td>\n      <td>0</td>\n      <td>299</td>\n      <td>299</td>\n      <td>0</td>\n      <td>0</td>\n    </tr>\n    <tr>\n      <th>55689</th>\n      <td>999930</td>\n      <td>Fantasy Sino-Japanese War 幻想甲午</td>\n      <td>You unfortunately passed through the Sino-Japa...</td>\n      <td>Indie, RPG, Strategy, Early Access</td>\n      <td>Single-player, Partial Controller Support, Ste...</td>\n      <td>10000.0</td>\n      <td>2</td>\n      <td>2</td>\n      <td>499</td>\n      <td>499</td>\n      <td>0</td>\n      <td>0</td>\n    </tr>\n    <tr>\n      <th>55690</th>\n      <td>999990</td>\n      <td>Bouncing Hero</td>\n      <td>Bouncing Hero is an extreme auto-jump platform...</td>\n      <td>Action, Casual, Indie</td>\n      <td>Single-player, Steam Achievements, Steam Cloud</td>\n      <td>10000.0</td>\n      <td>10</td>\n      <td>0</td>\n      <td>499</td>\n      <td>499</td>\n      <td>0</td>\n      <td>0</td>\n    </tr>\n  </tbody>\n</table>\n<p>54720 rows × 12 columns</p>\n</div>"
     },
     "execution_count": 16,
     "metadata": {},
     "output_type": "execute_result"
    }
   ],
   "source": [
    "steam_data"
   ],
   "metadata": {
    "collapsed": false,
    "pycharm": {
     "name": "#%%\n"
    }
   }
  },
  {
   "cell_type": "code",
   "execution_count": 17,
   "outputs": [
    {
     "name": "stderr",
     "output_type": "stream",
     "text": [
      "/var/folders/lv/s58_p0_d1b753htjy4stfl2r0000gn/T/ipykernel_20899/4276310385.py:5: SettingWithCopyWarning: \n",
      "A value is trying to be set on a copy of a slice from a DataFrame.\n",
      "Try using .loc[row_indexer,col_indexer] = value instead\n",
      "\n",
      "See the caveats in the documentation: https://pandas.pydata.org/pandas-docs/stable/user_guide/indexing.html#returning-a-view-versus-a-copy\n",
      "  steam_data[\"Is Multiplayer\"] = steam_data.apply(lambda row: categorize_multiplayer(row), axis=1)\n"
     ]
    },
    {
     "data": {
      "text/plain": "        App ID                            Name  \\\n0           10                  Counter-Strike   \n1      1000000                       ASCENXION   \n2      1000010                     Crown Trick   \n3      1000030     Cook, Serve, Delicious! 3?!   \n4      1000040                            细胞战争   \n...        ...                             ...   \n55683   999830                          Becalm   \n55685   999860                  Enemy On Board   \n55687   999890                          Bruken   \n55689   999930  Fantasy Sino-Japanese War 幻想甲午   \n55690   999990                   Bouncing Hero   \n\n                                       Short Description  \\\n0      Play the world's number 1 online action game. ...   \n1      ASCENXION is a 2D shoot 'em up game where you ...   \n2      Enter a labyrinth that moves as you move, wher...   \n3      Cook, serve and manage your food truck as you ...   \n4      这是一款打击感十足的细胞主题游戏！操作简单但活下去却不简单，“你”作为侵入人体的细菌病毒，通...   \n...                                                  ...   \n55683  Fancy a relaxing drift through magical waters?...   \n55685  Online (6v2) social deduction game that will r...   \n55687  Explore a large spherical world, enjoying all ...   \n55689  You unfortunately passed through the Sino-Japa...   \n55690  Bouncing Hero is an extreme auto-jump platform...   \n\n                                                   Genre  \\\n0                                                 Action   \n1                               Action, Adventure, Indie   \n2                        Adventure, Indie, RPG, Strategy   \n3                    Action, Indie, Simulation, Strategy   \n4                      Action, Casual, Indie, Simulation   \n...                                                  ...   \n55683                        Casual, Free to Play, Indie   \n55685  Action, Casual, Free to Play, Indie, Early Access   \n55687                           Adventure, Casual, Indie   \n55689                 Indie, RPG, Strategy, Early Access   \n55690                              Action, Casual, Indie   \n\n                                              Categories      Owners  \\\n0      Multi-player, Valve Anti-Cheat enabled, Online...  15000000.0   \n1      Single-player, Partial Controller Support, Ste...     10000.0   \n2      Single-player, Partial Controller Support, Ste...    350000.0   \n3      Multi-player, Single-player, Co-op, Steam Achi...    150000.0   \n4                                          Single-player     10000.0   \n...                                                  ...         ...   \n55683             Single-player, Full controller support     75000.0   \n55685  Multi-player, Co-op, Online PvP, Online Co-op,...    150000.0   \n55687                                      Single-player     10000.0   \n55689  Single-player, Partial Controller Support, Ste...     10000.0   \n55690     Single-player, Steam Achievements, Steam Cloud     10000.0   \n\n       Positive Reviews  Negative Reviews  Price  Initial Price  Discount  \\\n0                201215              5199    999            999         0   \n1                    27                 5    999            999         0   \n2                  4032               646    599           1999        70   \n3                  1575               115   1999           1999         0   \n4                     0                 1    199            199         0   \n...                 ...               ...    ...            ...       ...   \n55683               284                51      0              0         0   \n55685              1146               423      0              0         0   \n55687                 2                 0    299            299         0   \n55689                 2                 2    499            499         0   \n55690                10                 0    499            499         0   \n\n         CCU Is Multiplayer  \n0      13990              Y  \n1          0              N  \n2         99              N  \n3         76              Y  \n4          0              N  \n...      ...            ...  \n55683      0              N  \n55685      0              Y  \n55687      0              N  \n55689      0              N  \n55690      0              N  \n\n[54720 rows x 13 columns]",
      "text/html": "<div>\n<style scoped>\n    .dataframe tbody tr th:only-of-type {\n        vertical-align: middle;\n    }\n\n    .dataframe tbody tr th {\n        vertical-align: top;\n    }\n\n    .dataframe thead th {\n        text-align: right;\n    }\n</style>\n<table border=\"1\" class=\"dataframe\">\n  <thead>\n    <tr style=\"text-align: right;\">\n      <th></th>\n      <th>App ID</th>\n      <th>Name</th>\n      <th>Short Description</th>\n      <th>Genre</th>\n      <th>Categories</th>\n      <th>Owners</th>\n      <th>Positive Reviews</th>\n      <th>Negative Reviews</th>\n      <th>Price</th>\n      <th>Initial Price</th>\n      <th>Discount</th>\n      <th>CCU</th>\n      <th>Is Multiplayer</th>\n    </tr>\n  </thead>\n  <tbody>\n    <tr>\n      <th>0</th>\n      <td>10</td>\n      <td>Counter-Strike</td>\n      <td>Play the world's number 1 online action game. ...</td>\n      <td>Action</td>\n      <td>Multi-player, Valve Anti-Cheat enabled, Online...</td>\n      <td>15000000.0</td>\n      <td>201215</td>\n      <td>5199</td>\n      <td>999</td>\n      <td>999</td>\n      <td>0</td>\n      <td>13990</td>\n      <td>Y</td>\n    </tr>\n    <tr>\n      <th>1</th>\n      <td>1000000</td>\n      <td>ASCENXION</td>\n      <td>ASCENXION is a 2D shoot 'em up game where you ...</td>\n      <td>Action, Adventure, Indie</td>\n      <td>Single-player, Partial Controller Support, Ste...</td>\n      <td>10000.0</td>\n      <td>27</td>\n      <td>5</td>\n      <td>999</td>\n      <td>999</td>\n      <td>0</td>\n      <td>0</td>\n      <td>N</td>\n    </tr>\n    <tr>\n      <th>2</th>\n      <td>1000010</td>\n      <td>Crown Trick</td>\n      <td>Enter a labyrinth that moves as you move, wher...</td>\n      <td>Adventure, Indie, RPG, Strategy</td>\n      <td>Single-player, Partial Controller Support, Ste...</td>\n      <td>350000.0</td>\n      <td>4032</td>\n      <td>646</td>\n      <td>599</td>\n      <td>1999</td>\n      <td>70</td>\n      <td>99</td>\n      <td>N</td>\n    </tr>\n    <tr>\n      <th>3</th>\n      <td>1000030</td>\n      <td>Cook, Serve, Delicious! 3?!</td>\n      <td>Cook, serve and manage your food truck as you ...</td>\n      <td>Action, Indie, Simulation, Strategy</td>\n      <td>Multi-player, Single-player, Co-op, Steam Achi...</td>\n      <td>150000.0</td>\n      <td>1575</td>\n      <td>115</td>\n      <td>1999</td>\n      <td>1999</td>\n      <td>0</td>\n      <td>76</td>\n      <td>Y</td>\n    </tr>\n    <tr>\n      <th>4</th>\n      <td>1000040</td>\n      <td>细胞战争</td>\n      <td>这是一款打击感十足的细胞主题游戏！操作简单但活下去却不简单，“你”作为侵入人体的细菌病毒，通...</td>\n      <td>Action, Casual, Indie, Simulation</td>\n      <td>Single-player</td>\n      <td>10000.0</td>\n      <td>0</td>\n      <td>1</td>\n      <td>199</td>\n      <td>199</td>\n      <td>0</td>\n      <td>0</td>\n      <td>N</td>\n    </tr>\n    <tr>\n      <th>...</th>\n      <td>...</td>\n      <td>...</td>\n      <td>...</td>\n      <td>...</td>\n      <td>...</td>\n      <td>...</td>\n      <td>...</td>\n      <td>...</td>\n      <td>...</td>\n      <td>...</td>\n      <td>...</td>\n      <td>...</td>\n      <td>...</td>\n    </tr>\n    <tr>\n      <th>55683</th>\n      <td>999830</td>\n      <td>Becalm</td>\n      <td>Fancy a relaxing drift through magical waters?...</td>\n      <td>Casual, Free to Play, Indie</td>\n      <td>Single-player, Full controller support</td>\n      <td>75000.0</td>\n      <td>284</td>\n      <td>51</td>\n      <td>0</td>\n      <td>0</td>\n      <td>0</td>\n      <td>0</td>\n      <td>N</td>\n    </tr>\n    <tr>\n      <th>55685</th>\n      <td>999860</td>\n      <td>Enemy On Board</td>\n      <td>Online (6v2) social deduction game that will r...</td>\n      <td>Action, Casual, Free to Play, Indie, Early Access</td>\n      <td>Multi-player, Co-op, Online PvP, Online Co-op,...</td>\n      <td>150000.0</td>\n      <td>1146</td>\n      <td>423</td>\n      <td>0</td>\n      <td>0</td>\n      <td>0</td>\n      <td>0</td>\n      <td>Y</td>\n    </tr>\n    <tr>\n      <th>55687</th>\n      <td>999890</td>\n      <td>Bruken</td>\n      <td>Explore a large spherical world, enjoying all ...</td>\n      <td>Adventure, Casual, Indie</td>\n      <td>Single-player</td>\n      <td>10000.0</td>\n      <td>2</td>\n      <td>0</td>\n      <td>299</td>\n      <td>299</td>\n      <td>0</td>\n      <td>0</td>\n      <td>N</td>\n    </tr>\n    <tr>\n      <th>55689</th>\n      <td>999930</td>\n      <td>Fantasy Sino-Japanese War 幻想甲午</td>\n      <td>You unfortunately passed through the Sino-Japa...</td>\n      <td>Indie, RPG, Strategy, Early Access</td>\n      <td>Single-player, Partial Controller Support, Ste...</td>\n      <td>10000.0</td>\n      <td>2</td>\n      <td>2</td>\n      <td>499</td>\n      <td>499</td>\n      <td>0</td>\n      <td>0</td>\n      <td>N</td>\n    </tr>\n    <tr>\n      <th>55690</th>\n      <td>999990</td>\n      <td>Bouncing Hero</td>\n      <td>Bouncing Hero is an extreme auto-jump platform...</td>\n      <td>Action, Casual, Indie</td>\n      <td>Single-player, Steam Achievements, Steam Cloud</td>\n      <td>10000.0</td>\n      <td>10</td>\n      <td>0</td>\n      <td>499</td>\n      <td>499</td>\n      <td>0</td>\n      <td>0</td>\n      <td>N</td>\n    </tr>\n  </tbody>\n</table>\n<p>54720 rows × 13 columns</p>\n</div>"
     },
     "execution_count": 17,
     "metadata": {},
     "output_type": "execute_result"
    }
   ],
   "source": [
    "def categorize_multiplayer(df):\n",
    "    test_string = df[\"Categories\"].split(\", \")\n",
    "    return \"Y\" if \"Multi-player\" in test_string else \"N\"\n",
    "\n",
    "steam_data[\"Is Multiplayer\"] = steam_data.apply(lambda row: categorize_multiplayer(row), axis=1)\n",
    "steam_data"
   ],
   "metadata": {
    "collapsed": false,
    "pycharm": {
     "name": "#%%\n"
    }
   }
  },
  {
   "cell_type": "code",
   "execution_count": 18,
   "outputs": [
    {
     "data": {
      "text/plain": "        App ID                               Name  \\\n0           10                     Counter-Strike   \n2      1000010                        Crown Trick   \n3      1000030        Cook, Serve, Delicious! 3?!   \n5      1000080                            Zengeon   \n11     1000360                      Hellish Quart   \n...        ...                                ...   \n55674   999410                           Magnibox   \n55679   999660  SAMURAI SHODOWN NEOGEO COLLECTION   \n55680   999730               Secret Neighbor Beta   \n55683   999830                             Becalm   \n55685   999860                     Enemy On Board   \n\n                                       Short Description  \\\n0      Play the world's number 1 online action game. ...   \n2      Enter a labyrinth that moves as you move, wher...   \n3      Cook, serve and manage your food truck as you ...   \n5      Zengeon is an anime infused Action RPG and Rog...   \n11     A physics-based, realistic, 3D sword dueling g...   \n...                                                  ...   \n55674  A puzzle game about magnets designed for human...   \n55679  The ULTIMATE collection is here! It all began ...   \n55680  Beta Runs Aug 2-19! A group of kids tries to s...   \n55683  Fancy a relaxing drift through magical waters?...   \n55685  Online (6v2) social deduction game that will r...   \n\n                                                   Genre  \\\n0                                                 Action   \n2                        Adventure, Indie, RPG, Strategy   \n3                    Action, Indie, Simulation, Strategy   \n5                          Action, Adventure, Indie, RPG   \n11                                  Action, Early Access   \n...                                                  ...   \n55674                                              Indie   \n55679                                             Action   \n55680                           Action, Adventure, Indie   \n55683                        Casual, Free to Play, Indie   \n55685  Action, Casual, Free to Play, Indie, Early Access   \n\n                                              Categories      Owners  \\\n0      Multi-player, Valve Anti-Cheat enabled, Online...  15000000.0   \n2      Single-player, Partial Controller Support, Ste...    350000.0   \n3      Multi-player, Single-player, Co-op, Steam Achi...    150000.0   \n5      Multi-player, Single-player, Steam Achievement...    150000.0   \n11     Multi-player, Single-player, Shared/Split Scre...    350000.0   \n...                                                  ...         ...   \n55674  Single-player, Steam Achievements, Full contro...     10000.0   \n55679  Multi-player, Single-player, Steam Achievement...     10000.0   \n55680                      Multi-player, Online PvP, PvP    350000.0   \n55683             Single-player, Full controller support     75000.0   \n55685  Multi-player, Co-op, Online PvP, Online Co-op,...    150000.0   \n\n       Positive Reviews  Negative Reviews  Price  Initial Price  Discount  \\\n0                201215              5199    999            999         0   \n2                  4032               646    599           1999        70   \n3                  1575               115   1999           1999         0   \n5                  1018               462    799           1999        60   \n11                 4031               315   1699           1699         0   \n...                 ...               ...    ...            ...       ...   \n55674                48                 2    499            499         0   \n55679               148                27   3999           3999         0   \n55680              2416               478      0              0         0   \n55683               284                51      0              0         0   \n55685              1146               423      0              0         0   \n\n         CCU Is Multiplayer  Review Ratio  \n0      13990              Y     38.702635  \n2         99              N      6.241486  \n3         76              Y     13.695652  \n5          3              Y      2.203463  \n11        59              Y     12.796825  \n...      ...            ...           ...  \n55674      1              N     24.000000  \n55679      3              Y      5.481481  \n55680      0              Y      5.054393  \n55683      0              N      5.568627  \n55685      0              Y      2.709220  \n\n[18174 rows x 14 columns]",
      "text/html": "<div>\n<style scoped>\n    .dataframe tbody tr th:only-of-type {\n        vertical-align: middle;\n    }\n\n    .dataframe tbody tr th {\n        vertical-align: top;\n    }\n\n    .dataframe thead th {\n        text-align: right;\n    }\n</style>\n<table border=\"1\" class=\"dataframe\">\n  <thead>\n    <tr style=\"text-align: right;\">\n      <th></th>\n      <th>App ID</th>\n      <th>Name</th>\n      <th>Short Description</th>\n      <th>Genre</th>\n      <th>Categories</th>\n      <th>Owners</th>\n      <th>Positive Reviews</th>\n      <th>Negative Reviews</th>\n      <th>Price</th>\n      <th>Initial Price</th>\n      <th>Discount</th>\n      <th>CCU</th>\n      <th>Is Multiplayer</th>\n      <th>Review Ratio</th>\n    </tr>\n  </thead>\n  <tbody>\n    <tr>\n      <th>0</th>\n      <td>10</td>\n      <td>Counter-Strike</td>\n      <td>Play the world's number 1 online action game. ...</td>\n      <td>Action</td>\n      <td>Multi-player, Valve Anti-Cheat enabled, Online...</td>\n      <td>15000000.0</td>\n      <td>201215</td>\n      <td>5199</td>\n      <td>999</td>\n      <td>999</td>\n      <td>0</td>\n      <td>13990</td>\n      <td>Y</td>\n      <td>38.702635</td>\n    </tr>\n    <tr>\n      <th>2</th>\n      <td>1000010</td>\n      <td>Crown Trick</td>\n      <td>Enter a labyrinth that moves as you move, wher...</td>\n      <td>Adventure, Indie, RPG, Strategy</td>\n      <td>Single-player, Partial Controller Support, Ste...</td>\n      <td>350000.0</td>\n      <td>4032</td>\n      <td>646</td>\n      <td>599</td>\n      <td>1999</td>\n      <td>70</td>\n      <td>99</td>\n      <td>N</td>\n      <td>6.241486</td>\n    </tr>\n    <tr>\n      <th>3</th>\n      <td>1000030</td>\n      <td>Cook, Serve, Delicious! 3?!</td>\n      <td>Cook, serve and manage your food truck as you ...</td>\n      <td>Action, Indie, Simulation, Strategy</td>\n      <td>Multi-player, Single-player, Co-op, Steam Achi...</td>\n      <td>150000.0</td>\n      <td>1575</td>\n      <td>115</td>\n      <td>1999</td>\n      <td>1999</td>\n      <td>0</td>\n      <td>76</td>\n      <td>Y</td>\n      <td>13.695652</td>\n    </tr>\n    <tr>\n      <th>5</th>\n      <td>1000080</td>\n      <td>Zengeon</td>\n      <td>Zengeon is an anime infused Action RPG and Rog...</td>\n      <td>Action, Adventure, Indie, RPG</td>\n      <td>Multi-player, Single-player, Steam Achievement...</td>\n      <td>150000.0</td>\n      <td>1018</td>\n      <td>462</td>\n      <td>799</td>\n      <td>1999</td>\n      <td>60</td>\n      <td>3</td>\n      <td>Y</td>\n      <td>2.203463</td>\n    </tr>\n    <tr>\n      <th>11</th>\n      <td>1000360</td>\n      <td>Hellish Quart</td>\n      <td>A physics-based, realistic, 3D sword dueling g...</td>\n      <td>Action, Early Access</td>\n      <td>Multi-player, Single-player, Shared/Split Scre...</td>\n      <td>350000.0</td>\n      <td>4031</td>\n      <td>315</td>\n      <td>1699</td>\n      <td>1699</td>\n      <td>0</td>\n      <td>59</td>\n      <td>Y</td>\n      <td>12.796825</td>\n    </tr>\n    <tr>\n      <th>...</th>\n      <td>...</td>\n      <td>...</td>\n      <td>...</td>\n      <td>...</td>\n      <td>...</td>\n      <td>...</td>\n      <td>...</td>\n      <td>...</td>\n      <td>...</td>\n      <td>...</td>\n      <td>...</td>\n      <td>...</td>\n      <td>...</td>\n      <td>...</td>\n    </tr>\n    <tr>\n      <th>55674</th>\n      <td>999410</td>\n      <td>Magnibox</td>\n      <td>A puzzle game about magnets designed for human...</td>\n      <td>Indie</td>\n      <td>Single-player, Steam Achievements, Full contro...</td>\n      <td>10000.0</td>\n      <td>48</td>\n      <td>2</td>\n      <td>499</td>\n      <td>499</td>\n      <td>0</td>\n      <td>1</td>\n      <td>N</td>\n      <td>24.000000</td>\n    </tr>\n    <tr>\n      <th>55679</th>\n      <td>999660</td>\n      <td>SAMURAI SHODOWN NEOGEO COLLECTION</td>\n      <td>The ULTIMATE collection is here! It all began ...</td>\n      <td>Action</td>\n      <td>Multi-player, Single-player, Steam Achievement...</td>\n      <td>10000.0</td>\n      <td>148</td>\n      <td>27</td>\n      <td>3999</td>\n      <td>3999</td>\n      <td>0</td>\n      <td>3</td>\n      <td>Y</td>\n      <td>5.481481</td>\n    </tr>\n    <tr>\n      <th>55680</th>\n      <td>999730</td>\n      <td>Secret Neighbor Beta</td>\n      <td>Beta Runs Aug 2-19! A group of kids tries to s...</td>\n      <td>Action, Adventure, Indie</td>\n      <td>Multi-player, Online PvP, PvP</td>\n      <td>350000.0</td>\n      <td>2416</td>\n      <td>478</td>\n      <td>0</td>\n      <td>0</td>\n      <td>0</td>\n      <td>0</td>\n      <td>Y</td>\n      <td>5.054393</td>\n    </tr>\n    <tr>\n      <th>55683</th>\n      <td>999830</td>\n      <td>Becalm</td>\n      <td>Fancy a relaxing drift through magical waters?...</td>\n      <td>Casual, Free to Play, Indie</td>\n      <td>Single-player, Full controller support</td>\n      <td>75000.0</td>\n      <td>284</td>\n      <td>51</td>\n      <td>0</td>\n      <td>0</td>\n      <td>0</td>\n      <td>0</td>\n      <td>N</td>\n      <td>5.568627</td>\n    </tr>\n    <tr>\n      <th>55685</th>\n      <td>999860</td>\n      <td>Enemy On Board</td>\n      <td>Online (6v2) social deduction game that will r...</td>\n      <td>Action, Casual, Free to Play, Indie, Early Access</td>\n      <td>Multi-player, Co-op, Online PvP, Online Co-op,...</td>\n      <td>150000.0</td>\n      <td>1146</td>\n      <td>423</td>\n      <td>0</td>\n      <td>0</td>\n      <td>0</td>\n      <td>0</td>\n      <td>Y</td>\n      <td>2.709220</td>\n    </tr>\n  </tbody>\n</table>\n<p>18174 rows × 14 columns</p>\n</div>"
     },
     "execution_count": 18,
     "metadata": {},
     "output_type": "execute_result"
    }
   ],
   "source": [
    "steam_data = steam_data[steam_data[\"Short Description\"].notnull()]\n",
    "steam_data[steam_data.duplicated(\"Name\")]\n",
    "# Cleaning out duplicate entries in the games dataset\n",
    "steam_data = steam_data.drop_duplicates(\"Name\", keep=\"first\")\n",
    "# Creating column with positive to negative review ratio\n",
    "steam_data[\"Review Ratio\"] = steam_data[\"Positive Reviews\"] / steam_data[\"Negative Reviews\"]\n",
    "# Filtering out games with less than 150 positive reviews and CCU being 0\n",
    "steam_data.drop(steam_data[(steam_data[\"CCU\"] == 0) & (steam_data[\"Positive Reviews\"] < 150)].index, inplace=True)\n",
    "steam_data"
   ],
   "metadata": {
    "collapsed": false,
    "pycharm": {
     "name": "#%%\n"
    }
   }
  },
  {
   "cell_type": "code",
   "execution_count": 19,
   "outputs": [
    {
     "data": {
      "text/plain": "(5262, 14)"
     },
     "execution_count": 19,
     "metadata": {},
     "output_type": "execute_result"
    }
   ],
   "source": [
    "multi_games = steam_data[steam_data[\"Is Multiplayer\"] == \"Y\"].copy()\n",
    "multi_games.shape"
   ],
   "metadata": {
    "collapsed": false,
    "pycharm": {
     "name": "#%%\n"
    }
   }
  },
  {
   "cell_type": "code",
   "execution_count": 20,
   "outputs": [
    {
     "data": {
      "text/plain": "        App ID                                Name  \\\n0           10                      Counter-Strike   \n3      1000030         Cook, Serve, Delicious! 3?!   \n5      1000080                             Zengeon   \n11     1000360                       Hellish Quart   \n111    1002930            War of Tanks: Blitzkrieg   \n...        ...                                 ...   \n55662   999020  Mega Man Zero/ZX Legacy Collection   \n55665    99910                      Puzzle Pirates   \n55679   999660   SAMURAI SHODOWN NEOGEO COLLECTION   \n55680   999730                Secret Neighbor Beta   \n55685   999860                      Enemy On Board   \n\n                                       Short Description  \\\n0      Play the world's number 1 online action game. ...   \n3      Cook, serve and manage your food truck as you ...   \n5      Zengeon is an anime infused Action RPG and Rog...   \n11     A physics-based, realistic, 3D sword dueling g...   \n111    Real-time tank RPG game. It recreates the clas...   \n...                                                  ...   \n55662  Mega Man Zero/ZX Legacy Collection brings toge...   \n55665  Every activity in Puzzle Pirates is a uniquely...   \n55679  The ULTIMATE collection is here! It all began ...   \n55680  Beta Runs Aug 2-19! A group of kids tries to s...   \n55685  Online (6v2) social deduction game that will r...   \n\n                                                   Genre  \\\n0                                                 Action   \n3                    Action, Indie, Simulation, Strategy   \n5                          Action, Adventure, Indie, RPG   \n11                                  Action, Early Access   \n111                          Free to Play, RPG, Strategy   \n...                                                  ...   \n55662                                        Action, RPG   \n55665  Adventure, Casual, Free to Play, Massively Mul...   \n55679                                             Action   \n55680                           Action, Adventure, Indie   \n55685  Action, Casual, Free to Play, Indie, Early Access   \n\n                                              Categories      Owners  \\\n0      Multi-player, Valve Anti-Cheat enabled, Online...  15000000.0   \n3      Multi-player, Single-player, Co-op, Steam Achi...    150000.0   \n5      Multi-player, Single-player, Steam Achievement...    150000.0   \n11     Multi-player, Single-player, Shared/Split Scre...    350000.0   \n111    Multi-player, Co-op, MMO, In-App Purchases, On...     75000.0   \n...                                                  ...         ...   \n55662  Multi-player, Single-player, Stats, Partial Co...     75000.0   \n55665  Multi-player, Single-player, Co-op, MMO, Steam...    350000.0   \n55679  Multi-player, Single-player, Steam Achievement...     10000.0   \n55680                      Multi-player, Online PvP, PvP    350000.0   \n55685  Multi-player, Co-op, Online PvP, Online Co-op,...    150000.0   \n\n       Positive Reviews  Negative Reviews  Price  Initial Price  Discount  \\\n0                201215              5199    999            999         0   \n3                  1575               115   1999           1999         0   \n5                  1018               462    799           1999        60   \n11                 4031               315   1699           1699         0   \n111                  92                65      0              0         0   \n...                 ...               ...    ...            ...       ...   \n55662              1148               305   2999           2999         0   \n55665              1418               350      0              0         0   \n55679               148                27   3999           3999         0   \n55680              2416               478      0              0         0   \n55685              1146               423      0              0         0   \n\n         CCU  Review Ratio  \n0      13990     38.702635  \n3         76     13.695652  \n5          3      2.203463  \n11        59     12.796825  \n111       32      1.415385  \n...      ...           ...  \n55662     22      3.763934  \n55665     73      4.051429  \n55679      3      5.481481  \n55680      0      5.054393  \n55685      0      2.709220  \n\n[5262 rows x 13 columns]",
      "text/html": "<div>\n<style scoped>\n    .dataframe tbody tr th:only-of-type {\n        vertical-align: middle;\n    }\n\n    .dataframe tbody tr th {\n        vertical-align: top;\n    }\n\n    .dataframe thead th {\n        text-align: right;\n    }\n</style>\n<table border=\"1\" class=\"dataframe\">\n  <thead>\n    <tr style=\"text-align: right;\">\n      <th></th>\n      <th>App ID</th>\n      <th>Name</th>\n      <th>Short Description</th>\n      <th>Genre</th>\n      <th>Categories</th>\n      <th>Owners</th>\n      <th>Positive Reviews</th>\n      <th>Negative Reviews</th>\n      <th>Price</th>\n      <th>Initial Price</th>\n      <th>Discount</th>\n      <th>CCU</th>\n      <th>Review Ratio</th>\n    </tr>\n  </thead>\n  <tbody>\n    <tr>\n      <th>0</th>\n      <td>10</td>\n      <td>Counter-Strike</td>\n      <td>Play the world's number 1 online action game. ...</td>\n      <td>Action</td>\n      <td>Multi-player, Valve Anti-Cheat enabled, Online...</td>\n      <td>15000000.0</td>\n      <td>201215</td>\n      <td>5199</td>\n      <td>999</td>\n      <td>999</td>\n      <td>0</td>\n      <td>13990</td>\n      <td>38.702635</td>\n    </tr>\n    <tr>\n      <th>3</th>\n      <td>1000030</td>\n      <td>Cook, Serve, Delicious! 3?!</td>\n      <td>Cook, serve and manage your food truck as you ...</td>\n      <td>Action, Indie, Simulation, Strategy</td>\n      <td>Multi-player, Single-player, Co-op, Steam Achi...</td>\n      <td>150000.0</td>\n      <td>1575</td>\n      <td>115</td>\n      <td>1999</td>\n      <td>1999</td>\n      <td>0</td>\n      <td>76</td>\n      <td>13.695652</td>\n    </tr>\n    <tr>\n      <th>5</th>\n      <td>1000080</td>\n      <td>Zengeon</td>\n      <td>Zengeon is an anime infused Action RPG and Rog...</td>\n      <td>Action, Adventure, Indie, RPG</td>\n      <td>Multi-player, Single-player, Steam Achievement...</td>\n      <td>150000.0</td>\n      <td>1018</td>\n      <td>462</td>\n      <td>799</td>\n      <td>1999</td>\n      <td>60</td>\n      <td>3</td>\n      <td>2.203463</td>\n    </tr>\n    <tr>\n      <th>11</th>\n      <td>1000360</td>\n      <td>Hellish Quart</td>\n      <td>A physics-based, realistic, 3D sword dueling g...</td>\n      <td>Action, Early Access</td>\n      <td>Multi-player, Single-player, Shared/Split Scre...</td>\n      <td>350000.0</td>\n      <td>4031</td>\n      <td>315</td>\n      <td>1699</td>\n      <td>1699</td>\n      <td>0</td>\n      <td>59</td>\n      <td>12.796825</td>\n    </tr>\n    <tr>\n      <th>111</th>\n      <td>1002930</td>\n      <td>War of Tanks: Blitzkrieg</td>\n      <td>Real-time tank RPG game. It recreates the clas...</td>\n      <td>Free to Play, RPG, Strategy</td>\n      <td>Multi-player, Co-op, MMO, In-App Purchases, On...</td>\n      <td>75000.0</td>\n      <td>92</td>\n      <td>65</td>\n      <td>0</td>\n      <td>0</td>\n      <td>0</td>\n      <td>32</td>\n      <td>1.415385</td>\n    </tr>\n    <tr>\n      <th>...</th>\n      <td>...</td>\n      <td>...</td>\n      <td>...</td>\n      <td>...</td>\n      <td>...</td>\n      <td>...</td>\n      <td>...</td>\n      <td>...</td>\n      <td>...</td>\n      <td>...</td>\n      <td>...</td>\n      <td>...</td>\n      <td>...</td>\n    </tr>\n    <tr>\n      <th>55662</th>\n      <td>999020</td>\n      <td>Mega Man Zero/ZX Legacy Collection</td>\n      <td>Mega Man Zero/ZX Legacy Collection brings toge...</td>\n      <td>Action, RPG</td>\n      <td>Multi-player, Single-player, Stats, Partial Co...</td>\n      <td>75000.0</td>\n      <td>1148</td>\n      <td>305</td>\n      <td>2999</td>\n      <td>2999</td>\n      <td>0</td>\n      <td>22</td>\n      <td>3.763934</td>\n    </tr>\n    <tr>\n      <th>55665</th>\n      <td>99910</td>\n      <td>Puzzle Pirates</td>\n      <td>Every activity in Puzzle Pirates is a uniquely...</td>\n      <td>Adventure, Casual, Free to Play, Massively Mul...</td>\n      <td>Multi-player, Single-player, Co-op, MMO, Steam...</td>\n      <td>350000.0</td>\n      <td>1418</td>\n      <td>350</td>\n      <td>0</td>\n      <td>0</td>\n      <td>0</td>\n      <td>73</td>\n      <td>4.051429</td>\n    </tr>\n    <tr>\n      <th>55679</th>\n      <td>999660</td>\n      <td>SAMURAI SHODOWN NEOGEO COLLECTION</td>\n      <td>The ULTIMATE collection is here! It all began ...</td>\n      <td>Action</td>\n      <td>Multi-player, Single-player, Steam Achievement...</td>\n      <td>10000.0</td>\n      <td>148</td>\n      <td>27</td>\n      <td>3999</td>\n      <td>3999</td>\n      <td>0</td>\n      <td>3</td>\n      <td>5.481481</td>\n    </tr>\n    <tr>\n      <th>55680</th>\n      <td>999730</td>\n      <td>Secret Neighbor Beta</td>\n      <td>Beta Runs Aug 2-19! A group of kids tries to s...</td>\n      <td>Action, Adventure, Indie</td>\n      <td>Multi-player, Online PvP, PvP</td>\n      <td>350000.0</td>\n      <td>2416</td>\n      <td>478</td>\n      <td>0</td>\n      <td>0</td>\n      <td>0</td>\n      <td>0</td>\n      <td>5.054393</td>\n    </tr>\n    <tr>\n      <th>55685</th>\n      <td>999860</td>\n      <td>Enemy On Board</td>\n      <td>Online (6v2) social deduction game that will r...</td>\n      <td>Action, Casual, Free to Play, Indie, Early Access</td>\n      <td>Multi-player, Co-op, Online PvP, Online Co-op,...</td>\n      <td>150000.0</td>\n      <td>1146</td>\n      <td>423</td>\n      <td>0</td>\n      <td>0</td>\n      <td>0</td>\n      <td>0</td>\n      <td>2.709220</td>\n    </tr>\n  </tbody>\n</table>\n<p>5262 rows × 13 columns</p>\n</div>"
     },
     "execution_count": 20,
     "metadata": {},
     "output_type": "execute_result"
    }
   ],
   "source": [
    "multi_games.drop([\"Is Multiplayer\"], axis=1, errors=\"ignore\", inplace=True)\n",
    "multi_games"
   ],
   "metadata": {
    "collapsed": false,
    "pycharm": {
     "name": "#%%\n"
    }
   }
  },
  {
   "cell_type": "code",
   "execution_count": 21,
   "outputs": [
    {
     "data": {
      "text/plain": "App ID               5262\nName                 5262\nShort Description    5262\nGenre                5256\nCategories           5262\nOwners               5262\nPositive Reviews     5262\nNegative Reviews     5262\nPrice                5262\nInitial Price        5262\nDiscount             5262\nCCU                  5262\nReview Ratio         5260\ndtype: int64"
     },
     "execution_count": 21,
     "metadata": {},
     "output_type": "execute_result"
    }
   ],
   "source": [
    "multi_games.count()"
   ],
   "metadata": {
    "collapsed": false,
    "pycharm": {
     "name": "#%%\n"
    }
   }
  },
  {
   "cell_type": "code",
   "execution_count": 22,
   "outputs": [
    {
     "data": {
      "text/plain": "App ID               18174\nName                 18174\nShort Description    18174\nGenre                18140\nCategories           18174\nOwners               18174\nPositive Reviews     18174\nNegative Reviews     18174\nPrice                18174\nInitial Price        18174\nDiscount             18174\nCCU                  18174\nIs Multiplayer       18174\nReview Ratio         18149\ndtype: int64"
     },
     "execution_count": 22,
     "metadata": {},
     "output_type": "execute_result"
    }
   ],
   "source": [
    "steam_data.count()"
   ],
   "metadata": {
    "collapsed": false,
    "pycharm": {
     "name": "#%%\n"
    }
   }
  },
  {
   "cell_type": "code",
   "execution_count": 23,
   "outputs": [
    {
     "data": {
      "text/plain": "((5256, 13), (18140, 14))"
     },
     "execution_count": 23,
     "metadata": {},
     "output_type": "execute_result"
    }
   ],
   "source": [
    "# multi_games[multi_games[\"Genre\"].isnull()]\n",
    "multi_games = multi_games[multi_games[\"Genre\"].notnull()]\n",
    "steam_data = steam_data[steam_data[\"Genre\"].notnull()]\n",
    "multi_games.shape, steam_data.shape"
   ],
   "metadata": {
    "collapsed": false,
    "pycharm": {
     "name": "#%%\n"
    }
   }
  },
  {
   "cell_type": "code",
   "execution_count": 25,
   "outputs": [],
   "source": [
    "multi_games.to_csv(\"data/steam_multi_games_cleaned.csv\", index=False)\n",
    "steam_data.to_csv(\"data/steam_all_games_cleaned.csv\", index=False)"
   ],
   "metadata": {
    "collapsed": false,
    "pycharm": {
     "name": "#%%\n"
    }
   }
  },
  {
   "cell_type": "code",
   "execution_count": null,
   "outputs": [],
   "source": [],
   "metadata": {
    "collapsed": false,
    "pycharm": {
     "name": "#%%\n"
    }
   }
  }
 ],
 "metadata": {
  "kernelspec": {
   "display_name": "Python 3",
   "language": "python",
   "name": "python3"
  },
  "language_info": {
   "codemirror_mode": {
    "name": "ipython",
    "version": 2
   },
   "file_extension": ".py",
   "mimetype": "text/x-python",
   "name": "python",
   "nbconvert_exporter": "python",
   "pygments_lexer": "ipython2",
   "version": "2.7.6"
  }
 },
 "nbformat": 4,
 "nbformat_minor": 0
}