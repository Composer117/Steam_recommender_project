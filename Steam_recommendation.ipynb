{
 "cells": [
  {
   "cell_type": "code",
   "execution_count": 30,
   "metadata": {
    "collapsed": true,
    "pycharm": {
     "name": "#%%\n"
    }
   },
   "outputs": [],
   "source": [
    "import pandas as pd\n",
    "import numpy as np\n",
    "\n",
    "self_data = pd.read_csv(\"data/self_games_data.csv\")\n",
    "friend_data = pd.read_csv(\"data/friend_games.csv\")\n",
    "steam_games = pd.read_csv(\"data/steam_all_games_cleaned.csv\")"
   ]
  },
  {
   "cell_type": "code",
   "execution_count": 31,
   "outputs": [
    {
     "name": "stdout",
     "output_type": "stream",
     "text": [
      "['Action', 'Adventure', 'Indie', 'RPG', 'Strategy', 'Simulation', 'Early Access', 'Free to Play', 'Casual', 'Sports', 'Racing', 'Animation & Modeling', 'Utilities', 'Massively Multiplayer', 'Design & Illustration', 'Web Publishing', 'Game Development', 'Audio Production', 'Video Production', 'Education', 'Photo Editing', 'Software Training', 'Accounting', 'Violent', 'Gore', 'Sexual Content', 'Nudity', 'Movie']\n"
     ]
    }
   ],
   "source": [
    "# Creating columns for individual genres\n",
    "\n",
    "unique_genres = []\n",
    "for key, item in steam_games[\"Genre\"].iteritems():\n",
    "    for genre in item.split(\", \"):\n",
    "        if genre not in unique_genres:\n",
    "            unique_genres.append(genre)\n",
    "print(unique_genres)"
   ],
   "metadata": {
    "collapsed": false,
    "pycharm": {
     "name": "#%%\n"
    }
   }
  },
  {
   "cell_type": "code",
   "execution_count": 32,
   "outputs": [
    {
     "data": {
      "text/plain": "28"
     },
     "execution_count": 32,
     "metadata": {},
     "output_type": "execute_result"
    }
   ],
   "source": [
    "len(unique_genres)"
   ],
   "metadata": {
    "collapsed": false,
    "pycharm": {
     "name": "#%%\n"
    }
   }
  },
  {
   "cell_type": "code",
   "execution_count": 33,
   "outputs": [
    {
     "name": "stdout",
     "output_type": "stream",
     "text": [
      "['Multi-player', 'Valve Anti-Cheat enabled', 'Online PvP', 'Shared/Split Screen PvP', 'PvP', 'Single-player', 'Partial Controller Support', 'Steam Achievements', 'Steam Cloud', 'Steam Trading Cards', 'Co-op', 'Shared/Split Screen', 'Full controller support', 'Shared/Split Screen Co-op', 'Remote Play on Phone', 'Remote Play on Tablet', 'Remote Play on TV', 'Remote Play Together', 'Stats', 'MMO', 'In-App Purchases', 'Steam Leaderboards', 'Cross-Platform Multiplayer', 'Online Co-op', 'Includes level editor', 'Steam Workshop', 'Commentary available', 'Captions available', 'LAN PvP', 'LAN Co-op', 'Steam Turn Notifications', 'Includes Source SDK', 'VR Support', 'Mods (require HL2)', 'Mods', 'SteamVR Collectibles']\n"
     ]
    }
   ],
   "source": [
    "# Creating columns for individual categories\n",
    "\n",
    "unique_categories = []\n",
    "for key, item in steam_games[\"Categories\"].iteritems():\n",
    "    for category in item.split(\", \"):\n",
    "        if category not in unique_categories:\n",
    "            unique_categories.append(category)\n",
    "print(unique_categories)"
   ],
   "metadata": {
    "collapsed": false,
    "pycharm": {
     "name": "#%%\n"
    }
   }
  },
  {
   "cell_type": "code",
   "execution_count": 34,
   "outputs": [
    {
     "data": {
      "text/plain": "36"
     },
     "execution_count": 34,
     "metadata": {},
     "output_type": "execute_result"
    }
   ],
   "source": [
    "len(unique_categories)"
   ],
   "metadata": {
    "collapsed": false,
    "pycharm": {
     "name": "#%%\n"
    }
   }
  },
  {
   "cell_type": "code",
   "execution_count": 35,
   "outputs": [
    {
     "data": {
      "text/plain": "13"
     },
     "execution_count": 35,
     "metadata": {},
     "output_type": "execute_result"
    }
   ],
   "source": [
    "unique_categories = ['Multi-player', 'Online PvP', 'Shared/Split Screen PvP', 'PvP', 'Single-player', 'Co-op', 'Shared/Split Screen', 'Shared/Split Screen Co-op', 'MMO', 'Cross-Platform Multiplayer', 'Online Co-op', 'LAN PvP', 'LAN Co-op']\n",
    "\n",
    "len(unique_categories)"
   ],
   "metadata": {
    "collapsed": false,
    "pycharm": {
     "name": "#%%\n"
    }
   }
  },
  {
   "cell_type": "code",
   "execution_count": 36,
   "outputs": [
    {
     "data": {
      "text/plain": "        App ID                               Name  \\\n0           10                     Counter-Strike   \n1      1000010                        Crown Trick   \n2      1000030        Cook, Serve, Delicious! 3?!   \n3      1000080                            Zengeon   \n4      1000360                      Hellish Quart   \n...        ...                                ...   \n18135   999410                           Magnibox   \n18136   999660  SAMURAI SHODOWN NEOGEO COLLECTION   \n18137   999730               Secret Neighbor Beta   \n18138   999830                             Becalm   \n18139   999860                     Enemy On Board   \n\n                                       Short Description  \\\n0      Play the world's number 1 online action game. ...   \n1      Enter a labyrinth that moves as you move, wher...   \n2      Cook, serve and manage your food truck as you ...   \n3      Zengeon is an anime infused Action RPG and Rog...   \n4      A physics-based, realistic, 3D sword dueling g...   \n...                                                  ...   \n18135  A puzzle game about magnets designed for human...   \n18136  The ULTIMATE collection is here! It all began ...   \n18137  Beta Runs Aug 2-19! A group of kids tries to s...   \n18138  Fancy a relaxing drift through magical waters?...   \n18139  Online (6v2) social deduction game that will r...   \n\n                                                   Genre  \\\n0                                                 Action   \n1                        Adventure, Indie, RPG, Strategy   \n2                    Action, Indie, Simulation, Strategy   \n3                          Action, Adventure, Indie, RPG   \n4                                   Action, Early Access   \n...                                                  ...   \n18135                                              Indie   \n18136                                             Action   \n18137                           Action, Adventure, Indie   \n18138                        Casual, Free to Play, Indie   \n18139  Action, Casual, Free to Play, Indie, Early Access   \n\n                                              Categories      Owners  \\\n0      Multi-player, Valve Anti-Cheat enabled, Online...  15000000.0   \n1      Single-player, Partial Controller Support, Ste...    350000.0   \n2      Multi-player, Single-player, Co-op, Steam Achi...    150000.0   \n3      Multi-player, Single-player, Steam Achievement...    150000.0   \n4      Multi-player, Single-player, Shared/Split Scre...    350000.0   \n...                                                  ...         ...   \n18135  Single-player, Steam Achievements, Full contro...     10000.0   \n18136  Multi-player, Single-player, Steam Achievement...     10000.0   \n18137                      Multi-player, Online PvP, PvP    350000.0   \n18138             Single-player, Full controller support     75000.0   \n18139  Multi-player, Co-op, Online PvP, Online Co-op,...    150000.0   \n\n       Positive Reviews  Negative Reviews  Price  Initial Price  ...  PvP  \\\n0                201215              5199    999            999  ...    1   \n1                  4032               646    599           1999  ...    0   \n2                  1575               115   1999           1999  ...    0   \n3                  1018               462    799           1999  ...    0   \n4                  4031               315   1699           1699  ...    1   \n...                 ...               ...    ...            ...  ...  ...   \n18135                48                 2    499            499  ...    0   \n18136               148                27   3999           3999  ...    1   \n18137              2416               478      0              0  ...    1   \n18138               284                51      0              0  ...    0   \n18139              1146               423      0              0  ...    1   \n\n       Single-player Co-op  Shared/Split Screen  Shared/Split Screen Co-op  \\\n0                  0     0                    0                          0   \n1                  1     0                    0                          0   \n2                  1     1                    1                          1   \n3                  1     0                    0                          0   \n4                  1     0                    1                          0   \n...              ...   ...                  ...                        ...   \n18135              1     0                    0                          0   \n18136              1     0                    0                          0   \n18137              0     0                    0                          0   \n18138              1     0                    0                          0   \n18139              0     1                    0                          0   \n\n       MMO  Cross-Platform Multiplayer  Online Co-op  LAN PvP  LAN Co-op  \n0        0                           0             0        0          0  \n1        0                           0             0        0          0  \n2        0                           0             0        0          0  \n3        0                           0             0        0          0  \n4        0                           0             0        0          0  \n...    ...                         ...           ...      ...        ...  \n18135    0                           0             0        0          0  \n18136    0                           0             0        0          0  \n18137    0                           0             0        0          0  \n18138    0                           0             0        0          0  \n18139    0                           0             1        0          0  \n\n[18140 rows x 55 columns]",
      "text/html": "<div>\n<style scoped>\n    .dataframe tbody tr th:only-of-type {\n        vertical-align: middle;\n    }\n\n    .dataframe tbody tr th {\n        vertical-align: top;\n    }\n\n    .dataframe thead th {\n        text-align: right;\n    }\n</style>\n<table border=\"1\" class=\"dataframe\">\n  <thead>\n    <tr style=\"text-align: right;\">\n      <th></th>\n      <th>App ID</th>\n      <th>Name</th>\n      <th>Short Description</th>\n      <th>Genre</th>\n      <th>Categories</th>\n      <th>Owners</th>\n      <th>Positive Reviews</th>\n      <th>Negative Reviews</th>\n      <th>Price</th>\n      <th>Initial Price</th>\n      <th>...</th>\n      <th>PvP</th>\n      <th>Single-player</th>\n      <th>Co-op</th>\n      <th>Shared/Split Screen</th>\n      <th>Shared/Split Screen Co-op</th>\n      <th>MMO</th>\n      <th>Cross-Platform Multiplayer</th>\n      <th>Online Co-op</th>\n      <th>LAN PvP</th>\n      <th>LAN Co-op</th>\n    </tr>\n  </thead>\n  <tbody>\n    <tr>\n      <th>0</th>\n      <td>10</td>\n      <td>Counter-Strike</td>\n      <td>Play the world's number 1 online action game. ...</td>\n      <td>Action</td>\n      <td>Multi-player, Valve Anti-Cheat enabled, Online...</td>\n      <td>15000000.0</td>\n      <td>201215</td>\n      <td>5199</td>\n      <td>999</td>\n      <td>999</td>\n      <td>...</td>\n      <td>1</td>\n      <td>0</td>\n      <td>0</td>\n      <td>0</td>\n      <td>0</td>\n      <td>0</td>\n      <td>0</td>\n      <td>0</td>\n      <td>0</td>\n      <td>0</td>\n    </tr>\n    <tr>\n      <th>1</th>\n      <td>1000010</td>\n      <td>Crown Trick</td>\n      <td>Enter a labyrinth that moves as you move, wher...</td>\n      <td>Adventure, Indie, RPG, Strategy</td>\n      <td>Single-player, Partial Controller Support, Ste...</td>\n      <td>350000.0</td>\n      <td>4032</td>\n      <td>646</td>\n      <td>599</td>\n      <td>1999</td>\n      <td>...</td>\n      <td>0</td>\n      <td>1</td>\n      <td>0</td>\n      <td>0</td>\n      <td>0</td>\n      <td>0</td>\n      <td>0</td>\n      <td>0</td>\n      <td>0</td>\n      <td>0</td>\n    </tr>\n    <tr>\n      <th>2</th>\n      <td>1000030</td>\n      <td>Cook, Serve, Delicious! 3?!</td>\n      <td>Cook, serve and manage your food truck as you ...</td>\n      <td>Action, Indie, Simulation, Strategy</td>\n      <td>Multi-player, Single-player, Co-op, Steam Achi...</td>\n      <td>150000.0</td>\n      <td>1575</td>\n      <td>115</td>\n      <td>1999</td>\n      <td>1999</td>\n      <td>...</td>\n      <td>0</td>\n      <td>1</td>\n      <td>1</td>\n      <td>1</td>\n      <td>1</td>\n      <td>0</td>\n      <td>0</td>\n      <td>0</td>\n      <td>0</td>\n      <td>0</td>\n    </tr>\n    <tr>\n      <th>3</th>\n      <td>1000080</td>\n      <td>Zengeon</td>\n      <td>Zengeon is an anime infused Action RPG and Rog...</td>\n      <td>Action, Adventure, Indie, RPG</td>\n      <td>Multi-player, Single-player, Steam Achievement...</td>\n      <td>150000.0</td>\n      <td>1018</td>\n      <td>462</td>\n      <td>799</td>\n      <td>1999</td>\n      <td>...</td>\n      <td>0</td>\n      <td>1</td>\n      <td>0</td>\n      <td>0</td>\n      <td>0</td>\n      <td>0</td>\n      <td>0</td>\n      <td>0</td>\n      <td>0</td>\n      <td>0</td>\n    </tr>\n    <tr>\n      <th>4</th>\n      <td>1000360</td>\n      <td>Hellish Quart</td>\n      <td>A physics-based, realistic, 3D sword dueling g...</td>\n      <td>Action, Early Access</td>\n      <td>Multi-player, Single-player, Shared/Split Scre...</td>\n      <td>350000.0</td>\n      <td>4031</td>\n      <td>315</td>\n      <td>1699</td>\n      <td>1699</td>\n      <td>...</td>\n      <td>1</td>\n      <td>1</td>\n      <td>0</td>\n      <td>1</td>\n      <td>0</td>\n      <td>0</td>\n      <td>0</td>\n      <td>0</td>\n      <td>0</td>\n      <td>0</td>\n    </tr>\n    <tr>\n      <th>...</th>\n      <td>...</td>\n      <td>...</td>\n      <td>...</td>\n      <td>...</td>\n      <td>...</td>\n      <td>...</td>\n      <td>...</td>\n      <td>...</td>\n      <td>...</td>\n      <td>...</td>\n      <td>...</td>\n      <td>...</td>\n      <td>...</td>\n      <td>...</td>\n      <td>...</td>\n      <td>...</td>\n      <td>...</td>\n      <td>...</td>\n      <td>...</td>\n      <td>...</td>\n      <td>...</td>\n    </tr>\n    <tr>\n      <th>18135</th>\n      <td>999410</td>\n      <td>Magnibox</td>\n      <td>A puzzle game about magnets designed for human...</td>\n      <td>Indie</td>\n      <td>Single-player, Steam Achievements, Full contro...</td>\n      <td>10000.0</td>\n      <td>48</td>\n      <td>2</td>\n      <td>499</td>\n      <td>499</td>\n      <td>...</td>\n      <td>0</td>\n      <td>1</td>\n      <td>0</td>\n      <td>0</td>\n      <td>0</td>\n      <td>0</td>\n      <td>0</td>\n      <td>0</td>\n      <td>0</td>\n      <td>0</td>\n    </tr>\n    <tr>\n      <th>18136</th>\n      <td>999660</td>\n      <td>SAMURAI SHODOWN NEOGEO COLLECTION</td>\n      <td>The ULTIMATE collection is here! It all began ...</td>\n      <td>Action</td>\n      <td>Multi-player, Single-player, Steam Achievement...</td>\n      <td>10000.0</td>\n      <td>148</td>\n      <td>27</td>\n      <td>3999</td>\n      <td>3999</td>\n      <td>...</td>\n      <td>1</td>\n      <td>1</td>\n      <td>0</td>\n      <td>0</td>\n      <td>0</td>\n      <td>0</td>\n      <td>0</td>\n      <td>0</td>\n      <td>0</td>\n      <td>0</td>\n    </tr>\n    <tr>\n      <th>18137</th>\n      <td>999730</td>\n      <td>Secret Neighbor Beta</td>\n      <td>Beta Runs Aug 2-19! A group of kids tries to s...</td>\n      <td>Action, Adventure, Indie</td>\n      <td>Multi-player, Online PvP, PvP</td>\n      <td>350000.0</td>\n      <td>2416</td>\n      <td>478</td>\n      <td>0</td>\n      <td>0</td>\n      <td>...</td>\n      <td>1</td>\n      <td>0</td>\n      <td>0</td>\n      <td>0</td>\n      <td>0</td>\n      <td>0</td>\n      <td>0</td>\n      <td>0</td>\n      <td>0</td>\n      <td>0</td>\n    </tr>\n    <tr>\n      <th>18138</th>\n      <td>999830</td>\n      <td>Becalm</td>\n      <td>Fancy a relaxing drift through magical waters?...</td>\n      <td>Casual, Free to Play, Indie</td>\n      <td>Single-player, Full controller support</td>\n      <td>75000.0</td>\n      <td>284</td>\n      <td>51</td>\n      <td>0</td>\n      <td>0</td>\n      <td>...</td>\n      <td>0</td>\n      <td>1</td>\n      <td>0</td>\n      <td>0</td>\n      <td>0</td>\n      <td>0</td>\n      <td>0</td>\n      <td>0</td>\n      <td>0</td>\n      <td>0</td>\n    </tr>\n    <tr>\n      <th>18139</th>\n      <td>999860</td>\n      <td>Enemy On Board</td>\n      <td>Online (6v2) social deduction game that will r...</td>\n      <td>Action, Casual, Free to Play, Indie, Early Access</td>\n      <td>Multi-player, Co-op, Online PvP, Online Co-op,...</td>\n      <td>150000.0</td>\n      <td>1146</td>\n      <td>423</td>\n      <td>0</td>\n      <td>0</td>\n      <td>...</td>\n      <td>1</td>\n      <td>0</td>\n      <td>1</td>\n      <td>0</td>\n      <td>0</td>\n      <td>0</td>\n      <td>0</td>\n      <td>1</td>\n      <td>0</td>\n      <td>0</td>\n    </tr>\n  </tbody>\n</table>\n<p>18140 rows × 55 columns</p>\n</div>"
     },
     "execution_count": 36,
     "metadata": {},
     "output_type": "execute_result"
    }
   ],
   "source": [
    "def add_column_from_genre(df, column):\n",
    "    genre_string = df[\"Genre\"].split(\", \")\n",
    "    return 1 if column in genre_string else 0\n",
    "\n",
    "def add_column_from_categories(df, column):\n",
    "    category_string = df[\"Categories\"].split(\", \")\n",
    "    return 1 if column in category_string else 0\n",
    "\n",
    "for genre in unique_genres:\n",
    "    steam_games[genre] = steam_games.apply(lambda row: add_column_from_genre(row, genre), axis=1)\n",
    "\n",
    "for category in unique_categories:\n",
    "    steam_games[category] = steam_games.apply(lambda row: add_column_from_categories(row, category), axis=1)\n",
    "\n",
    "steam_games"
   ],
   "metadata": {
    "collapsed": false,
    "pycharm": {
     "name": "#%%\n"
    }
   }
  },
  {
   "cell_type": "code",
   "execution_count": 37,
   "outputs": [
    {
     "data": {
      "text/plain": "Index(['App ID', 'Name', 'Short Description', 'Genre', 'Categories', 'Owners',\n       'Positive Reviews', 'Negative Reviews', 'Price', 'Initial Price',\n       'Discount', 'CCU', 'Is Multiplayer', 'Review Ratio', 'Action',\n       'Adventure', 'Indie', 'RPG', 'Strategy', 'Simulation', 'Early Access',\n       'Free to Play', 'Casual', 'Sports', 'Racing', 'Animation & Modeling',\n       'Utilities', 'Massively Multiplayer', 'Design & Illustration',\n       'Web Publishing', 'Game Development', 'Audio Production',\n       'Video Production', 'Education', 'Photo Editing', 'Software Training',\n       'Accounting', 'Violent', 'Gore', 'Sexual Content', 'Nudity', 'Movie',\n       'Multi-player', 'Online PvP', 'Shared/Split Screen PvP', 'PvP',\n       'Single-player', 'Co-op', 'Shared/Split Screen',\n       'Shared/Split Screen Co-op', 'MMO', 'Cross-Platform Multiplayer',\n       'Online Co-op', 'LAN PvP', 'LAN Co-op'],\n      dtype='object')"
     },
     "execution_count": 37,
     "metadata": {},
     "output_type": "execute_result"
    }
   ],
   "source": [
    "steam_games.columns"
   ],
   "metadata": {
    "collapsed": false,
    "pycharm": {
     "name": "#%%\n"
    }
   }
  },
  {
   "cell_type": "code",
   "execution_count": 38,
   "outputs": [
    {
     "name": "stderr",
     "output_type": "stream",
     "text": [
      "[nltk_data] Downloading package punkt to\n",
      "[nltk_data]     /Users/composer117/nltk_data...\n",
      "[nltk_data]   Package punkt is already up-to-date!\n",
      "[nltk_data] Downloading package averaged_perceptron_tagger to\n",
      "[nltk_data]     /Users/composer117/nltk_data...\n",
      "[nltk_data]   Package averaged_perceptron_tagger is already up-to-\n",
      "[nltk_data]       date!\n",
      "[nltk_data] Downloading package wordnet to\n",
      "[nltk_data]     /Users/composer117/nltk_data...\n",
      "[nltk_data]   Package wordnet is already up-to-date!\n",
      "[nltk_data] Downloading package stopwords to\n",
      "[nltk_data]     /Users/composer117/nltk_data...\n",
      "[nltk_data]   Package stopwords is already up-to-date!\n"
     ]
    }
   ],
   "source": [
    "import nltk\n",
    "nltk.download('punkt')\n",
    "nltk.download('averaged_perceptron_tagger')\n",
    "nltk.download('wordnet')\n",
    "\n",
    "\n",
    "from nltk.stem import WordNetLemmatizer\n",
    "lemmatizer = WordNetLemmatizer()\n",
    "\n",
    "from nltk.corpus import stopwords\n",
    "nltk.download('stopwords')\n",
    "stop_words = set(stopwords.words('english'))\n",
    "\n",
    "VERB_CODES = {'VB', 'VBD', 'VBG', 'VBN', 'VBP', 'VBZ'}"
   ],
   "metadata": {
    "collapsed": false,
    "pycharm": {
     "name": "#%%\n"
    }
   }
  },
  {
   "cell_type": "code",
   "execution_count": 39,
   "outputs": [
    {
     "name": "stderr",
     "output_type": "stream",
     "text": [
      "[nltk_data] Downloading package omw-1.4 to\n",
      "[nltk_data]     /Users/composer117/nltk_data...\n",
      "[nltk_data]   Package omw-1.4 is already up-to-date!\n"
     ]
    },
    {
     "data": {
      "text/plain": "True"
     },
     "execution_count": 39,
     "metadata": {},
     "output_type": "execute_result"
    }
   ],
   "source": [
    "nltk.download('omw-1.4')"
   ],
   "metadata": {
    "collapsed": false,
    "pycharm": {
     "name": "#%%\n"
    }
   }
  },
  {
   "cell_type": "code",
   "execution_count": 40,
   "outputs": [
    {
     "data": {
      "text/plain": "        App ID                               Name  \\\n0           10                     Counter-Strike   \n1      1000010                        Crown Trick   \n2      1000030        Cook, Serve, Delicious! 3?!   \n3      1000080                            Zengeon   \n4      1000360                      Hellish Quart   \n...        ...                                ...   \n18135   999410                           Magnibox   \n18136   999660  SAMURAI SHODOWN NEOGEO COLLECTION   \n18137   999730               Secret Neighbor Beta   \n18138   999830                             Becalm   \n18139   999860                     Enemy On Board   \n\n                                       Short Description  \\\n0      Play the world's number 1 online action game. ...   \n1      Enter a labyrinth that moves as you move, wher...   \n2      Cook, serve and manage your food truck as you ...   \n3      Zengeon is an anime infused Action RPG and Rog...   \n4      A physics-based, realistic, 3D sword dueling g...   \n...                                                  ...   \n18135  A puzzle game about magnets designed for human...   \n18136  The ULTIMATE collection is here! It all began ...   \n18137  Beta Runs Aug 2-19! A group of kids tries to s...   \n18138  Fancy a relaxing drift through magical waters?...   \n18139  Online (6v2) social deduction game that will r...   \n\n                                                   Genre  \\\n0                                                 Action   \n1                        Adventure, Indie, RPG, Strategy   \n2                    Action, Indie, Simulation, Strategy   \n3                          Action, Adventure, Indie, RPG   \n4                                   Action, Early Access   \n...                                                  ...   \n18135                                              Indie   \n18136                                             Action   \n18137                           Action, Adventure, Indie   \n18138                        Casual, Free to Play, Indie   \n18139  Action, Casual, Free to Play, Indie, Early Access   \n\n                                              Categories      Owners  \\\n0      Multi-player, Valve Anti-Cheat enabled, Online...  15000000.0   \n1      Single-player, Partial Controller Support, Ste...    350000.0   \n2      Multi-player, Single-player, Co-op, Steam Achi...    150000.0   \n3      Multi-player, Single-player, Steam Achievement...    150000.0   \n4      Multi-player, Single-player, Shared/Split Scre...    350000.0   \n...                                                  ...         ...   \n18135  Single-player, Steam Achievements, Full contro...     10000.0   \n18136  Multi-player, Single-player, Steam Achievement...     10000.0   \n18137                      Multi-player, Online PvP, PvP    350000.0   \n18138             Single-player, Full controller support     75000.0   \n18139  Multi-player, Co-op, Online PvP, Online Co-op,...    150000.0   \n\n       Positive Reviews  Negative Reviews  Price  Initial Price  ...  \\\n0                201215              5199    999            999  ...   \n1                  4032               646    599           1999  ...   \n2                  1575               115   1999           1999  ...   \n3                  1018               462    799           1999  ...   \n4                  4031               315   1699           1699  ...   \n...                 ...               ...    ...            ...  ...   \n18135                48                 2    499            499  ...   \n18136               148                27   3999           3999  ...   \n18137              2416               478      0              0  ...   \n18138               284                51      0              0  ...   \n18139              1146               423      0              0  ...   \n\n       Single-player  Co-op Shared/Split Screen  Shared/Split Screen Co-op  \\\n0                  0      0                   0                          0   \n1                  1      0                   0                          0   \n2                  1      1                   1                          1   \n3                  1      0                   0                          0   \n4                  1      0                   1                          0   \n...              ...    ...                 ...                        ...   \n18135              1      0                   0                          0   \n18136              1      0                   0                          0   \n18137              0      0                   0                          0   \n18138              1      0                   0                          0   \n18139              0      1                   0                          0   \n\n       MMO  Cross-Platform Multiplayer  Online Co-op  LAN PvP  LAN Co-op  \\\n0        0                           0             0        0          0   \n1        0                           0             0        0          0   \n2        0                           0             0        0          0   \n3        0                           0             0        0          0   \n4        0                           0             0        0          0   \n...    ...                         ...           ...      ...        ...   \n18135    0                           0             0        0          0   \n18136    0                           0             0        0          0   \n18137    0                           0             0        0          0   \n18138    0                           0             0        0          0   \n18139    0                           0             1        0          0   \n\n                                   Description_processed  \n0      play world number online action game engage in...  \n1      enter labyrinth move move master element key d...  \n2      cook serve manage food truck dish hundred diff...  \n3      zengeon anime infuse action rpg roguelite sele...  \n4      realistic sword duel game set century currentl...  \n...                                                  ...  \n18135              puzzle game magnet design human brain  \n18136  ultimate collection begin fighting game series...  \n18137  beta run aug group kid try sneak creepy neighb...  \n18138  fancy relaxing drift magical water enjoy seafa...  \n18139  online social deduction game ruin friendship c...  \n\n[18140 rows x 56 columns]",
      "text/html": "<div>\n<style scoped>\n    .dataframe tbody tr th:only-of-type {\n        vertical-align: middle;\n    }\n\n    .dataframe tbody tr th {\n        vertical-align: top;\n    }\n\n    .dataframe thead th {\n        text-align: right;\n    }\n</style>\n<table border=\"1\" class=\"dataframe\">\n  <thead>\n    <tr style=\"text-align: right;\">\n      <th></th>\n      <th>App ID</th>\n      <th>Name</th>\n      <th>Short Description</th>\n      <th>Genre</th>\n      <th>Categories</th>\n      <th>Owners</th>\n      <th>Positive Reviews</th>\n      <th>Negative Reviews</th>\n      <th>Price</th>\n      <th>Initial Price</th>\n      <th>...</th>\n      <th>Single-player</th>\n      <th>Co-op</th>\n      <th>Shared/Split Screen</th>\n      <th>Shared/Split Screen Co-op</th>\n      <th>MMO</th>\n      <th>Cross-Platform Multiplayer</th>\n      <th>Online Co-op</th>\n      <th>LAN PvP</th>\n      <th>LAN Co-op</th>\n      <th>Description_processed</th>\n    </tr>\n  </thead>\n  <tbody>\n    <tr>\n      <th>0</th>\n      <td>10</td>\n      <td>Counter-Strike</td>\n      <td>Play the world's number 1 online action game. ...</td>\n      <td>Action</td>\n      <td>Multi-player, Valve Anti-Cheat enabled, Online...</td>\n      <td>15000000.0</td>\n      <td>201215</td>\n      <td>5199</td>\n      <td>999</td>\n      <td>999</td>\n      <td>...</td>\n      <td>0</td>\n      <td>0</td>\n      <td>0</td>\n      <td>0</td>\n      <td>0</td>\n      <td>0</td>\n      <td>0</td>\n      <td>0</td>\n      <td>0</td>\n      <td>play world number online action game engage in...</td>\n    </tr>\n    <tr>\n      <th>1</th>\n      <td>1000010</td>\n      <td>Crown Trick</td>\n      <td>Enter a labyrinth that moves as you move, wher...</td>\n      <td>Adventure, Indie, RPG, Strategy</td>\n      <td>Single-player, Partial Controller Support, Ste...</td>\n      <td>350000.0</td>\n      <td>4032</td>\n      <td>646</td>\n      <td>599</td>\n      <td>1999</td>\n      <td>...</td>\n      <td>1</td>\n      <td>0</td>\n      <td>0</td>\n      <td>0</td>\n      <td>0</td>\n      <td>0</td>\n      <td>0</td>\n      <td>0</td>\n      <td>0</td>\n      <td>enter labyrinth move move master element key d...</td>\n    </tr>\n    <tr>\n      <th>2</th>\n      <td>1000030</td>\n      <td>Cook, Serve, Delicious! 3?!</td>\n      <td>Cook, serve and manage your food truck as you ...</td>\n      <td>Action, Indie, Simulation, Strategy</td>\n      <td>Multi-player, Single-player, Co-op, Steam Achi...</td>\n      <td>150000.0</td>\n      <td>1575</td>\n      <td>115</td>\n      <td>1999</td>\n      <td>1999</td>\n      <td>...</td>\n      <td>1</td>\n      <td>1</td>\n      <td>1</td>\n      <td>1</td>\n      <td>0</td>\n      <td>0</td>\n      <td>0</td>\n      <td>0</td>\n      <td>0</td>\n      <td>cook serve manage food truck dish hundred diff...</td>\n    </tr>\n    <tr>\n      <th>3</th>\n      <td>1000080</td>\n      <td>Zengeon</td>\n      <td>Zengeon is an anime infused Action RPG and Rog...</td>\n      <td>Action, Adventure, Indie, RPG</td>\n      <td>Multi-player, Single-player, Steam Achievement...</td>\n      <td>150000.0</td>\n      <td>1018</td>\n      <td>462</td>\n      <td>799</td>\n      <td>1999</td>\n      <td>...</td>\n      <td>1</td>\n      <td>0</td>\n      <td>0</td>\n      <td>0</td>\n      <td>0</td>\n      <td>0</td>\n      <td>0</td>\n      <td>0</td>\n      <td>0</td>\n      <td>zengeon anime infuse action rpg roguelite sele...</td>\n    </tr>\n    <tr>\n      <th>4</th>\n      <td>1000360</td>\n      <td>Hellish Quart</td>\n      <td>A physics-based, realistic, 3D sword dueling g...</td>\n      <td>Action, Early Access</td>\n      <td>Multi-player, Single-player, Shared/Split Scre...</td>\n      <td>350000.0</td>\n      <td>4031</td>\n      <td>315</td>\n      <td>1699</td>\n      <td>1699</td>\n      <td>...</td>\n      <td>1</td>\n      <td>0</td>\n      <td>1</td>\n      <td>0</td>\n      <td>0</td>\n      <td>0</td>\n      <td>0</td>\n      <td>0</td>\n      <td>0</td>\n      <td>realistic sword duel game set century currentl...</td>\n    </tr>\n    <tr>\n      <th>...</th>\n      <td>...</td>\n      <td>...</td>\n      <td>...</td>\n      <td>...</td>\n      <td>...</td>\n      <td>...</td>\n      <td>...</td>\n      <td>...</td>\n      <td>...</td>\n      <td>...</td>\n      <td>...</td>\n      <td>...</td>\n      <td>...</td>\n      <td>...</td>\n      <td>...</td>\n      <td>...</td>\n      <td>...</td>\n      <td>...</td>\n      <td>...</td>\n      <td>...</td>\n      <td>...</td>\n    </tr>\n    <tr>\n      <th>18135</th>\n      <td>999410</td>\n      <td>Magnibox</td>\n      <td>A puzzle game about magnets designed for human...</td>\n      <td>Indie</td>\n      <td>Single-player, Steam Achievements, Full contro...</td>\n      <td>10000.0</td>\n      <td>48</td>\n      <td>2</td>\n      <td>499</td>\n      <td>499</td>\n      <td>...</td>\n      <td>1</td>\n      <td>0</td>\n      <td>0</td>\n      <td>0</td>\n      <td>0</td>\n      <td>0</td>\n      <td>0</td>\n      <td>0</td>\n      <td>0</td>\n      <td>puzzle game magnet design human brain</td>\n    </tr>\n    <tr>\n      <th>18136</th>\n      <td>999660</td>\n      <td>SAMURAI SHODOWN NEOGEO COLLECTION</td>\n      <td>The ULTIMATE collection is here! It all began ...</td>\n      <td>Action</td>\n      <td>Multi-player, Single-player, Steam Achievement...</td>\n      <td>10000.0</td>\n      <td>148</td>\n      <td>27</td>\n      <td>3999</td>\n      <td>3999</td>\n      <td>...</td>\n      <td>1</td>\n      <td>0</td>\n      <td>0</td>\n      <td>0</td>\n      <td>0</td>\n      <td>0</td>\n      <td>0</td>\n      <td>0</td>\n      <td>0</td>\n      <td>ultimate collection begin fighting game series...</td>\n    </tr>\n    <tr>\n      <th>18137</th>\n      <td>999730</td>\n      <td>Secret Neighbor Beta</td>\n      <td>Beta Runs Aug 2-19! A group of kids tries to s...</td>\n      <td>Action, Adventure, Indie</td>\n      <td>Multi-player, Online PvP, PvP</td>\n      <td>350000.0</td>\n      <td>2416</td>\n      <td>478</td>\n      <td>0</td>\n      <td>0</td>\n      <td>...</td>\n      <td>0</td>\n      <td>0</td>\n      <td>0</td>\n      <td>0</td>\n      <td>0</td>\n      <td>0</td>\n      <td>0</td>\n      <td>0</td>\n      <td>0</td>\n      <td>beta run aug group kid try sneak creepy neighb...</td>\n    </tr>\n    <tr>\n      <th>18138</th>\n      <td>999830</td>\n      <td>Becalm</td>\n      <td>Fancy a relaxing drift through magical waters?...</td>\n      <td>Casual, Free to Play, Indie</td>\n      <td>Single-player, Full controller support</td>\n      <td>75000.0</td>\n      <td>284</td>\n      <td>51</td>\n      <td>0</td>\n      <td>0</td>\n      <td>...</td>\n      <td>1</td>\n      <td>0</td>\n      <td>0</td>\n      <td>0</td>\n      <td>0</td>\n      <td>0</td>\n      <td>0</td>\n      <td>0</td>\n      <td>0</td>\n      <td>fancy relaxing drift magical water enjoy seafa...</td>\n    </tr>\n    <tr>\n      <th>18139</th>\n      <td>999860</td>\n      <td>Enemy On Board</td>\n      <td>Online (6v2) social deduction game that will r...</td>\n      <td>Action, Casual, Free to Play, Indie, Early Access</td>\n      <td>Multi-player, Co-op, Online PvP, Online Co-op,...</td>\n      <td>150000.0</td>\n      <td>1146</td>\n      <td>423</td>\n      <td>0</td>\n      <td>0</td>\n      <td>...</td>\n      <td>0</td>\n      <td>1</td>\n      <td>0</td>\n      <td>0</td>\n      <td>0</td>\n      <td>0</td>\n      <td>1</td>\n      <td>0</td>\n      <td>0</td>\n      <td>online social deduction game ruin friendship c...</td>\n    </tr>\n  </tbody>\n</table>\n<p>18140 rows × 56 columns</p>\n</div>"
     },
     "execution_count": 40,
     "metadata": {},
     "output_type": "execute_result"
    }
   ],
   "source": [
    "def preprocess_description(text):\n",
    "  text = text.lower()\n",
    "  temp_sent =[]\n",
    "  words = nltk.word_tokenize(text)\n",
    "  tags = nltk.pos_tag(words)\n",
    "  for i, word in enumerate(words):\n",
    "      if tags[i][1] in VERB_CODES:\n",
    "          lemmatized = lemmatizer.lemmatize(word, 'v')\n",
    "      else:\n",
    "          lemmatized = lemmatizer.lemmatize(word)\n",
    "      if lemmatized not in stop_words and lemmatized.isalpha():\n",
    "          temp_sent.append(lemmatized)\n",
    "\n",
    "  finalsent = ' '.join(temp_sent)\n",
    "  finalsent = finalsent.replace(\"n't\", \" not\")\n",
    "  finalsent = finalsent.replace(\"'m\", \" am\")\n",
    "  finalsent = finalsent.replace(\"'s\", \" is\")\n",
    "  finalsent = finalsent.replace(\"'re\", \" are\")\n",
    "  finalsent = finalsent.replace(\"'ll\", \" will\")\n",
    "  finalsent = finalsent.replace(\"'ve\", \" have\")\n",
    "  finalsent = finalsent.replace(\"'d\", \" would\")\n",
    "  return finalsent\n",
    "\n",
    "steam_games[\"Description_processed\"]= steam_games[\"Short Description\"].apply(preprocess_description)\n",
    "steam_games"
   ],
   "metadata": {
    "collapsed": false,
    "pycharm": {
     "name": "#%%\n"
    }
   }
  },
  {
   "cell_type": "code",
   "execution_count": 41,
   "outputs": [],
   "source": [
    "steam_games.set_index(\"App ID\", inplace=True)"
   ],
   "metadata": {
    "collapsed": false,
    "pycharm": {
     "name": "#%%\n"
    }
   }
  },
  {
   "cell_type": "code",
   "execution_count": 42,
   "outputs": [
    {
     "data": {
      "text/plain": "                                     Name  \\\nApp ID                                      \n230410                           Warframe   \n550                         Left 4 Dead 2   \n782330                       DOOM Eternal   \n899770                         Last Epoch   \n976730  Halo: The Master Chief Collection   \n\n                                        Short Description  \\\nApp ID                                                      \n230410  Awaken as an unstoppable warrior and battle al...   \n550     Set in the zombie apocalypse, Left 4 Dead 2 (L...   \n782330  Hell’s armies have invaded Earth. Become the S...   \n899770  Last Epoch combines time travel, exciting dung...   \n976730  The Master Chief’s iconic journey includes six...   \n\n                                              Genre  \\\nApp ID                                                \n230410                    Action, Free to Play, RPG   \n550                                          Action   \n782330                                       Action   \n899770  Action, Adventure, Indie, RPG, Early Access   \n976730                                       Action   \n\n                                               Categories      Owners  \\\nApp ID                                                                  \n230410  Multi-player, Single-player, Co-op, Steam Achi...  35000000.0   \n550     Multi-player, Single-player, Valve Anti-Cheat ...  35000000.0   \n782330  Multi-player, Single-player, Partial Controlle...   3500000.0   \n899770  Single-player, Partial Controller Support, Ste...    350000.0   \n976730  Multi-player, Single-player, Co-op, Steam Achi...   7500000.0   \n\n        Positive Reviews  Negative Reviews  Price  Initial Price  Discount  \\\nApp ID                                                                       \n230410            448616             68559      0              0         0   \n550               643836             16828    999            999         0   \n782330            144233             13946   3999           3999         0   \n899770             11883              1877   3499           3499         0   \n976730            181246             14148   3999           3999         0   \n\n        ...  Single-player Co-op  Shared/Split Screen  \\\nApp ID  ...                                             \n230410  ...              1     1                    0   \n550     ...              1     1                    0   \n782330  ...              1     0                    0   \n899770  ...              1     0                    0   \n976730  ...              1     1                    0   \n\n        Shared/Split Screen Co-op  MMO  Cross-Platform Multiplayer  \\\nApp ID                                                               \n230410                          0    0                           0   \n550                             0    0                           0   \n782330                          0    0                           0   \n899770                          0    0                           0   \n976730                          0    0                           1   \n\n        Online Co-op  LAN PvP  LAN Co-op  \\\nApp ID                                     \n230410             1        0          0   \n550                1        0          0   \n782330             0        0          0   \n899770             0        0          0   \n976730             1        1          1   \n\n                                    Description_processed  \nApp ID                                                     \n230410  awaken unstoppable warrior battle alongside fr...  \n550     set zombie apocalypse leave dead highly antici...  \n782330  hell army invade earth become slayer epic camp...  \n899770  last epoch combine time travel excite dungeon ...  \n976730  master chief iconic journey include six game b...  \n\n[5 rows x 55 columns]",
      "text/html": "<div>\n<style scoped>\n    .dataframe tbody tr th:only-of-type {\n        vertical-align: middle;\n    }\n\n    .dataframe tbody tr th {\n        vertical-align: top;\n    }\n\n    .dataframe thead th {\n        text-align: right;\n    }\n</style>\n<table border=\"1\" class=\"dataframe\">\n  <thead>\n    <tr style=\"text-align: right;\">\n      <th></th>\n      <th>Name</th>\n      <th>Short Description</th>\n      <th>Genre</th>\n      <th>Categories</th>\n      <th>Owners</th>\n      <th>Positive Reviews</th>\n      <th>Negative Reviews</th>\n      <th>Price</th>\n      <th>Initial Price</th>\n      <th>Discount</th>\n      <th>...</th>\n      <th>Single-player</th>\n      <th>Co-op</th>\n      <th>Shared/Split Screen</th>\n      <th>Shared/Split Screen Co-op</th>\n      <th>MMO</th>\n      <th>Cross-Platform Multiplayer</th>\n      <th>Online Co-op</th>\n      <th>LAN PvP</th>\n      <th>LAN Co-op</th>\n      <th>Description_processed</th>\n    </tr>\n    <tr>\n      <th>App ID</th>\n      <th></th>\n      <th></th>\n      <th></th>\n      <th></th>\n      <th></th>\n      <th></th>\n      <th></th>\n      <th></th>\n      <th></th>\n      <th></th>\n      <th></th>\n      <th></th>\n      <th></th>\n      <th></th>\n      <th></th>\n      <th></th>\n      <th></th>\n      <th></th>\n      <th></th>\n      <th></th>\n      <th></th>\n    </tr>\n  </thead>\n  <tbody>\n    <tr>\n      <th>230410</th>\n      <td>Warframe</td>\n      <td>Awaken as an unstoppable warrior and battle al...</td>\n      <td>Action, Free to Play, RPG</td>\n      <td>Multi-player, Single-player, Co-op, Steam Achi...</td>\n      <td>35000000.0</td>\n      <td>448616</td>\n      <td>68559</td>\n      <td>0</td>\n      <td>0</td>\n      <td>0</td>\n      <td>...</td>\n      <td>1</td>\n      <td>1</td>\n      <td>0</td>\n      <td>0</td>\n      <td>0</td>\n      <td>0</td>\n      <td>1</td>\n      <td>0</td>\n      <td>0</td>\n      <td>awaken unstoppable warrior battle alongside fr...</td>\n    </tr>\n    <tr>\n      <th>550</th>\n      <td>Left 4 Dead 2</td>\n      <td>Set in the zombie apocalypse, Left 4 Dead 2 (L...</td>\n      <td>Action</td>\n      <td>Multi-player, Single-player, Valve Anti-Cheat ...</td>\n      <td>35000000.0</td>\n      <td>643836</td>\n      <td>16828</td>\n      <td>999</td>\n      <td>999</td>\n      <td>0</td>\n      <td>...</td>\n      <td>1</td>\n      <td>1</td>\n      <td>0</td>\n      <td>0</td>\n      <td>0</td>\n      <td>0</td>\n      <td>1</td>\n      <td>0</td>\n      <td>0</td>\n      <td>set zombie apocalypse leave dead highly antici...</td>\n    </tr>\n    <tr>\n      <th>782330</th>\n      <td>DOOM Eternal</td>\n      <td>Hell’s armies have invaded Earth. Become the S...</td>\n      <td>Action</td>\n      <td>Multi-player, Single-player, Partial Controlle...</td>\n      <td>3500000.0</td>\n      <td>144233</td>\n      <td>13946</td>\n      <td>3999</td>\n      <td>3999</td>\n      <td>0</td>\n      <td>...</td>\n      <td>1</td>\n      <td>0</td>\n      <td>0</td>\n      <td>0</td>\n      <td>0</td>\n      <td>0</td>\n      <td>0</td>\n      <td>0</td>\n      <td>0</td>\n      <td>hell army invade earth become slayer epic camp...</td>\n    </tr>\n    <tr>\n      <th>899770</th>\n      <td>Last Epoch</td>\n      <td>Last Epoch combines time travel, exciting dung...</td>\n      <td>Action, Adventure, Indie, RPG, Early Access</td>\n      <td>Single-player, Partial Controller Support, Ste...</td>\n      <td>350000.0</td>\n      <td>11883</td>\n      <td>1877</td>\n      <td>3499</td>\n      <td>3499</td>\n      <td>0</td>\n      <td>...</td>\n      <td>1</td>\n      <td>0</td>\n      <td>0</td>\n      <td>0</td>\n      <td>0</td>\n      <td>0</td>\n      <td>0</td>\n      <td>0</td>\n      <td>0</td>\n      <td>last epoch combine time travel excite dungeon ...</td>\n    </tr>\n    <tr>\n      <th>976730</th>\n      <td>Halo: The Master Chief Collection</td>\n      <td>The Master Chief’s iconic journey includes six...</td>\n      <td>Action</td>\n      <td>Multi-player, Single-player, Co-op, Steam Achi...</td>\n      <td>7500000.0</td>\n      <td>181246</td>\n      <td>14148</td>\n      <td>3999</td>\n      <td>3999</td>\n      <td>0</td>\n      <td>...</td>\n      <td>1</td>\n      <td>1</td>\n      <td>0</td>\n      <td>0</td>\n      <td>0</td>\n      <td>1</td>\n      <td>1</td>\n      <td>1</td>\n      <td>1</td>\n      <td>master chief iconic journey include six game b...</td>\n    </tr>\n  </tbody>\n</table>\n<p>5 rows × 55 columns</p>\n</div>"
     },
     "execution_count": 42,
     "metadata": {},
     "output_type": "execute_result"
    }
   ],
   "source": [
    "most_played_5_appids_self = self_data[\"App ID\"][:5].tolist()\n",
    "most_played_5_appids_friend = friend_data[\"App ID\"][:5].tolist()\n",
    "user_df = steam_games[steam_games.index.isin(most_played_5_appids_self)]\n",
    "friend_df = steam_games[steam_games.index.isin(most_played_5_appids_friend)]\n",
    "user_df"
   ],
   "metadata": {
    "collapsed": false,
    "pycharm": {
     "name": "#%%\n"
    }
   }
  },
  {
   "cell_type": "code",
   "execution_count": 43,
   "outputs": [
    {
     "data": {
      "text/plain": "array([[1.        , 0.02080011, 0.        , ..., 0.03570537, 0.        ,\n        0.03432462],\n       [0.02080011, 1.        , 0.        , ..., 0.        , 0.        ,\n        0.        ],\n       [0.        , 0.        , 1.        , ..., 0.        , 0.        ,\n        0.        ],\n       ...,\n       [0.03570537, 0.        , 0.        , ..., 1.        , 0.        ,\n        0.02052822],\n       [0.        , 0.        , 0.        , ..., 0.        , 1.        ,\n        0.        ],\n       [0.03432462, 0.        , 0.        , ..., 0.02052822, 0.        ,\n        1.        ]])"
     },
     "execution_count": 43,
     "metadata": {},
     "output_type": "execute_result"
    }
   ],
   "source": [
    "from sklearn.feature_extraction.text import TfidfVectorizer\n",
    "\n",
    "vectorizer = TfidfVectorizer()\n",
    "tfidf_gamedesc = vectorizer.fit_transform(steam_games[\"Description_processed\"])\n",
    "\n",
    "from sklearn.metrics.pairwise import cosine_similarity\n",
    "cos_sim = cosine_similarity(tfidf_gamedesc, tfidf_gamedesc)\n",
    "cos_sim"
   ],
   "metadata": {
    "collapsed": false,
    "pycharm": {
     "name": "#%%\n"
    }
   }
  },
  {
   "cell_type": "code",
   "execution_count": 44,
   "outputs": [],
   "source": [
    "def give_plot_similarity(appid, cosine_sim=cos_sim):\n",
    "    steam_games_copy = steam_games.copy().reset_index()\n",
    "    index = steam_games_copy[steam_games_copy[\"App ID\"]==appid].index[0]\n",
    "    similarity_scores = pd.Series(cosine_sim[index])\n",
    "    steam_games_copy = steam_games_copy.join(similarity_scores.to_frame())\n",
    "    steam_games_copy.set_index(\"App ID\", inplace=True)\n",
    "    return steam_games_copy[0].rename(\"Description Similarity Score\")"
   ],
   "metadata": {
    "collapsed": false,
    "pycharm": {
     "name": "#%%\n"
    }
   }
  },
  {
   "cell_type": "code",
   "execution_count": 45,
   "outputs": [
    {
     "data": {
      "text/plain": "App ID\n10         0.068854\n1000010    0.000000\n1000030    0.000000\n1000080    0.030491\n1000360    0.007942\n             ...   \n999410     0.018973\n999660     0.018009\n999730     0.031084\n999830     0.000000\n999860     0.069243\nName: Description Similarity Score, Length: 18140, dtype: float64"
     },
     "execution_count": 45,
     "metadata": {},
     "output_type": "execute_result"
    }
   ],
   "source": [
    "give_plot_similarity(230410)"
   ],
   "metadata": {
    "collapsed": false,
    "pycharm": {
     "name": "#%%\n"
    }
   }
  },
  {
   "cell_type": "code",
   "execution_count": 46,
   "outputs": [
    {
     "data": {
      "text/plain": "array([[1., 0., 1., ..., 1., 0., 1.],\n       [0., 0., 0., ..., 0., 0., 0.],\n       [1., 0., 1., ..., 1., 0., 1.],\n       ...,\n       [1., 0., 1., ..., 1., 0., 1.],\n       [0., 0., 0., ..., 0., 0., 0.],\n       [1., 0., 1., ..., 1., 0., 1.]])"
     },
     "execution_count": 46,
     "metadata": {},
     "output_type": "execute_result"
    }
   ],
   "source": [
    "cosine_similarity(steam_games[\"Action\"].values.reshape(-1, 1), steam_games[\"Action\"].values.reshape(-1, 1))"
   ],
   "metadata": {
    "collapsed": false,
    "pycharm": {
     "name": "#%%\n"
    }
   }
  },
  {
   "cell_type": "code",
   "execution_count": 47,
   "outputs": [
    {
     "data": {
      "text/plain": "Index(['Name', 'Short Description', 'Genre', 'Categories', 'Owners',\n       'Positive Reviews', 'Negative Reviews', 'Price', 'Initial Price',\n       'Discount', 'CCU', 'Is Multiplayer', 'Review Ratio', 'Action',\n       'Adventure', 'Indie', 'RPG', 'Strategy', 'Simulation', 'Early Access',\n       'Free to Play', 'Casual', 'Sports', 'Racing', 'Animation & Modeling',\n       'Utilities', 'Massively Multiplayer', 'Design & Illustration',\n       'Web Publishing', 'Game Development', 'Audio Production',\n       'Video Production', 'Education', 'Photo Editing', 'Software Training',\n       'Accounting', 'Violent', 'Gore', 'Sexual Content', 'Nudity', 'Movie',\n       'Multi-player', 'Online PvP', 'Shared/Split Screen PvP', 'PvP',\n       'Single-player', 'Co-op', 'Shared/Split Screen',\n       'Shared/Split Screen Co-op', 'MMO', 'Cross-Platform Multiplayer',\n       'Online Co-op', 'LAN PvP', 'LAN Co-op', 'Description_processed'],\n      dtype='object')"
     },
     "execution_count": 47,
     "metadata": {},
     "output_type": "execute_result"
    }
   ],
   "source": [
    "steam_games.columns"
   ],
   "metadata": {
    "collapsed": false,
    "pycharm": {
     "name": "#%%\n"
    }
   }
  },
  {
   "cell_type": "code",
   "execution_count": 48,
   "outputs": [],
   "source": [
    "genres_category_columns = ['Action', 'Indie', 'Simulation',\n",
    "       'Strategy', 'Adventure', 'RPG', 'Early Access', 'Free to Play',\n",
    "       'Casual', 'Racing', 'Sports', 'Massively Multiplayer', 'Violent',\n",
    "       'Gore', 'Animation & Modeling', 'Education', 'Utilities',\n",
    "       'Web Publishing', 'Design & Illustration', 'Software Training',\n",
    "       'Game Development', 'Movie', 'Nudity', 'Sexual Content',\n",
    "       'Audio Production', 'Multi-player', 'Online PvP',\n",
    "       'Shared/Split Screen PvP', 'PvP', 'Single-player', 'Co-op',\n",
    "       'Shared/Split Screen', 'Shared/Split Screen Co-op', 'MMO',\n",
    "       'Cross-Platform Multiplayer', 'Online Co-op', 'LAN PvP', 'LAN Co-op']"
   ],
   "metadata": {
    "collapsed": false,
    "pycharm": {
     "name": "#%%\n"
    }
   }
  },
  {
   "cell_type": "code",
   "execution_count": 49,
   "outputs": [
    {
     "data": {
      "text/plain": "array([[1, 0, 0, ..., 0, 0, 0],\n       [0, 1, 0, ..., 0, 0, 0],\n       [1, 1, 1, ..., 0, 0, 0],\n       ...,\n       [1, 1, 0, ..., 0, 0, 0],\n       [0, 1, 0, ..., 0, 0, 0],\n       [1, 1, 0, ..., 1, 0, 0]])"
     },
     "execution_count": 49,
     "metadata": {},
     "output_type": "execute_result"
    }
   ],
   "source": [
    "steam_games[genres_category_columns].to_numpy()"
   ],
   "metadata": {
    "collapsed": false,
    "pycharm": {
     "name": "#%%\n"
    }
   }
  },
  {
   "cell_type": "code",
   "execution_count": 50,
   "outputs": [],
   "source": [
    "from scipy.spatial.distance import cosine\n",
    "\n",
    "def give_genre_category_similarity(appid):\n",
    "    steam_games_copy = steam_games.copy().reset_index()\n",
    "    index = steam_games_copy[steam_games_copy[\"App ID\"]==appid].index[0]\n",
    "    user_game = steam_games_copy[genres_category_columns].loc[index].values.reshape(-1, 1)\n",
    "    game_columns = steam_games_copy[genres_category_columns]\n",
    "    genre_category_similarity = []\n",
    "    for idx, row in game_columns.iterrows():\n",
    "        arr_data = row.values.reshape(-1, 1)\n",
    "        genre_category_similarity.append(1 - cosine(user_game, arr_data))\n",
    "    steam_games_copy[\"Genre Category Similarity\"] = genre_category_similarity\n",
    "    steam_games_copy.set_index(\"App ID\", inplace=True)\n",
    "    return steam_games_copy[\"Genre Category Similarity\"]"
   ],
   "metadata": {
    "collapsed": false,
    "pycharm": {
     "name": "#%%\n"
    }
   }
  },
  {
   "cell_type": "code",
   "execution_count": 51,
   "outputs": [
    {
     "name": "stderr",
     "output_type": "stream",
     "text": [
      "/Users/composer117/.conda/envs/Assignment_solution/lib/python3.9/site-packages/scipy/spatial/distance.py:699: RuntimeWarning: invalid value encountered in double_scalars\n",
      "  dist = 1.0 - uv / np.sqrt(uu * vv)\n"
     ]
    },
    {
     "data": {
      "text/plain": "App ID\n10         0.338062\n1000010    0.338062\n1000030    0.503953\n1000080    0.617213\n1000360    0.428571\n             ...   \n999410     0.267261\n999660     0.462910\n999730     0.308607\n999830     0.377964\n999860     0.597614\nName: Genre Category Similarity, Length: 18140, dtype: float64"
     },
     "execution_count": 51,
     "metadata": {},
     "output_type": "execute_result"
    }
   ],
   "source": [
    "give_genre_category_similarity(230410)"
   ],
   "metadata": {
    "collapsed": false,
    "pycharm": {
     "name": "#%%\n"
    }
   }
  },
  {
   "cell_type": "code",
   "execution_count": 52,
   "outputs": [],
   "source": [
    "from sklearn.preprocessing import MinMaxScaler\n",
    "\n",
    "def give_similarity(appid):\n",
    "    result = (10 * give_plot_similarity(appid)) + give_genre_category_similarity(appid)\n",
    "    scaler = MinMaxScaler()\n",
    "    steam_games_copy = steam_games.copy()\n",
    "    steam_games_copy[\"Game Similarity\"] = scaler.fit_transform(result.values.reshape(-1, 1))\n",
    "    return steam_games_copy[\"Game Similarity\"]"
   ],
   "metadata": {
    "collapsed": false,
    "pycharm": {
     "name": "#%%\n"
    }
   }
  },
  {
   "cell_type": "code",
   "execution_count": 53,
   "outputs": [
    {
     "name": "stderr",
     "output_type": "stream",
     "text": [
      "/Users/composer117/.conda/envs/Assignment_solution/lib/python3.9/site-packages/scipy/spatial/distance.py:699: RuntimeWarning: invalid value encountered in double_scalars\n",
      "  dist = 1.0 - uv / np.sqrt(uu * vv)\n"
     ]
    },
    {
     "data": {
      "text/plain": "App ID\n45740      0.297403\n412050     0.265568\n1665490    0.249751\n924970     0.249567\n1051290    0.230744\nName: Game Similarity, dtype: float64"
     },
     "execution_count": 53,
     "metadata": {},
     "output_type": "execute_result"
    }
   ],
   "source": [
    "give_similarity(550).sort_values(ascending=False)[1:6]"
   ],
   "metadata": {
    "collapsed": false,
    "pycharm": {
     "name": "#%%\n"
    }
   }
  },
  {
   "cell_type": "code",
   "execution_count": 77,
   "outputs": [],
   "source": [
    "user_games_appids_list = self_data[\"App ID\"].tolist()\n",
    "friend_games_appids_list = friend_data[\"App ID\"].tolist()"
   ],
   "metadata": {
    "collapsed": false,
    "pycharm": {
     "name": "#%%\n"
    }
   }
  },
  {
   "cell_type": "code",
   "execution_count": 93,
   "outputs": [],
   "source": [
    "def give_similarity_for_user_and_friend(user_data, friend_data, app_user_list, app_friend_list):\n",
    "    owned_games = list(set(app_user_list+app_friend_list))\n",
    "    common_data = pd.concat([user_data, friend_data]).drop_duplicates()\n",
    "    app_ids = common_data.index.to_list()\n",
    "    similarity_games = give_similarity(app_ids[0])\n",
    "    for i in range(1, len(app_ids)):\n",
    "        similarity_games = similarity_games + give_similarity(app_ids[i])\n",
    "    scaler = MinMaxScaler()\n",
    "    steam_games_copy = steam_games.copy()\n",
    "    steam_games_copy[\"Cumulative Game Similarity\"] = scaler.fit_transform(similarity_games.values.reshape(-1, 1))\n",
    "    steam_games_copy = steam_games_copy.drop(owned_games, errors=\"ignore\")\n",
    "    steam_games_copy = steam_games_copy[steam_games_copy[\"Is Multiplayer\"]==\"Y\"]\n",
    "    steam_games_copy[\"Cumulative Game Similarity\"] = steam_games_copy[\"Cumulative Game Similarity\"].round(decimals=1)\n",
    "    steam_games_copy = steam_games_copy.sort_values(by=[\"Cumulative Game Similarity\", \"CCU\"], ascending=[False, False])\n",
    "    return steam_games_copy"
   ],
   "metadata": {
    "collapsed": false,
    "pycharm": {
     "name": "#%%\n"
    }
   }
  },
  {
   "cell_type": "code",
   "execution_count": 94,
   "outputs": [
    {
     "name": "stderr",
     "output_type": "stream",
     "text": [
      "/Users/composer117/.conda/envs/Assignment_solution/lib/python3.9/site-packages/scipy/spatial/distance.py:699: RuntimeWarning: invalid value encountered in double_scalars\n",
      "  dist = 1.0 - uv / np.sqrt(uu * vv)\n",
      "/Users/composer117/.conda/envs/Assignment_solution/lib/python3.9/site-packages/scipy/spatial/distance.py:699: RuntimeWarning: invalid value encountered in double_scalars\n",
      "  dist = 1.0 - uv / np.sqrt(uu * vv)\n",
      "/Users/composer117/.conda/envs/Assignment_solution/lib/python3.9/site-packages/scipy/spatial/distance.py:699: RuntimeWarning: invalid value encountered in double_scalars\n",
      "  dist = 1.0 - uv / np.sqrt(uu * vv)\n",
      "/Users/composer117/.conda/envs/Assignment_solution/lib/python3.9/site-packages/scipy/spatial/distance.py:699: RuntimeWarning: invalid value encountered in double_scalars\n",
      "  dist = 1.0 - uv / np.sqrt(uu * vv)\n",
      "/Users/composer117/.conda/envs/Assignment_solution/lib/python3.9/site-packages/scipy/spatial/distance.py:699: RuntimeWarning: invalid value encountered in double_scalars\n",
      "  dist = 1.0 - uv / np.sqrt(uu * vv)\n",
      "/Users/composer117/.conda/envs/Assignment_solution/lib/python3.9/site-packages/scipy/spatial/distance.py:699: RuntimeWarning: invalid value encountered in double_scalars\n",
      "  dist = 1.0 - uv / np.sqrt(uu * vv)\n",
      "/Users/composer117/.conda/envs/Assignment_solution/lib/python3.9/site-packages/scipy/spatial/distance.py:699: RuntimeWarning: invalid value encountered in double_scalars\n",
      "  dist = 1.0 - uv / np.sqrt(uu * vv)\n",
      "/Users/composer117/.conda/envs/Assignment_solution/lib/python3.9/site-packages/scipy/spatial/distance.py:699: RuntimeWarning: invalid value encountered in double_scalars\n",
      "  dist = 1.0 - uv / np.sqrt(uu * vv)\n",
      "/Users/composer117/.conda/envs/Assignment_solution/lib/python3.9/site-packages/scipy/spatial/distance.py:699: RuntimeWarning: invalid value encountered in double_scalars\n",
      "  dist = 1.0 - uv / np.sqrt(uu * vv)\n"
     ]
    },
    {
     "data": {
      "text/plain": "                                         Name  \\\nApp ID                                          \n1072420               DRAGON QUEST BUILDERS 2   \n235540      Warhammer: End Times - Vermintide   \n1101190           Dungeon Defenders: Awakened   \n507490   Ashes of the Singularity: Escalation   \n623280      Dungeons & Dragons: Dark Alliance   \n...                                       ...   \n42980                     Victoria I Complete   \n895040                        CSC | Space MMO   \n1299900                Everland (Stress Test)   \n348030                       Trackday Manager   \n394120                          Atom Universe   \n\n                                         Short Description  \\\nApp ID                                                       \n1072420  DRAGON QUEST BUILDERS™ 2 is a block-building R...   \n235540   Vermintide is an epic co-operative action comb...   \n1101190  Dungeon Defenders: Awakened is co-op Tower Def...   \n507490   A massive-scale real-time strategy game where ...   \n623280   The world of Dungeons &amp; Dragons comes to l...   \n...                                                    ...   \n42980    Carefully guide your nation from the era of ab...   \n895040   CSC is a casual space MMO with fast-paced comb...   \n1299900  Social online world releasing in 2020 — hoping...   \n348030   Ready for something new? Trackday Manager intr...   \n394120   Atom Universe is a Free-to-Play social Virtual...   \n\n                                               Genre  \\\nApp ID                                                 \n1072420                       Action, Adventure, RPG   \n235540                                 Action, Indie   \n1101190      Action, Adventure, Indie, RPG, Strategy   \n507490                   Indie, Simulation, Strategy   \n623280                                   Action, RPG   \n...                                              ...   \n42980                                       Strategy   \n895040           Free to Play, Massively Multiplayer   \n1299900  Casual, Free to Play, Massively Multiplayer   \n348030          Racing, Simulation, Sports, Strategy   \n394120   Casual, Free to Play, Massively Multiplayer   \n\n                                                Categories     Owners  \\\nApp ID                                                                  \n1072420  Multi-player, Single-player, Co-op, Stats, Ste...   350000.0   \n235540   Multi-player, Single-player, Co-op, Captions a...  1500000.0   \n1101190  Multi-player, Single-player, Co-op, Steam Achi...   150000.0   \n507490   Multi-player, Single-player, Co-op, Stats, Inc...   750000.0   \n623280   Multi-player, Single-player, Co-op, Steam Achi...   150000.0   \n...                                                    ...        ...   \n42980                                         Multi-player   150000.0   \n895040   Multi-player, MMO, Cross-Platform Multiplayer,...    35000.0   \n1299900                                  Multi-player, MMO   150000.0   \n348030       Multi-player, Steam Achievements, Steam Cloud    75000.0   \n394120   Multi-player, MMO, Steam Achievements, Cross-P...   150000.0   \n\n         Positive Reviews  Negative Reviews  Price  Initial Price  Discount  \\\nApp ID                                                                        \n1072420              5023               460   4999           4999         0   \n235540              15939              3998    299           2999        90   \n1101190              2698              1348   2999           2999         0   \n507490               3234              1038   2999           2999         0   \n623280               2248              2255   2999           2999         0   \n...                   ...               ...    ...            ...       ...   \n42980                 151                59    999            999         0   \n895040                298               183      0              0         0   \n1299900               264                16      0              0         0   \n348030                183               146      0              0         0   \n394120                165               264      0              0         0   \n\n         ...  Co-op Shared/Split Screen  Shared/Split Screen Co-op  MMO  \\\nApp ID   ...                                                              \n1072420  ...      1                   0                          0    0   \n235540   ...      1                   0                          0    0   \n1101190  ...      1                   0                          0    0   \n507490   ...      1                   0                          0    0   \n623280   ...      1                   0                          0    0   \n...      ...    ...                 ...                        ...  ...   \n42980    ...      0                   0                          0    0   \n895040   ...      0                   0                          0    1   \n1299900  ...      0                   0                          0    1   \n348030   ...      0                   0                          0    0   \n394120   ...      0                   0                          0    1   \n\n         Cross-Platform Multiplayer  Online Co-op  LAN PvP  LAN Co-op  \\\nApp ID                                                                  \n1072420                           0             1        0          0   \n235540                            0             1        0          0   \n1101190                           0             1        0          0   \n507490                            0             1        0          0   \n623280                            0             1        0          0   \n...                             ...           ...      ...        ...   \n42980                             0             0        0          0   \n895040                            1             0        0          0   \n1299900                           0             0        0          0   \n348030                            0             0        0          0   \n394120                            1             0        0          0   \n\n                                     Description_processed  \\\nApp ID                                                       \n1072420  dragon quest rpg set fantasy land threaten evi...   \n235540   vermintide epic action combat adventure set en...   \n1101190  dungeon defender awaken tower defense combine ...   \n507490   strategy game command entire army dynamic batt...   \n623280   world dungeon amp dragon come life explosive a...   \n...                                                    ...   \n42980    carefully guide nation era absolute monarchy e...   \n895040   csc casual space mmo combat robust player econ...   \n1299900  social online world release hop help people fi...   \n348030   ready something new trackday manager introduce...   \n394120   atom universe social virtual world theme park ...   \n\n         Cumulative Game Similarity  \nApp ID                               \n1072420                         0.6  \n235540                          0.6  \n1101190                         0.6  \n507490                          0.6  \n623280                          0.6  \n...                             ...  \n42980                           0.1  \n895040                          0.1  \n1299900                         0.1  \n348030                          0.1  \n394120                          0.1  \n\n[5195 rows x 56 columns]",
      "text/html": "<div>\n<style scoped>\n    .dataframe tbody tr th:only-of-type {\n        vertical-align: middle;\n    }\n\n    .dataframe tbody tr th {\n        vertical-align: top;\n    }\n\n    .dataframe thead th {\n        text-align: right;\n    }\n</style>\n<table border=\"1\" class=\"dataframe\">\n  <thead>\n    <tr style=\"text-align: right;\">\n      <th></th>\n      <th>Name</th>\n      <th>Short Description</th>\n      <th>Genre</th>\n      <th>Categories</th>\n      <th>Owners</th>\n      <th>Positive Reviews</th>\n      <th>Negative Reviews</th>\n      <th>Price</th>\n      <th>Initial Price</th>\n      <th>Discount</th>\n      <th>...</th>\n      <th>Co-op</th>\n      <th>Shared/Split Screen</th>\n      <th>Shared/Split Screen Co-op</th>\n      <th>MMO</th>\n      <th>Cross-Platform Multiplayer</th>\n      <th>Online Co-op</th>\n      <th>LAN PvP</th>\n      <th>LAN Co-op</th>\n      <th>Description_processed</th>\n      <th>Cumulative Game Similarity</th>\n    </tr>\n    <tr>\n      <th>App ID</th>\n      <th></th>\n      <th></th>\n      <th></th>\n      <th></th>\n      <th></th>\n      <th></th>\n      <th></th>\n      <th></th>\n      <th></th>\n      <th></th>\n      <th></th>\n      <th></th>\n      <th></th>\n      <th></th>\n      <th></th>\n      <th></th>\n      <th></th>\n      <th></th>\n      <th></th>\n      <th></th>\n      <th></th>\n    </tr>\n  </thead>\n  <tbody>\n    <tr>\n      <th>1072420</th>\n      <td>DRAGON QUEST BUILDERS 2</td>\n      <td>DRAGON QUEST BUILDERS™ 2 is a block-building R...</td>\n      <td>Action, Adventure, RPG</td>\n      <td>Multi-player, Single-player, Co-op, Stats, Ste...</td>\n      <td>350000.0</td>\n      <td>5023</td>\n      <td>460</td>\n      <td>4999</td>\n      <td>4999</td>\n      <td>0</td>\n      <td>...</td>\n      <td>1</td>\n      <td>0</td>\n      <td>0</td>\n      <td>0</td>\n      <td>0</td>\n      <td>1</td>\n      <td>0</td>\n      <td>0</td>\n      <td>dragon quest rpg set fantasy land threaten evi...</td>\n      <td>0.6</td>\n    </tr>\n    <tr>\n      <th>235540</th>\n      <td>Warhammer: End Times - Vermintide</td>\n      <td>Vermintide is an epic co-operative action comb...</td>\n      <td>Action, Indie</td>\n      <td>Multi-player, Single-player, Co-op, Captions a...</td>\n      <td>1500000.0</td>\n      <td>15939</td>\n      <td>3998</td>\n      <td>299</td>\n      <td>2999</td>\n      <td>90</td>\n      <td>...</td>\n      <td>1</td>\n      <td>0</td>\n      <td>0</td>\n      <td>0</td>\n      <td>0</td>\n      <td>1</td>\n      <td>0</td>\n      <td>0</td>\n      <td>vermintide epic action combat adventure set en...</td>\n      <td>0.6</td>\n    </tr>\n    <tr>\n      <th>1101190</th>\n      <td>Dungeon Defenders: Awakened</td>\n      <td>Dungeon Defenders: Awakened is co-op Tower Def...</td>\n      <td>Action, Adventure, Indie, RPG, Strategy</td>\n      <td>Multi-player, Single-player, Co-op, Steam Achi...</td>\n      <td>150000.0</td>\n      <td>2698</td>\n      <td>1348</td>\n      <td>2999</td>\n      <td>2999</td>\n      <td>0</td>\n      <td>...</td>\n      <td>1</td>\n      <td>0</td>\n      <td>0</td>\n      <td>0</td>\n      <td>0</td>\n      <td>1</td>\n      <td>0</td>\n      <td>0</td>\n      <td>dungeon defender awaken tower defense combine ...</td>\n      <td>0.6</td>\n    </tr>\n    <tr>\n      <th>507490</th>\n      <td>Ashes of the Singularity: Escalation</td>\n      <td>A massive-scale real-time strategy game where ...</td>\n      <td>Indie, Simulation, Strategy</td>\n      <td>Multi-player, Single-player, Co-op, Stats, Inc...</td>\n      <td>750000.0</td>\n      <td>3234</td>\n      <td>1038</td>\n      <td>2999</td>\n      <td>2999</td>\n      <td>0</td>\n      <td>...</td>\n      <td>1</td>\n      <td>0</td>\n      <td>0</td>\n      <td>0</td>\n      <td>0</td>\n      <td>1</td>\n      <td>0</td>\n      <td>0</td>\n      <td>strategy game command entire army dynamic batt...</td>\n      <td>0.6</td>\n    </tr>\n    <tr>\n      <th>623280</th>\n      <td>Dungeons &amp; Dragons: Dark Alliance</td>\n      <td>The world of Dungeons &amp;amp; Dragons comes to l...</td>\n      <td>Action, RPG</td>\n      <td>Multi-player, Single-player, Co-op, Steam Achi...</td>\n      <td>150000.0</td>\n      <td>2248</td>\n      <td>2255</td>\n      <td>2999</td>\n      <td>2999</td>\n      <td>0</td>\n      <td>...</td>\n      <td>1</td>\n      <td>0</td>\n      <td>0</td>\n      <td>0</td>\n      <td>0</td>\n      <td>1</td>\n      <td>0</td>\n      <td>0</td>\n      <td>world dungeon amp dragon come life explosive a...</td>\n      <td>0.6</td>\n    </tr>\n    <tr>\n      <th>...</th>\n      <td>...</td>\n      <td>...</td>\n      <td>...</td>\n      <td>...</td>\n      <td>...</td>\n      <td>...</td>\n      <td>...</td>\n      <td>...</td>\n      <td>...</td>\n      <td>...</td>\n      <td>...</td>\n      <td>...</td>\n      <td>...</td>\n      <td>...</td>\n      <td>...</td>\n      <td>...</td>\n      <td>...</td>\n      <td>...</td>\n      <td>...</td>\n      <td>...</td>\n      <td>...</td>\n    </tr>\n    <tr>\n      <th>42980</th>\n      <td>Victoria I Complete</td>\n      <td>Carefully guide your nation from the era of ab...</td>\n      <td>Strategy</td>\n      <td>Multi-player</td>\n      <td>150000.0</td>\n      <td>151</td>\n      <td>59</td>\n      <td>999</td>\n      <td>999</td>\n      <td>0</td>\n      <td>...</td>\n      <td>0</td>\n      <td>0</td>\n      <td>0</td>\n      <td>0</td>\n      <td>0</td>\n      <td>0</td>\n      <td>0</td>\n      <td>0</td>\n      <td>carefully guide nation era absolute monarchy e...</td>\n      <td>0.1</td>\n    </tr>\n    <tr>\n      <th>895040</th>\n      <td>CSC | Space MMO</td>\n      <td>CSC is a casual space MMO with fast-paced comb...</td>\n      <td>Free to Play, Massively Multiplayer</td>\n      <td>Multi-player, MMO, Cross-Platform Multiplayer,...</td>\n      <td>35000.0</td>\n      <td>298</td>\n      <td>183</td>\n      <td>0</td>\n      <td>0</td>\n      <td>0</td>\n      <td>...</td>\n      <td>0</td>\n      <td>0</td>\n      <td>0</td>\n      <td>1</td>\n      <td>1</td>\n      <td>0</td>\n      <td>0</td>\n      <td>0</td>\n      <td>csc casual space mmo combat robust player econ...</td>\n      <td>0.1</td>\n    </tr>\n    <tr>\n      <th>1299900</th>\n      <td>Everland (Stress Test)</td>\n      <td>Social online world releasing in 2020 — hoping...</td>\n      <td>Casual, Free to Play, Massively Multiplayer</td>\n      <td>Multi-player, MMO</td>\n      <td>150000.0</td>\n      <td>264</td>\n      <td>16</td>\n      <td>0</td>\n      <td>0</td>\n      <td>0</td>\n      <td>...</td>\n      <td>0</td>\n      <td>0</td>\n      <td>0</td>\n      <td>1</td>\n      <td>0</td>\n      <td>0</td>\n      <td>0</td>\n      <td>0</td>\n      <td>social online world release hop help people fi...</td>\n      <td>0.1</td>\n    </tr>\n    <tr>\n      <th>348030</th>\n      <td>Trackday Manager</td>\n      <td>Ready for something new? Trackday Manager intr...</td>\n      <td>Racing, Simulation, Sports, Strategy</td>\n      <td>Multi-player, Steam Achievements, Steam Cloud</td>\n      <td>75000.0</td>\n      <td>183</td>\n      <td>146</td>\n      <td>0</td>\n      <td>0</td>\n      <td>0</td>\n      <td>...</td>\n      <td>0</td>\n      <td>0</td>\n      <td>0</td>\n      <td>0</td>\n      <td>0</td>\n      <td>0</td>\n      <td>0</td>\n      <td>0</td>\n      <td>ready something new trackday manager introduce...</td>\n      <td>0.1</td>\n    </tr>\n    <tr>\n      <th>394120</th>\n      <td>Atom Universe</td>\n      <td>Atom Universe is a Free-to-Play social Virtual...</td>\n      <td>Casual, Free to Play, Massively Multiplayer</td>\n      <td>Multi-player, MMO, Steam Achievements, Cross-P...</td>\n      <td>150000.0</td>\n      <td>165</td>\n      <td>264</td>\n      <td>0</td>\n      <td>0</td>\n      <td>0</td>\n      <td>...</td>\n      <td>0</td>\n      <td>0</td>\n      <td>0</td>\n      <td>1</td>\n      <td>1</td>\n      <td>0</td>\n      <td>0</td>\n      <td>0</td>\n      <td>atom universe social virtual world theme park ...</td>\n      <td>0.1</td>\n    </tr>\n  </tbody>\n</table>\n<p>5195 rows × 56 columns</p>\n</div>"
     },
     "execution_count": 94,
     "metadata": {},
     "output_type": "execute_result"
    }
   ],
   "source": [
    "give_similarity_for_user_and_friend(user_df, friend_df, user_games_appids_list, friend_games_appids_list)"
   ],
   "metadata": {
    "collapsed": false,
    "pycharm": {
     "name": "#%%\n"
    }
   }
  },
  {
   "cell_type": "code",
   "execution_count": null,
   "outputs": [],
   "source": [],
   "metadata": {
    "collapsed": false,
    "pycharm": {
     "name": "#%%\n"
    }
   }
  }
 ],
 "metadata": {
  "kernelspec": {
   "display_name": "Python 3",
   "language": "python",
   "name": "python3"
  },
  "language_info": {
   "codemirror_mode": {
    "name": "ipython",
    "version": 2
   },
   "file_extension": ".py",
   "mimetype": "text/x-python",
   "name": "python",
   "nbconvert_exporter": "python",
   "pygments_lexer": "ipython2",
   "version": "2.7.6"
  }
 },
 "nbformat": 4,
 "nbformat_minor": 0
}